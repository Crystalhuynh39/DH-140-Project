{
 "cells": [
  {
   "cell_type": "markdown",
   "id": "8fa52e95-2f3b-4f8b-98b8-17cd9f335399",
   "metadata": {},
   "source": [
    "# What Sentiment Analysis Can Reveal About Common Speech Patterns\n",
    "\n",
    "## Digital Humanities 140 Coding for Humanities with Professor Winjum at UCLA Winter 2022\n",
    "\n",
    "#### 3/14/2022 | Crystal Huynh, Larry Qu, Nelson Truong"
   ]
  },
  {
   "cell_type": "markdown",
   "id": "ffe3b807-5427-4e04-87c0-3d04deef1b4c",
   "metadata": {},
   "source": [
    "### Introduction\n",
    "(an overview of your entire project, your research topic and question, your motivation to study this topic, and any prior related work) (will delete these directions later)\n",
    "\n",
    "#### Project Overview\n",
    "This project analyzes the sentiment of a movie reviews dataset using Python through Jupyter Notebooks. \n",
    "\n",
    "#### Research Question: What common speech patterns can be found in positive and negative commentary?\n",
    "Our group wanted to explore how people tend to speak when talking in an extremely positive and negative manner, especially in the context of movie reviews. Are there specific words that are frequently used when speaking in a positive sentiment versus a negative one? How often do those words show up in speech? How polarizing are these frequently used words? Do people tend to speak more when they are feeling positive or negative about something? This is the first step that we want to take when analyzing the speech patterns of movie reviews.\n",
    "\n",
    "#### Why It Matters\n",
    "With this information, we can later see whether these patterns match typical human behavior/speech, or if they are more specific in an online, more anonymous environment. We can use our findings to potentially see how polarizing these spaces are and how they affect our society in the long run as this type of analysis can also be used on things like social media comments and news articles where commentary can be even more polarizing. As we explore speech patterns in settings outside of normal, in person conversation, we can get a better idea of how people truly think and feel in certain environments or how people will think and feel given what we already know. "
   ]
  },
  {
   "cell_type": "markdown",
   "id": "63ac186d-ed9b-4099-b741-24015ef1ef9b",
   "metadata": {
    "jp-MarkdownHeadingCollapsed": true,
    "tags": []
   },
   "source": [
    "### Methods\n",
    "(explain your data and your analytical process)\n",
    "\n",
    "#### Data Source\n",
    "[IMDB Dataset of 50K Movie Reviews](https://www.kaggle.com/lakshmi25npathi/imdb-dataset-of-50k-movie-reviews)\n",
    "\n",
    "[More Dataset Information](http://ai.stanford.edu/~amaas/data/sentiment/)\n",
    "\n",
    "We are using the IMDB Dataset of 50K Movie Reviews Large Movie Review Dataset from kaggle which contains 50K movie reviews. This dataset can be used for binary sentiment classification as it contains highly polar positive and negative movie reviews for training and testing.\n",
    "\n",
    "The dataset contains two columns, one which contains the movie review text and the other with its corresponding sentiment categorization of positive or negative. Both the review and sentiment columns are object data types which represent strings.\n",
    "\n",
    "We also need to acknowledge the shortcomings of our dataset. Although there is not much information on where the reviews are from, we can assume the reviews cover multple movies. With that being said, we also do not know what time period these reviews are from, the criteria for being described as \"highly polar\", or the backgrounds of the people who made these reviews. The context in which these reviews were made would have provided more insight into common behavioral patterns.  \n",
    "\n",
    "[Negative Words](https://gist.github.com/mkulakowski2/4289441)\n",
    "\n",
    "[Positive Words](https://gist.github.com/mkulakowski2/4289437)\n",
    "\n",
    "In order to indentify the positive and negative words, we can easily scan the web for premade datasets. These two shown above are datasets containing negative and positive words, respectively, that we can use to analyze our movie reviews with. These datasets may help us recognize whether a review is actually negative/positive based on the words used, the most common words used in a negative/positive statement, how the context matters when using negative/positive words, and other speech patterns.\n",
    "\n",
    "#### Project Scope\n",
    "The intended analysis is to see what are the common \"positive\" and \"negative\" words being used and how often they are used. The resulting visualizations for this would probably be something like a bar chart highlighting the ten most common \"positive\" and \"negative\" words and how often they appear in the dataset. We can also how long \"positive\" reviews are compared to \"negative\" reviews by checking the word count for each review and plotting the total word count frequency in a separate bar chart. Another analysis we could do is categorize common \"positive\" and \"negative\" words to see how polarizing they really are and plot this on another bar chart to visualize the scale of how positive \"positive\" reviews are and how negative \"negative\" reviews are.\n",
    "\n",
    "#### Analytical Process\n",
    "We will first start by exploring our dataset as a whole to better understand how we can utilize the data we have to answer our research question. We know that the dataset contains both positive and negative reviews, so we will also explore the positive and negative reviews separately. When looking at positive and negative reviews separately, we'll run code to calculate a sentiment score on each review to compare the score with the original sentiment categorization. We'll also conduct a word frequency analysis to see what kinds of words are bing used in a negative/positive context.\n",
    "\n",
    "add more\n",
    "\n",
    "#### Expected Insights\n",
    "We expect to see more polarizing \"positive\" and \"negative\" reviews to be lengthier in word count as people tend to speak more than they are feeling extremely \"positive\" or \"negative\" which is typical in normal, everyday, real life behavior. However, many people tend to not show their true thoughts and feelings when speaking in public, so perhaps in spaces like movie reviews, people's wording may be more polarizing than if they were to be giving the review in person. In other words, their online, anonymous reviews may be a lot more emotional and biased than what people would typically say aloud. We might see that although online commentary may reflect human behavior in that it represents what people actually are thinking and feeling, it may not be representative of what people would normally say to others. However, organizations can use these findings to gauge a more truthful reaction from the public for their respective initiatives and campaigns to see what they need to improve upon in order to generate a positive response."
   ]
  },
  {
   "cell_type": "markdown",
   "id": "198b4aa8-dceb-46aa-b054-2969bc9d07b2",
   "metadata": {},
   "source": [
    "### Results \n",
    "(lay out your data exploration, your findings, and your visuals)"
   ]
  },
  {
   "cell_type": "code",
   "execution_count": 1,
   "id": "b3043b87-76df-4152-a68f-3dc1ad2cea07",
   "metadata": {},
   "outputs": [
    {
     "name": "stderr",
     "output_type": "stream",
     "text": [
      "[nltk_data] Downloading package stopwords to /home/jovyan/nltk_data...\n",
      "[nltk_data]   Package stopwords is already up-to-date!\n",
      "[nltk_data] Downloading package vader_lexicon to\n",
      "[nltk_data]     /home/jovyan/nltk_data...\n",
      "[nltk_data]   Package vader_lexicon is already up-to-date!\n"
     ]
    }
   ],
   "source": [
    "import pandas as pd\n",
    "import nltk\n",
    "from nltk.tokenize import word_tokenize, sent_tokenize\n",
    "from nltk.corpus import stopwords\n",
    "from string import punctuation\n",
    "nltk.download('stopwords')\n",
    "from nltk.probability import FreqDist\n",
    "from nltk.stem import WordNetLemmatizer\n",
    "from nltk.sentiment import vader\n",
    "nltk.download('vader_lexicon')\n",
    "import numpy as np\n",
    "import matplotlib.pyplot as plt"
   ]
  },
  {
   "cell_type": "markdown",
   "id": "1e8239b4-852d-4d3c-a2cb-f00f3f75ae19",
   "metadata": {},
   "source": [
    "#### Data Exploration\n",
    "\n",
    "In this section, we will be taking a closer look into our dataset to better understand the information it provides and how we can utilize it in our analysis to answer our research question."
   ]
  },
  {
   "cell_type": "code",
   "execution_count": 2,
   "id": "97e035fc-5728-4773-a2a4-8ebbc37da7f0",
   "metadata": {},
   "outputs": [
    {
     "data": {
      "text/html": [
       "<div>\n",
       "<style scoped>\n",
       "    .dataframe tbody tr th:only-of-type {\n",
       "        vertical-align: middle;\n",
       "    }\n",
       "\n",
       "    .dataframe tbody tr th {\n",
       "        vertical-align: top;\n",
       "    }\n",
       "\n",
       "    .dataframe thead th {\n",
       "        text-align: right;\n",
       "    }\n",
       "</style>\n",
       "<table border=\"1\" class=\"dataframe\">\n",
       "  <thead>\n",
       "    <tr style=\"text-align: right;\">\n",
       "      <th></th>\n",
       "      <th>review</th>\n",
       "      <th>sentiment</th>\n",
       "    </tr>\n",
       "  </thead>\n",
       "  <tbody>\n",
       "    <tr>\n",
       "      <th>0</th>\n",
       "      <td>One of the other reviewers has mentioned that ...</td>\n",
       "      <td>positive</td>\n",
       "    </tr>\n",
       "    <tr>\n",
       "      <th>1</th>\n",
       "      <td>A wonderful little production. &lt;br /&gt;&lt;br /&gt;The...</td>\n",
       "      <td>positive</td>\n",
       "    </tr>\n",
       "    <tr>\n",
       "      <th>2</th>\n",
       "      <td>I thought this was a wonderful way to spend ti...</td>\n",
       "      <td>positive</td>\n",
       "    </tr>\n",
       "    <tr>\n",
       "      <th>3</th>\n",
       "      <td>Basically there's a family where a little boy ...</td>\n",
       "      <td>negative</td>\n",
       "    </tr>\n",
       "    <tr>\n",
       "      <th>4</th>\n",
       "      <td>Petter Mattei's \"Love in the Time of Money\" is...</td>\n",
       "      <td>positive</td>\n",
       "    </tr>\n",
       "    <tr>\n",
       "      <th>...</th>\n",
       "      <td>...</td>\n",
       "      <td>...</td>\n",
       "    </tr>\n",
       "    <tr>\n",
       "      <th>49995</th>\n",
       "      <td>I thought this movie did a down right good job...</td>\n",
       "      <td>positive</td>\n",
       "    </tr>\n",
       "    <tr>\n",
       "      <th>49996</th>\n",
       "      <td>Bad plot, bad dialogue, bad acting, idiotic di...</td>\n",
       "      <td>negative</td>\n",
       "    </tr>\n",
       "    <tr>\n",
       "      <th>49997</th>\n",
       "      <td>I am a Catholic taught in parochial elementary...</td>\n",
       "      <td>negative</td>\n",
       "    </tr>\n",
       "    <tr>\n",
       "      <th>49998</th>\n",
       "      <td>I'm going to have to disagree with the previou...</td>\n",
       "      <td>negative</td>\n",
       "    </tr>\n",
       "    <tr>\n",
       "      <th>49999</th>\n",
       "      <td>No one expects the Star Trek movies to be high...</td>\n",
       "      <td>negative</td>\n",
       "    </tr>\n",
       "  </tbody>\n",
       "</table>\n",
       "<p>50000 rows × 2 columns</p>\n",
       "</div>"
      ],
      "text/plain": [
       "                                                  review sentiment\n",
       "0      One of the other reviewers has mentioned that ...  positive\n",
       "1      A wonderful little production. <br /><br />The...  positive\n",
       "2      I thought this was a wonderful way to spend ti...  positive\n",
       "3      Basically there's a family where a little boy ...  negative\n",
       "4      Petter Mattei's \"Love in the Time of Money\" is...  positive\n",
       "...                                                  ...       ...\n",
       "49995  I thought this movie did a down right good job...  positive\n",
       "49996  Bad plot, bad dialogue, bad acting, idiotic di...  negative\n",
       "49997  I am a Catholic taught in parochial elementary...  negative\n",
       "49998  I'm going to have to disagree with the previou...  negative\n",
       "49999  No one expects the Star Trek movies to be high...  negative\n",
       "\n",
       "[50000 rows x 2 columns]"
      ]
     },
     "execution_count": 2,
     "metadata": {},
     "output_type": "execute_result"
    }
   ],
   "source": [
    "#turn the csv file into a dataframe\n",
    "imdb_df = pd.read_csv('IMDB Dataset.csv')\n",
    "imdb_df"
   ]
  },
  {
   "cell_type": "code",
   "execution_count": 3,
   "id": "ffc7ef56-9633-4ae4-a9b9-a0aabb87a739",
   "metadata": {},
   "outputs": [
    {
     "data": {
      "text/html": [
       "<div>\n",
       "<style scoped>\n",
       "    .dataframe tbody tr th:only-of-type {\n",
       "        vertical-align: middle;\n",
       "    }\n",
       "\n",
       "    .dataframe tbody tr th {\n",
       "        vertical-align: top;\n",
       "    }\n",
       "\n",
       "    .dataframe thead th {\n",
       "        text-align: right;\n",
       "    }\n",
       "</style>\n",
       "<table border=\"1\" class=\"dataframe\">\n",
       "  <thead>\n",
       "    <tr style=\"text-align: right;\">\n",
       "      <th></th>\n",
       "      <th>review</th>\n",
       "      <th>sentiment</th>\n",
       "    </tr>\n",
       "  </thead>\n",
       "  <tbody>\n",
       "    <tr>\n",
       "      <th>count</th>\n",
       "      <td>50000</td>\n",
       "      <td>50000</td>\n",
       "    </tr>\n",
       "    <tr>\n",
       "      <th>unique</th>\n",
       "      <td>49582</td>\n",
       "      <td>2</td>\n",
       "    </tr>\n",
       "    <tr>\n",
       "      <th>top</th>\n",
       "      <td>Loved today's show!!! It was a variety and not...</td>\n",
       "      <td>positive</td>\n",
       "    </tr>\n",
       "    <tr>\n",
       "      <th>freq</th>\n",
       "      <td>5</td>\n",
       "      <td>25000</td>\n",
       "    </tr>\n",
       "  </tbody>\n",
       "</table>\n",
       "</div>"
      ],
      "text/plain": [
       "                                                   review sentiment\n",
       "count                                               50000     50000\n",
       "unique                                              49582         2\n",
       "top     Loved today's show!!! It was a variety and not...  positive\n",
       "freq                                                    5     25000"
      ]
     },
     "execution_count": 3,
     "metadata": {},
     "output_type": "execute_result"
    }
   ],
   "source": [
    "# summary information about the dataframe\n",
    "imdb_df.describe()"
   ]
  },
  {
   "cell_type": "code",
   "execution_count": 4,
   "id": "a1fcceb5-6269-472b-a8a4-a1da7e27e259",
   "metadata": {},
   "outputs": [
    {
     "data": {
      "text/plain": [
       "positive    25000\n",
       "negative    25000\n",
       "Name: sentiment, dtype: int64"
      ]
     },
     "execution_count": 4,
     "metadata": {},
     "output_type": "execute_result"
    }
   ],
   "source": [
    "# how many reviews are labeled positive vs. negative\n",
    "imdb_df['sentiment'].value_counts()"
   ]
  },
  {
   "cell_type": "markdown",
   "id": "efe832ff-b885-4cac-8da1-6b9097e6bc55",
   "metadata": {},
   "source": [
    "#### Word Frequency\n",
    "\n",
    "Now that we have a better idea of our dataset in that it contains reviews labeled as positive or negative and that there are an equal amount of each, we can separate the two and conduct more in depth exploratory analysis. By taking a closer look at the positive and negative reviews separately, we will be able to set the foundation for our formal analysis. Let's start by looking at word frequency."
   ]
  },
  {
   "cell_type": "code",
   "execution_count": 5,
   "id": "6e35d87b-328e-4e1e-a745-2f889abb30a9",
   "metadata": {},
   "outputs": [
    {
     "name": "stdout",
     "output_type": "stream",
     "text": [
      "30 most common words in positive reviews\n",
      "br 97952\n",
      "'s 63028\n",
      "film 40162\n",
      "movie 36180\n",
      "'' 32033\n",
      "`` 31520\n",
      "n't 26486\n",
      "one 23978\n",
      "like 16425\n",
      "good 13826\n",
      "story 12112\n",
      "great 11825\n",
      "time 11623\n",
      "see 11514\n",
      "would 11099\n",
      "really 10446\n",
      "well 10036\n",
      "also 9379\n",
      "much 8777\n",
      "even 8333\n",
      "first 8297\n",
      "people 8178\n",
      "get 8029\n",
      "... 7940\n",
      "love 7771\n",
      "best 7587\n",
      "way 7467\n",
      "films 7305\n",
      "many 7089\n",
      "life 7078\n",
      "30 most common words in negative reviews\n",
      "br 103996\n",
      "'s 58740\n",
      "movie 47633\n",
      "n't 39444\n",
      "film 35779\n",
      "`` 34504\n",
      "'' 34060\n",
      "one 23114\n",
      "like 21246\n",
      "would 15033\n",
      "good 13756\n",
      "bad 13415\n",
      "even 13370\n",
      "really 11821\n",
      "... 11805\n",
      "time 11324\n",
      "could 11134\n",
      "see 10351\n",
      "get 9794\n",
      "much 9678\n",
      "story 9510\n",
      "people 8907\n",
      "make 8899\n",
      "made 8346\n",
      "movies 7798\n",
      "plot 7696\n",
      "acting 7659\n",
      "way 7277\n",
      "characters 7093\n",
      "first 7060\n"
     ]
    }
   ],
   "source": [
    "#most common words used for positive and negative sentiments\n",
    "#positiveReviews = []\n",
    "#negativeReviews = []\n",
    "positiveText = \"\"\n",
    "negativeText = \"\"\n",
    "\n",
    "\n",
    "for i in range(len(imdb_df['review'])):\n",
    "    if imdb_df['sentiment'][i] == \"positive\":\n",
    "        #positiveReviews.append(imdb_df['review'][i])\n",
    "        positiveText += \" \" + imdb_df['review'][i]\n",
    "    else:\n",
    "        #negativeReviews.append(imdb_df['review'][i])\n",
    "        negativeText += \" \" + imdb_df['review'][i]\n",
    "\n",
    "#print(positiveReviews[:5])\n",
    "\n",
    "#tokenize the words\n",
    "sent = sent_tokenize(positiveText)\n",
    "words = []\n",
    "for s in sent:\n",
    "    for w in word_tokenize(s):\n",
    "        words.append(w)\n",
    "        \n",
    "#remove stopwords\n",
    "myStopWords = list(punctuation) + stopwords.words('english')\n",
    "wordsNoStop = []\n",
    "for i in words:\n",
    "    if i.lower() not in myStopWords:\n",
    "        wordsNoStop.append(i)\n",
    "        \n",
    "print(\"30 most common words in positive reviews\")\n",
    "\n",
    "freq = FreqDist(wordsNoStop)\n",
    "for j in sorted(freq, key=freq.get, reverse=True)[:30]:\n",
    "    print(j,freq[j])\n",
    "    \n",
    "positiveFreq = freq\n",
    "\n",
    "#tokenize the words\n",
    "sent = sent_tokenize(negativeText)\n",
    "words = []\n",
    "for s in sent:\n",
    "    for w in word_tokenize(s):\n",
    "        words.append(w)\n",
    "        \n",
    "#remove stopwords\n",
    "myStopWords = list(punctuation) + stopwords.words('english')\n",
    "wordsNoStop = []\n",
    "for i in words:\n",
    "    if i.lower() not in myStopWords:\n",
    "        wordsNoStop.append(i)\n",
    "        \n",
    "print(\"30 most common words in negative reviews\")\n",
    "\n",
    "negfreq = FreqDist(wordsNoStop)\n",
    "for j in sorted(negfreq, key=negfreq.get, reverse=True)[:30]:\n",
    "    print(j,negfreq[j])\n",
    "  \n",
    "#onlyPositive = []\n",
    "#for pword in freq:\n",
    "#    if pword not in negfreq:\n",
    "#        onlyPositive.append((pword, freq[pword]))\n",
    "        \n",
    "#onlyNegative = []\n",
    "#for negword in negfreq:\n",
    "#    if negword not in freq:\n",
    "#        onlyNegative.append((negword, freq[negword]))\n",
    "        \n",
    "#onlyPositive.sort(key = lambda x: -1*x[1]) \n",
    "#onlyNegative.sort(key = lambda x: -1*x[1]) \n",
    "\n",
    "    \n",
    "#print(\"30 most common words in positive reviews\")\n",
    "#print(onlyPositive[:30])\n",
    "\n",
    "#print(\"30 most common words in negative reviews\")\n",
    "#print(onlyNegative[:30])"
   ]
  },
  {
   "cell_type": "markdown",
   "id": "2e87ea01-7d69-4260-9988-4396946807fc",
   "metadata": {},
   "source": [
    "So, what do these words tell us?\n",
    "\n",
    "Here we found the 30 most common words used in positive reviews and the 30 most common words used in negative reviews. For both, we see that our code is counting \"br', \"'s\", and \"''\" which aren't words and symbols that reveal anything of use to our research. We also see more neutral words like \"movie\" and \"film\" which provide context rather than reveal much about the sentiment of the review. This tells us that we'll need to do some cleaning before we can conduct a word frequency analysis that will be meaningful, i.e. if we want to find the top 10 most commonly used words in negative/positive reviews. \n",
    "\n",
    "If we ignore these \"words\", we can take a first look at the other, more meaningful words that were listed. For positive reviews, we can see words like \"like\", \"good\", \"great\", \"love\", and \"best\" which are commonly associated with positive statements. For negative reviews, we only really see \"bad\" as a word that is commonly associated with negative statements. Interestinly enough, most of the common words found in the negative reviews are words associated with the film itself like \"plot\", \"story\", \"acting\", and \"characters\" which may be an indication that reviews tends to be more critical in a constructive sense rather than an outburst of how horrible the film was."
   ]
  },
  {
   "cell_type": "markdown",
   "id": "40405858-61b8-4303-b07d-a9392ee02c0c",
   "metadata": {},
   "source": [
    "Another thing we noticed with this initial word frequency analysis was that the code itself was taking a while to run because the dataset was too large. We originally thought the dataset would be a decent sized sample of reviews, but because of the long runtime, we did not want our analysis to get stuck on a particular cell of code. As a result, we decided to use a smaller sample from the dataset and extrapolate our findings at the end of our analysis. \n",
    "\n",
    "Expanding upon the previous section where we looked at the 30 most frequent words in positive and negative reviews, we tried to create data visualizations to better represent these differences, using a smaller and cleaner sample of reviews."
   ]
  },
  {
   "cell_type": "code",
   "execution_count": 6,
   "id": "b95e9017-e481-439e-875f-90e0426d2ebf",
   "metadata": {},
   "outputs": [
    {
     "data": {
      "text/html": [
       "<div>\n",
       "<style scoped>\n",
       "    .dataframe tbody tr th:only-of-type {\n",
       "        vertical-align: middle;\n",
       "    }\n",
       "\n",
       "    .dataframe tbody tr th {\n",
       "        vertical-align: top;\n",
       "    }\n",
       "\n",
       "    .dataframe thead th {\n",
       "        text-align: right;\n",
       "    }\n",
       "</style>\n",
       "<table border=\"1\" class=\"dataframe\">\n",
       "  <thead>\n",
       "    <tr style=\"text-align: right;\">\n",
       "      <th></th>\n",
       "      <th>wordlist</th>\n",
       "      <th>wordfreq</th>\n",
       "    </tr>\n",
       "  </thead>\n",
       "  <tbody>\n",
       "    <tr>\n",
       "      <th>0</th>\n",
       "      <td>br</td>\n",
       "      <td>4124</td>\n",
       "    </tr>\n",
       "    <tr>\n",
       "      <th>1</th>\n",
       "      <td>'s</td>\n",
       "      <td>2349</td>\n",
       "    </tr>\n",
       "    <tr>\n",
       "      <th>2</th>\n",
       "      <td>movie</td>\n",
       "      <td>2056</td>\n",
       "    </tr>\n",
       "    <tr>\n",
       "      <th>3</th>\n",
       "      <td>film</td>\n",
       "      <td>1770</td>\n",
       "    </tr>\n",
       "    <tr>\n",
       "      <th>4</th>\n",
       "      <td>``</td>\n",
       "      <td>1285</td>\n",
       "    </tr>\n",
       "    <tr>\n",
       "      <th>...</th>\n",
       "      <td>...</td>\n",
       "      <td>...</td>\n",
       "    </tr>\n",
       "    <tr>\n",
       "      <th>18499</th>\n",
       "      <td>intuition</td>\n",
       "      <td>1</td>\n",
       "    </tr>\n",
       "    <tr>\n",
       "      <th>18500</th>\n",
       "      <td>stubborn</td>\n",
       "      <td>1</td>\n",
       "    </tr>\n",
       "    <tr>\n",
       "      <th>18501</th>\n",
       "      <td>minds.</td>\n",
       "      <td>1</td>\n",
       "    </tr>\n",
       "    <tr>\n",
       "      <th>18502</th>\n",
       "      <td>'swearing</td>\n",
       "      <td>1</td>\n",
       "    </tr>\n",
       "    <tr>\n",
       "      <th>18503</th>\n",
       "      <td>volume.</td>\n",
       "      <td>1</td>\n",
       "    </tr>\n",
       "  </tbody>\n",
       "</table>\n",
       "<p>18504 rows × 2 columns</p>\n",
       "</div>"
      ],
      "text/plain": [
       "        wordlist  wordfreq\n",
       "0             br      4124\n",
       "1             's      2349\n",
       "2          movie      2056\n",
       "3           film      1770\n",
       "4             ``      1285\n",
       "...          ...       ...\n",
       "18499  intuition         1\n",
       "18500   stubborn         1\n",
       "18501     minds.         1\n",
       "18502  'swearing         1\n",
       "18503    volume.         1\n",
       "\n",
       "[18504 rows x 2 columns]"
      ]
     },
     "execution_count": 6,
     "metadata": {},
     "output_type": "execute_result"
    }
   ],
   "source": [
    "# Compile first 1000 reviews into one giant string\n",
    "reviews = \"\"\n",
    "for ind in range(1000):\n",
    "    reviews = reviews + \" \" + imdb_df[\"review\"][ind]\n",
    "    \n",
    "# Create a list of stop words\n",
    "stop_words = stopwords.words(\"english\") + list(punctuation)\n",
    "\n",
    "# Tokenize and convert all the reviews to lowercase\n",
    "words = word_tokenize(reviews.lower())\n",
    "\n",
    "# Remove all unwanted words\n",
    "completewords = [w for w in words if w not in stop_words]\n",
    "\n",
    "# Lemmatize the list of words\n",
    "completestemmed = [WordNetLemmatizer().lemmatize(w) for w in completewords]\n",
    "\n",
    "# Find the frequency of all words\n",
    "freq = FreqDist(completestemmed)\n",
    "\n",
    "# Turn this list into a pandas dataframe\n",
    "wordlist = []\n",
    "wordfreq = []\n",
    "for i in sorted(freq, key=freq.get, reverse=True):\n",
    "    wordlist.append(i)\n",
    "    wordfreq.append(freq[i])\n",
    "    \n",
    "df = pd.DataFrame({'wordlist':wordlist, 'wordfreq':wordfreq})\n",
    "df"
   ]
  },
  {
   "cell_type": "code",
   "execution_count": 7,
   "id": "37c880f3-b9d6-4754-88ea-4d9417a8c6c8",
   "metadata": {},
   "outputs": [
    {
     "data": {
      "text/html": [
       "<div>\n",
       "<style scoped>\n",
       "    .dataframe tbody tr th:only-of-type {\n",
       "        vertical-align: middle;\n",
       "    }\n",
       "\n",
       "    .dataframe tbody tr th {\n",
       "        vertical-align: top;\n",
       "    }\n",
       "\n",
       "    .dataframe thead th {\n",
       "        text-align: right;\n",
       "    }\n",
       "</style>\n",
       "<table border=\"1\" class=\"dataframe\">\n",
       "  <thead>\n",
       "    <tr style=\"text-align: right;\">\n",
       "      <th></th>\n",
       "      <th>wordlist</th>\n",
       "      <th>wordfreq</th>\n",
       "    </tr>\n",
       "  </thead>\n",
       "  <tbody>\n",
       "    <tr>\n",
       "      <th>2</th>\n",
       "      <td>movie</td>\n",
       "      <td>2056</td>\n",
       "    </tr>\n",
       "    <tr>\n",
       "      <th>3</th>\n",
       "      <td>film</td>\n",
       "      <td>1770</td>\n",
       "    </tr>\n",
       "    <tr>\n",
       "      <th>7</th>\n",
       "      <td>one</td>\n",
       "      <td>1012</td>\n",
       "    </tr>\n",
       "    <tr>\n",
       "      <th>8</th>\n",
       "      <td>like</td>\n",
       "      <td>785</td>\n",
       "    </tr>\n",
       "    <tr>\n",
       "      <th>9</th>\n",
       "      <td>get</td>\n",
       "      <td>552</td>\n",
       "    </tr>\n",
       "    <tr>\n",
       "      <th>...</th>\n",
       "      <td>...</td>\n",
       "      <td>...</td>\n",
       "    </tr>\n",
       "    <tr>\n",
       "      <th>18499</th>\n",
       "      <td>intuition</td>\n",
       "      <td>1</td>\n",
       "    </tr>\n",
       "    <tr>\n",
       "      <th>18500</th>\n",
       "      <td>stubborn</td>\n",
       "      <td>1</td>\n",
       "    </tr>\n",
       "    <tr>\n",
       "      <th>18501</th>\n",
       "      <td>minds.</td>\n",
       "      <td>1</td>\n",
       "    </tr>\n",
       "    <tr>\n",
       "      <th>18502</th>\n",
       "      <td>'swearing</td>\n",
       "      <td>1</td>\n",
       "    </tr>\n",
       "    <tr>\n",
       "      <th>18503</th>\n",
       "      <td>volume.</td>\n",
       "      <td>1</td>\n",
       "    </tr>\n",
       "  </tbody>\n",
       "</table>\n",
       "<p>18498 rows × 2 columns</p>\n",
       "</div>"
      ],
      "text/plain": [
       "        wordlist  wordfreq\n",
       "2          movie      2056\n",
       "3           film      1770\n",
       "7            one      1012\n",
       "8           like       785\n",
       "9            get       552\n",
       "...          ...       ...\n",
       "18499  intuition         1\n",
       "18500   stubborn         1\n",
       "18501     minds.         1\n",
       "18502  'swearing         1\n",
       "18503    volume.         1\n",
       "\n",
       "[18498 rows x 2 columns]"
      ]
     },
     "execution_count": 7,
     "metadata": {},
     "output_type": "execute_result"
    }
   ],
   "source": [
    "# Purge weird words\n",
    "df = df.drop(labels=0)\n",
    "df = df.drop(labels=1)\n",
    "df = df.drop(labels=4)\n",
    "df = df.drop(labels=5)\n",
    "df = df.drop(labels=6)\n",
    "df = df.drop(labels=26)\n",
    "df"
   ]
  },
  {
   "cell_type": "code",
   "execution_count": 8,
   "id": "722134a2-f5af-4eb9-b88f-24feaa7bbae8",
   "metadata": {},
   "outputs": [
    {
     "data": {
      "text/html": [
       "<div>\n",
       "<style scoped>\n",
       "    .dataframe tbody tr th:only-of-type {\n",
       "        vertical-align: middle;\n",
       "    }\n",
       "\n",
       "    .dataframe tbody tr th {\n",
       "        vertical-align: top;\n",
       "    }\n",
       "\n",
       "    .dataframe thead th {\n",
       "        text-align: right;\n",
       "    }\n",
       "</style>\n",
       "<table border=\"1\" class=\"dataframe\">\n",
       "  <thead>\n",
       "    <tr style=\"text-align: right;\">\n",
       "      <th></th>\n",
       "      <th>wordlist</th>\n",
       "      <th>wordfreq</th>\n",
       "    </tr>\n",
       "  </thead>\n",
       "  <tbody>\n",
       "    <tr>\n",
       "      <th>2</th>\n",
       "      <td>movie</td>\n",
       "      <td>2056</td>\n",
       "    </tr>\n",
       "    <tr>\n",
       "      <th>3</th>\n",
       "      <td>film</td>\n",
       "      <td>1770</td>\n",
       "    </tr>\n",
       "    <tr>\n",
       "      <th>7</th>\n",
       "      <td>one</td>\n",
       "      <td>1012</td>\n",
       "    </tr>\n",
       "    <tr>\n",
       "      <th>8</th>\n",
       "      <td>like</td>\n",
       "      <td>785</td>\n",
       "    </tr>\n",
       "    <tr>\n",
       "      <th>9</th>\n",
       "      <td>get</td>\n",
       "      <td>552</td>\n",
       "    </tr>\n",
       "    <tr>\n",
       "      <th>10</th>\n",
       "      <td>time</td>\n",
       "      <td>543</td>\n",
       "    </tr>\n",
       "    <tr>\n",
       "      <th>11</th>\n",
       "      <td>character</td>\n",
       "      <td>532</td>\n",
       "    </tr>\n",
       "    <tr>\n",
       "      <th>12</th>\n",
       "      <td>would</td>\n",
       "      <td>528</td>\n",
       "    </tr>\n",
       "    <tr>\n",
       "      <th>13</th>\n",
       "      <td>see</td>\n",
       "      <td>528</td>\n",
       "    </tr>\n",
       "    <tr>\n",
       "      <th>14</th>\n",
       "      <td>good</td>\n",
       "      <td>524</td>\n",
       "    </tr>\n",
       "    <tr>\n",
       "      <th>15</th>\n",
       "      <td>even</td>\n",
       "      <td>523</td>\n",
       "    </tr>\n",
       "    <tr>\n",
       "      <th>16</th>\n",
       "      <td>story</td>\n",
       "      <td>480</td>\n",
       "    </tr>\n",
       "    <tr>\n",
       "      <th>17</th>\n",
       "      <td>make</td>\n",
       "      <td>467</td>\n",
       "    </tr>\n",
       "    <tr>\n",
       "      <th>18</th>\n",
       "      <td>really</td>\n",
       "      <td>454</td>\n",
       "    </tr>\n",
       "    <tr>\n",
       "      <th>19</th>\n",
       "      <td>scene</td>\n",
       "      <td>443</td>\n",
       "    </tr>\n",
       "    <tr>\n",
       "      <th>20</th>\n",
       "      <td>much</td>\n",
       "      <td>395</td>\n",
       "    </tr>\n",
       "    <tr>\n",
       "      <th>21</th>\n",
       "      <td>well</td>\n",
       "      <td>393</td>\n",
       "    </tr>\n",
       "    <tr>\n",
       "      <th>22</th>\n",
       "      <td>way</td>\n",
       "      <td>361</td>\n",
       "    </tr>\n",
       "    <tr>\n",
       "      <th>23</th>\n",
       "      <td>people</td>\n",
       "      <td>361</td>\n",
       "    </tr>\n",
       "    <tr>\n",
       "      <th>24</th>\n",
       "      <td>also</td>\n",
       "      <td>344</td>\n",
       "    </tr>\n",
       "    <tr>\n",
       "      <th>25</th>\n",
       "      <td>first</td>\n",
       "      <td>343</td>\n",
       "    </tr>\n",
       "    <tr>\n",
       "      <th>27</th>\n",
       "      <td>great</td>\n",
       "      <td>342</td>\n",
       "    </tr>\n",
       "    <tr>\n",
       "      <th>28</th>\n",
       "      <td>bad</td>\n",
       "      <td>342</td>\n",
       "    </tr>\n",
       "    <tr>\n",
       "      <th>29</th>\n",
       "      <td>made</td>\n",
       "      <td>336</td>\n",
       "    </tr>\n",
       "    <tr>\n",
       "      <th>30</th>\n",
       "      <td>think</td>\n",
       "      <td>328</td>\n",
       "    </tr>\n",
       "    <tr>\n",
       "      <th>31</th>\n",
       "      <td>could</td>\n",
       "      <td>325</td>\n",
       "    </tr>\n",
       "    <tr>\n",
       "      <th>32</th>\n",
       "      <td>go</td>\n",
       "      <td>317</td>\n",
       "    </tr>\n",
       "    <tr>\n",
       "      <th>33</th>\n",
       "      <td>thing</td>\n",
       "      <td>304</td>\n",
       "    </tr>\n",
       "    <tr>\n",
       "      <th>34</th>\n",
       "      <td>show</td>\n",
       "      <td>301</td>\n",
       "    </tr>\n",
       "    <tr>\n",
       "      <th>35</th>\n",
       "      <td>life</td>\n",
       "      <td>300</td>\n",
       "    </tr>\n",
       "  </tbody>\n",
       "</table>\n",
       "</div>"
      ],
      "text/plain": [
       "     wordlist  wordfreq\n",
       "2       movie      2056\n",
       "3        film      1770\n",
       "7         one      1012\n",
       "8        like       785\n",
       "9         get       552\n",
       "10       time       543\n",
       "11  character       532\n",
       "12      would       528\n",
       "13        see       528\n",
       "14       good       524\n",
       "15       even       523\n",
       "16      story       480\n",
       "17       make       467\n",
       "18     really       454\n",
       "19      scene       443\n",
       "20       much       395\n",
       "21       well       393\n",
       "22        way       361\n",
       "23     people       361\n",
       "24       also       344\n",
       "25      first       343\n",
       "27      great       342\n",
       "28        bad       342\n",
       "29       made       336\n",
       "30      think       328\n",
       "31      could       325\n",
       "32         go       317\n",
       "33      thing       304\n",
       "34       show       301\n",
       "35       life       300"
      ]
     },
     "execution_count": 8,
     "metadata": {},
     "output_type": "execute_result"
    }
   ],
   "source": [
    "#view 30 most common words\n",
    "df[:30]"
   ]
  },
  {
   "cell_type": "markdown",
   "id": "d09094a7-08d3-4cff-a117-d0c869563bbe",
   "metadata": {},
   "source": [
    "Here we have cleaned our dataset so that meaningless letters and symbols will no longer be included in our word frequency analysis. We can run our previous code again to retrieve a better list of the most commonly used words in positive and negative reviews. "
   ]
  },
  {
   "cell_type": "code",
   "execution_count": 9,
   "id": "1f9827d4-fa81-4298-bd92-86b20549bde2",
   "metadata": {},
   "outputs": [],
   "source": [
    "#most common words used for positive and negative sentiments\n",
    "\n",
    "#larry is there a way for us to run your code again using the cleaned wordlist nelson made?"
   ]
  },
  {
   "cell_type": "markdown",
   "id": "65902b91-b027-4b8a-b0d7-9bc3457c52d8",
   "metadata": {},
   "source": [
    "In order to get a better gauge of the most frequently used words that will help with our sentiment analysis, we will also need to ignore words like \"movie\", \"film\", \"characters\", and \"scene\" that provide more context about the review and are common in both positive and negative reviews. Essentially, any words that are more neutral will not provide the information we need for our research. So, let's find the sentiment values of our most common words. Once we find the most positive and negative words, we can find the average positive/negative sentiment and compare our values."
   ]
  },
  {
   "cell_type": "code",
   "execution_count": 10,
   "id": "bc21b498-f6bb-4bf6-bc57-f15637acdf87",
   "metadata": {},
   "outputs": [
    {
     "name": "stdout",
     "output_type": "stream",
     "text": [
      "movie's compound polarity score is 0.0\n",
      "film's compound polarity score is 0.0\n",
      "one's compound polarity score is 0.0\n",
      "like's compound polarity score is 0.3612\n",
      "get's compound polarity score is 0.0\n",
      "time's compound polarity score is 0.0\n",
      "character's compound polarity score is 0.0\n",
      "would's compound polarity score is 0.0\n",
      "see's compound polarity score is 0.0\n",
      "good's compound polarity score is 0.4404\n",
      "even's compound polarity score is 0.0\n",
      "story's compound polarity score is 0.0\n",
      "make's compound polarity score is 0.0\n",
      "really's compound polarity score is 0.0\n",
      "scene's compound polarity score is 0.0\n",
      "much's compound polarity score is 0.0\n",
      "well's compound polarity score is 0.2732\n",
      "way's compound polarity score is 0.0\n",
      "people's compound polarity score is 0.0\n",
      "also's compound polarity score is 0.0\n",
      "first's compound polarity score is 0.0\n",
      "great's compound polarity score is 0.6249\n",
      "bad's compound polarity score is -0.5423\n",
      "made's compound polarity score is 0.0\n",
      "think's compound polarity score is 0.0\n",
      "could's compound polarity score is 0.0\n",
      "go's compound polarity score is 0.0\n",
      "thing's compound polarity score is 0.0\n",
      "show's compound polarity score is 0.0\n",
      "life's compound polarity score is 0.0\n"
     ]
    }
   ],
   "source": [
    "# Sentiment value of each word\n",
    "sia = vader.SentimentIntensityAnalyzer()\n",
    "k = 0\n",
    "words_sentiments = []\n",
    "for index, row in df.iterrows():\n",
    "    while k < 30:\n",
    "        word = df[\"wordlist\"].iloc[k]\n",
    "        print(word + \"'s compound polarity score is \" + str(sia.polarity_scores(word)[\"compound\"]))\n",
    "        words_sentiments.append(sia.polarity_scores(word)[\"compound\"])\n",
    "        k+=1"
   ]
  },
  {
   "cell_type": "code",
   "execution_count": 69,
   "id": "2bc7e8df-0093-4e3b-833d-e78cc72b077c",
   "metadata": {},
   "outputs": [],
   "source": [
    "# Find the most polarizing words - negative and positive\n",
    "#help\n",
    "k = 0\n",
    "positive_words = []\n",
    "negative_words = []\n",
    "posrange = np.arange(0.8, 1.0) \n",
    "negrange = np.arange(-0.1, -0.8)\n",
    "for index, row in df.iterrows():\n",
    "    while k < 50:\n",
    "        word = df[\"wordlist\"].iloc[k]\n",
    "        if 0.8 < sia.polarity_scores(word)[\"compound\"] <= 1.0:\n",
    "            print(word + \"'s compound polarity score is \" + str(sia.polarity_scores(word)[\"compound\"]))\n",
    "            positive_words.append(sia.polarity_scores(word)[\"compound\"])\n",
    "        if -0.1 <= sia.polarity_scores(word)[\"compound\"] < -0.8:\n",
    "            print(word + \"'s compound polarity score is \" + str(sia.polarity_scores(word)[\"compound\"]))\n",
    "            negative_words.append(sia.polarity_scores(word)[\"compound\"])\n",
    "        k+=1"
   ]
  },
  {
   "cell_type": "code",
   "execution_count": 11,
   "id": "09641fdf-12ae-4481-94bf-d9893f271023",
   "metadata": {},
   "outputs": [
    {
     "data": {
      "text/plain": [
       "6.483727970591415"
      ]
     },
     "execution_count": 11,
     "metadata": {},
     "output_type": "execute_result"
    }
   ],
   "source": [
    "# Mean\n",
    "df['wordfreq'].mean()"
   ]
  },
  {
   "cell_type": "code",
   "execution_count": 12,
   "id": "e248b4ae-8e08-460e-b26f-691e0f11630e",
   "metadata": {},
   "outputs": [
    {
     "data": {
      "text/html": [
       "<div>\n",
       "<style scoped>\n",
       "    .dataframe tbody tr th:only-of-type {\n",
       "        vertical-align: middle;\n",
       "    }\n",
       "\n",
       "    .dataframe tbody tr th {\n",
       "        vertical-align: top;\n",
       "    }\n",
       "\n",
       "    .dataframe thead th {\n",
       "        text-align: right;\n",
       "    }\n",
       "</style>\n",
       "<table border=\"1\" class=\"dataframe\">\n",
       "  <thead>\n",
       "    <tr style=\"text-align: right;\">\n",
       "      <th></th>\n",
       "      <th>wordlist</th>\n",
       "      <th>wordfreq</th>\n",
       "    </tr>\n",
       "  </thead>\n",
       "  <tbody>\n",
       "    <tr>\n",
       "      <th>2821</th>\n",
       "      <td>security</td>\n",
       "      <td>6</td>\n",
       "    </tr>\n",
       "    <tr>\n",
       "      <th>2822</th>\n",
       "      <td>stare</td>\n",
       "      <td>6</td>\n",
       "    </tr>\n",
       "    <tr>\n",
       "      <th>2823</th>\n",
       "      <td>performed</td>\n",
       "      <td>6</td>\n",
       "    </tr>\n",
       "    <tr>\n",
       "      <th>2824</th>\n",
       "      <td>terribly</td>\n",
       "      <td>6</td>\n",
       "    </tr>\n",
       "    <tr>\n",
       "      <th>2825</th>\n",
       "      <td>grown</td>\n",
       "      <td>6</td>\n",
       "    </tr>\n",
       "    <tr>\n",
       "      <th>2826</th>\n",
       "      <td>love.</td>\n",
       "      <td>6</td>\n",
       "    </tr>\n",
       "    <tr>\n",
       "      <th>2827</th>\n",
       "      <td>meaningless</td>\n",
       "      <td>6</td>\n",
       "    </tr>\n",
       "    <tr>\n",
       "      <th>2828</th>\n",
       "      <td>mattei</td>\n",
       "      <td>6</td>\n",
       "    </tr>\n",
       "    <tr>\n",
       "      <th>2829</th>\n",
       "      <td>vivid</td>\n",
       "      <td>6</td>\n",
       "    </tr>\n",
       "    <tr>\n",
       "      <th>2830</th>\n",
       "      <td>loneliness</td>\n",
       "      <td>6</td>\n",
       "    </tr>\n",
       "  </tbody>\n",
       "</table>\n",
       "</div>"
      ],
      "text/plain": [
       "         wordlist  wordfreq\n",
       "2821     security         6\n",
       "2822        stare         6\n",
       "2823    performed         6\n",
       "2824     terribly         6\n",
       "2825        grown         6\n",
       "2826        love.         6\n",
       "2827  meaningless         6\n",
       "2828       mattei         6\n",
       "2829        vivid         6\n",
       "2830   loneliness         6"
      ]
     },
     "execution_count": 12,
     "metadata": {},
     "output_type": "execute_result"
    }
   ],
   "source": [
    "# which words have a word freq of 6 and 7\n",
    "# is there a nicer way of doing this?\n",
    "mean6 = df[df['wordfreq'] == 6] \n",
    "mean6[:10]"
   ]
  },
  {
   "cell_type": "code",
   "execution_count": 13,
   "id": "3d3d1d9d-0ef0-4def-9242-39e09b62dcd3",
   "metadata": {},
   "outputs": [
    {
     "data": {
      "text/html": [
       "<div>\n",
       "<style scoped>\n",
       "    .dataframe tbody tr th:only-of-type {\n",
       "        vertical-align: middle;\n",
       "    }\n",
       "\n",
       "    .dataframe tbody tr th {\n",
       "        vertical-align: top;\n",
       "    }\n",
       "\n",
       "    .dataframe thead th {\n",
       "        text-align: right;\n",
       "    }\n",
       "</style>\n",
       "<table border=\"1\" class=\"dataframe\">\n",
       "  <thead>\n",
       "    <tr style=\"text-align: right;\">\n",
       "      <th></th>\n",
       "      <th>wordlist</th>\n",
       "      <th>wordfreq</th>\n",
       "    </tr>\n",
       "  </thead>\n",
       "  <tbody>\n",
       "    <tr>\n",
       "      <th>2543</th>\n",
       "      <td>sold</td>\n",
       "      <td>7</td>\n",
       "    </tr>\n",
       "    <tr>\n",
       "      <th>2544</th>\n",
       "      <td>johanson</td>\n",
       "      <td>7</td>\n",
       "    </tr>\n",
       "    <tr>\n",
       "      <th>2545</th>\n",
       "      <td>soap</td>\n",
       "      <td>7</td>\n",
       "    </tr>\n",
       "    <tr>\n",
       "      <th>2546</th>\n",
       "      <td>portrait</td>\n",
       "      <td>7</td>\n",
       "    </tr>\n",
       "    <tr>\n",
       "      <th>2547</th>\n",
       "      <td>connect</td>\n",
       "      <td>7</td>\n",
       "    </tr>\n",
       "    <tr>\n",
       "      <th>2548</th>\n",
       "      <td>connected</td>\n",
       "      <td>7</td>\n",
       "    </tr>\n",
       "    <tr>\n",
       "      <th>2549</th>\n",
       "      <td>noble</td>\n",
       "      <td>7</td>\n",
       "    </tr>\n",
       "    <tr>\n",
       "      <th>2550</th>\n",
       "      <td>davis</td>\n",
       "      <td>7</td>\n",
       "    </tr>\n",
       "    <tr>\n",
       "      <th>2551</th>\n",
       "      <td>quit</td>\n",
       "      <td>7</td>\n",
       "    </tr>\n",
       "    <tr>\n",
       "      <th>2552</th>\n",
       "      <td>mildly</td>\n",
       "      <td>7</td>\n",
       "    </tr>\n",
       "  </tbody>\n",
       "</table>\n",
       "</div>"
      ],
      "text/plain": [
       "       wordlist  wordfreq\n",
       "2543       sold         7\n",
       "2544   johanson         7\n",
       "2545       soap         7\n",
       "2546   portrait         7\n",
       "2547    connect         7\n",
       "2548  connected         7\n",
       "2549      noble         7\n",
       "2550      davis         7\n",
       "2551       quit         7\n",
       "2552     mildly         7"
      ]
     },
     "execution_count": 13,
     "metadata": {},
     "output_type": "execute_result"
    }
   ],
   "source": [
    "# which words have a word freq of 6 and 7\n",
    "mean7 = df[df['wordfreq'] == 7] \n",
    "mean7[:10]"
   ]
  },
  {
   "cell_type": "code",
   "execution_count": 14,
   "id": "cdcb2b81-bb23-4aa6-a262-30cb8b849a90",
   "metadata": {},
   "outputs": [
    {
     "data": {
      "text/plain": [
       "1.0"
      ]
     },
     "execution_count": 14,
     "metadata": {},
     "output_type": "execute_result"
    }
   ],
   "source": [
    "# Median\n",
    "df['wordfreq'].median()"
   ]
  },
  {
   "cell_type": "code",
   "execution_count": 15,
   "id": "159ed1e6-6bd7-40f8-95ae-db2cc2787309",
   "metadata": {},
   "outputs": [
    {
     "data": {
      "text/plain": [
       "0    1\n",
       "dtype: int64"
      ]
     },
     "execution_count": 15,
     "metadata": {},
     "output_type": "execute_result"
    }
   ],
   "source": [
    "# Mode\n",
    "df['wordfreq'].mode()"
   ]
  },
  {
   "cell_type": "markdown",
   "id": "8d1d8dac-0b14-4b08-b758-bdb494b83cf9",
   "metadata": {},
   "source": [
    "What do these values tell us?\n",
    "\n",
    "The mean tells us that the word frequency value is on average 6.5, or since word frequency has to be a whole number, between 6 and 7. This means that the many of the words in this dataframe are used a total of 6-7 times which tells us that there are some words people tend to use more often in the context of movie reviews.\n",
    "\n",
    "The median tells us the middle value for wordfrequency, and in this case it is 1.0. This tells us that we have a lot of words that are only used once throughtout the whole dataframe of reviews.\n",
    "\n",
    "The mode is the most commonly seen word frequency value, and in this case, it is 1. This makes sense because of our median value that tells us there are a lot of words that only appear once. So, the median and the mode tell us that a word frequency of 1 is the most common word frequency value in our dataframe of common words. "
   ]
  },
  {
   "cell_type": "markdown",
   "id": "9a7156c7-9250-4076-86a7-5bed2092ab68",
   "metadata": {},
   "source": [
    "Now that we have a better understanding of our dataset, we can begin visualizing these initial exploration findings using plots."
   ]
  },
  {
   "cell_type": "code",
   "execution_count": 16,
   "id": "a0395fc8-732a-454b-9ce2-61d6aba4d5b2",
   "metadata": {},
   "outputs": [
    {
     "data": {
      "text/plain": [
       "<AxesSubplot:ylabel='Frequency'>"
      ]
     },
     "execution_count": 16,
     "metadata": {},
     "output_type": "execute_result"
    },
    {
     "data": {
      "image/png": "[encoded data removed]",
      "text/plain": [
       "<Figure size 432x288 with 1 Axes>"
      ]
     },
     "metadata": {
      "needs_background": "light"
     },
     "output_type": "display_data"
    }
   ],
   "source": [
    "# Histogram\n",
    "df.plot.hist(bins=1000, xlim=(0, 150), ylim=(0,2000))"
   ]
  },
  {
   "cell_type": "markdown",
   "id": "da52c4c3-643d-4ac7-b4d9-ecbcdffe75a2",
   "metadata": {},
   "source": [
    "This histogram shows the distribution of word frequency values, and we can see that most words are used less than 20 times and only a few words are used hundreds of times."
   ]
  },
  {
   "cell_type": "code",
   "execution_count": 12,
   "id": "605b15a0-ae3e-4c6b-a1d5-8ca4b100342e",
   "metadata": {},
   "outputs": [
    {
     "data": {
      "text/plain": [
       "<AxesSubplot:ylabel='wordlist'>"
      ]
     },
     "execution_count": 12,
     "metadata": {},
     "output_type": "execute_result"
    },
    {
     "data": {
      "image/png": "[encoded data removed]",
      "text/plain": [
       "<Figure size 432x288 with 1 Axes>"
      ]
     },
     "metadata": {
      "needs_background": "light"
     },
     "output_type": "display_data"
    }
   ],
   "source": [
    "# Barchart of the 17 most frequent words\n",
    "bar_df = df.loc[0:20, [\"wordlist\", \"wordfreq\"]]\n",
    "bar_df.plot.barh(x=\"wordlist\", y=\"wordfreq\")\n",
    "#ax = bar_df.plot.bar(x='wordlist', y='wordfreq', rot=0)"
   ]
  },
  {
   "cell_type": "markdown",
   "id": "8ef74bb9-daad-43d4-a476-fa36e6efae30",
   "metadata": {},
   "source": [
    "We can also use a bar chart to visually compare how many times the most common words are being used in our dataset. Again, very few words are in the thousands in terms of word frequency value. This chart only shows the 17 most frequent words, and most of them are used around 500 times. Comparing this chart with the histogram allows us to understand that most of the words in our dataset are not used hundreds of times. rewrite this i dont like it"
   ]
  },
  {
   "cell_type": "code",
   "execution_count": 17,
   "id": "a7b35a82-23e6-48fb-8d8b-f1c857f45edb",
   "metadata": {},
   "outputs": [
    {
     "data": {
      "text/plain": [
       "<AxesSubplot:ylabel='wordlist'>"
      ]
     },
     "execution_count": 17,
     "metadata": {},
     "output_type": "execute_result"
    },
    {
     "data": {
      "image/png": "[encoded data removed]",
      "text/plain": [
       "<Figure size 432x288 with 1 Axes>"
      ]
     },
     "metadata": {
      "needs_background": "light"
     },
     "output_type": "display_data"
    }
   ],
   "source": [
    "# Barchart of the 19 least frequent words\n",
    "#this barchart isnt as helpful, should replace with something else\n",
    "bar_df = df.loc[18490:, [\"wordlist\", \"wordfreq\"]]\n",
    "bar_df.plot.barh(x=\"wordlist\", y=\"wordfreq\")\n",
    "\n",
    "# need to find all words with only a freq of 1"
   ]
  },
  {
   "cell_type": "markdown",
   "id": "a7ad9537-b2d1-4ecf-8d8c-c50c10260780",
   "metadata": {},
   "source": [
    "since there are a lot of words that only appear once, we can list them all out here:"
   ]
  },
  {
   "cell_type": "code",
   "execution_count": 15,
   "id": "55ef0fc0-5053-4518-9cfd-31d7ab61a360",
   "metadata": {},
   "outputs": [
    {
     "data": {
      "text/html": [
       "<div>\n",
       "<style scoped>\n",
       "    .dataframe tbody tr th:only-of-type {\n",
       "        vertical-align: middle;\n",
       "    }\n",
       "\n",
       "    .dataframe tbody tr th {\n",
       "        vertical-align: top;\n",
       "    }\n",
       "\n",
       "    .dataframe thead th {\n",
       "        text-align: right;\n",
       "    }\n",
       "</style>\n",
       "<table border=\"1\" class=\"dataframe\">\n",
       "  <thead>\n",
       "    <tr style=\"text-align: right;\">\n",
       "      <th></th>\n",
       "      <th>wordlist</th>\n",
       "      <th>wordfreq</th>\n",
       "    </tr>\n",
       "  </thead>\n",
       "  <tbody>\n",
       "    <tr>\n",
       "      <th>8816</th>\n",
       "      <td>timid</td>\n",
       "      <td>1</td>\n",
       "    </tr>\n",
       "    <tr>\n",
       "      <th>8817</th>\n",
       "      <td>penitentary</td>\n",
       "      <td>1</td>\n",
       "    </tr>\n",
       "    <tr>\n",
       "      <th>8818</th>\n",
       "      <td>emerald</td>\n",
       "      <td>1</td>\n",
       "    </tr>\n",
       "    <tr>\n",
       "      <th>8819</th>\n",
       "      <td>inwards</td>\n",
       "      <td>1</td>\n",
       "    </tr>\n",
       "    <tr>\n",
       "      <th>8820</th>\n",
       "      <td>privacy</td>\n",
       "      <td>1</td>\n",
       "    </tr>\n",
       "    <tr>\n",
       "      <th>...</th>\n",
       "      <td>...</td>\n",
       "      <td>...</td>\n",
       "    </tr>\n",
       "    <tr>\n",
       "      <th>18499</th>\n",
       "      <td>intuition</td>\n",
       "      <td>1</td>\n",
       "    </tr>\n",
       "    <tr>\n",
       "      <th>18500</th>\n",
       "      <td>stubborn</td>\n",
       "      <td>1</td>\n",
       "    </tr>\n",
       "    <tr>\n",
       "      <th>18501</th>\n",
       "      <td>minds.</td>\n",
       "      <td>1</td>\n",
       "    </tr>\n",
       "    <tr>\n",
       "      <th>18502</th>\n",
       "      <td>'swearing</td>\n",
       "      <td>1</td>\n",
       "    </tr>\n",
       "    <tr>\n",
       "      <th>18503</th>\n",
       "      <td>volume.</td>\n",
       "      <td>1</td>\n",
       "    </tr>\n",
       "  </tbody>\n",
       "</table>\n",
       "<p>9688 rows × 2 columns</p>\n",
       "</div>"
      ],
      "text/plain": [
       "          wordlist  wordfreq\n",
       "8816         timid         1\n",
       "8817   penitentary         1\n",
       "8818       emerald         1\n",
       "8819       inwards         1\n",
       "8820       privacy         1\n",
       "...            ...       ...\n",
       "18499    intuition         1\n",
       "18500     stubborn         1\n",
       "18501       minds.         1\n",
       "18502    'swearing         1\n",
       "18503      volume.         1\n",
       "\n",
       "[9688 rows x 2 columns]"
      ]
     },
     "execution_count": 15,
     "metadata": {},
     "output_type": "execute_result"
    }
   ],
   "source": [
    "df.loc[df['wordfreq'] == 1]"
   ]
  },
  {
   "cell_type": "code",
   "execution_count": 21,
   "id": "a48bb370-82c4-4c58-bb59-ed0dc913029b",
   "metadata": {},
   "outputs": [
    {
     "data": {
      "text/html": [
       "<div>\n",
       "<style scoped>\n",
       "    .dataframe tbody tr th:only-of-type {\n",
       "        vertical-align: middle;\n",
       "    }\n",
       "\n",
       "    .dataframe tbody tr th {\n",
       "        vertical-align: top;\n",
       "    }\n",
       "\n",
       "    .dataframe thead th {\n",
       "        text-align: right;\n",
       "    }\n",
       "</style>\n",
       "<table border=\"1\" class=\"dataframe\">\n",
       "  <thead>\n",
       "    <tr style=\"text-align: right;\">\n",
       "      <th></th>\n",
       "      <th>wordlist</th>\n",
       "      <th>wordfreq</th>\n",
       "    </tr>\n",
       "  </thead>\n",
       "  <tbody>\n",
       "    <tr>\n",
       "      <th>3853</th>\n",
       "      <td>me.</td>\n",
       "      <td>4</td>\n",
       "    </tr>\n",
       "    <tr>\n",
       "      <th>3854</th>\n",
       "      <td>hearted</td>\n",
       "      <td>4</td>\n",
       "    </tr>\n",
       "    <tr>\n",
       "      <th>3855</th>\n",
       "      <td>experimental</td>\n",
       "      <td>4</td>\n",
       "    </tr>\n",
       "    <tr>\n",
       "      <th>3856</th>\n",
       "      <td>em</td>\n",
       "      <td>4</td>\n",
       "    </tr>\n",
       "    <tr>\n",
       "      <th>3857</th>\n",
       "      <td>muslim</td>\n",
       "      <td>4</td>\n",
       "    </tr>\n",
       "    <tr>\n",
       "      <th>...</th>\n",
       "      <td>...</td>\n",
       "      <td>...</td>\n",
       "    </tr>\n",
       "    <tr>\n",
       "      <th>18499</th>\n",
       "      <td>intuition</td>\n",
       "      <td>1</td>\n",
       "    </tr>\n",
       "    <tr>\n",
       "      <th>18500</th>\n",
       "      <td>stubborn</td>\n",
       "      <td>1</td>\n",
       "    </tr>\n",
       "    <tr>\n",
       "      <th>18501</th>\n",
       "      <td>minds.</td>\n",
       "      <td>1</td>\n",
       "    </tr>\n",
       "    <tr>\n",
       "      <th>18502</th>\n",
       "      <td>'swearing</td>\n",
       "      <td>1</td>\n",
       "    </tr>\n",
       "    <tr>\n",
       "      <th>18503</th>\n",
       "      <td>volume.</td>\n",
       "      <td>1</td>\n",
       "    </tr>\n",
       "  </tbody>\n",
       "</table>\n",
       "<p>14651 rows × 2 columns</p>\n",
       "</div>"
      ],
      "text/plain": [
       "           wordlist  wordfreq\n",
       "3853            me.         4\n",
       "3854        hearted         4\n",
       "3855   experimental         4\n",
       "3856             em         4\n",
       "3857         muslim         4\n",
       "...             ...       ...\n",
       "18499     intuition         1\n",
       "18500      stubborn         1\n",
       "18501        minds.         1\n",
       "18502     'swearing         1\n",
       "18503       volume.         1\n",
       "\n",
       "[14651 rows x 2 columns]"
      ]
     },
     "execution_count": 21,
     "metadata": {},
     "output_type": "execute_result"
    }
   ],
   "source": [
    "df.loc[df['wordfreq'] < 5]"
   ]
  },
  {
   "cell_type": "markdown",
   "id": "7ca81e5e-4427-4d49-b9b1-44b93a7b1dc5",
   "metadata": {},
   "source": [
    "##### Positive Reviews\n",
    "fluff about next section on positive reviews"
   ]
  },
  {
   "cell_type": "code",
   "execution_count": 22,
   "id": "a8893766-97a3-4a0a-80f6-5a1c59b5ffae",
   "metadata": {},
   "outputs": [
    {
     "data": {
      "text/html": [
       "<div>\n",
       "<style scoped>\n",
       "    .dataframe tbody tr th:only-of-type {\n",
       "        vertical-align: middle;\n",
       "    }\n",
       "\n",
       "    .dataframe tbody tr th {\n",
       "        vertical-align: top;\n",
       "    }\n",
       "\n",
       "    .dataframe thead th {\n",
       "        text-align: right;\n",
       "    }\n",
       "</style>\n",
       "<table border=\"1\" class=\"dataframe\">\n",
       "  <thead>\n",
       "    <tr style=\"text-align: right;\">\n",
       "      <th></th>\n",
       "      <th>wordlist</th>\n",
       "      <th>wordfreq</th>\n",
       "    </tr>\n",
       "  </thead>\n",
       "  <tbody>\n",
       "    <tr>\n",
       "      <th>0</th>\n",
       "      <td>br</td>\n",
       "      <td>9788</td>\n",
       "    </tr>\n",
       "    <tr>\n",
       "      <th>1</th>\n",
       "      <td>'s</td>\n",
       "      <td>6235</td>\n",
       "    </tr>\n",
       "    <tr>\n",
       "      <th>2</th>\n",
       "      <td>film</td>\n",
       "      <td>4601</td>\n",
       "    </tr>\n",
       "    <tr>\n",
       "      <th>3</th>\n",
       "      <td>movie</td>\n",
       "      <td>4401</td>\n",
       "    </tr>\n",
       "    <tr>\n",
       "      <th>4</th>\n",
       "      <td>''</td>\n",
       "      <td>2898</td>\n",
       "    </tr>\n",
       "    <tr>\n",
       "      <th>...</th>\n",
       "      <td>...</td>\n",
       "      <td>...</td>\n",
       "    </tr>\n",
       "    <tr>\n",
       "      <th>30944</th>\n",
       "      <td>code-breakers</td>\n",
       "      <td>1</td>\n",
       "    </tr>\n",
       "    <tr>\n",
       "      <th>30945</th>\n",
       "      <td>bletchly</td>\n",
       "      <td>1</td>\n",
       "    </tr>\n",
       "    <tr>\n",
       "      <th>30946</th>\n",
       "      <td>emerged</td>\n",
       "      <td>1</td>\n",
       "    </tr>\n",
       "    <tr>\n",
       "      <th>30947</th>\n",
       "      <td>makers.</td>\n",
       "      <td>1</td>\n",
       "    </tr>\n",
       "    <tr>\n",
       "      <th>30948</th>\n",
       "      <td>doubt.unmissable</td>\n",
       "      <td>1</td>\n",
       "    </tr>\n",
       "  </tbody>\n",
       "</table>\n",
       "<p>30949 rows × 2 columns</p>\n",
       "</div>"
      ],
      "text/plain": [
       "               wordlist  wordfreq\n",
       "0                    br      9788\n",
       "1                    's      6235\n",
       "2                  film      4601\n",
       "3                 movie      4401\n",
       "4                    ''      2898\n",
       "...                 ...       ...\n",
       "30944     code-breakers         1\n",
       "30945          bletchly         1\n",
       "30946           emerged         1\n",
       "30947           makers.         1\n",
       "30948  doubt.unmissable         1\n",
       "\n",
       "[30949 rows x 2 columns]"
      ]
     },
     "execution_count": 22,
     "metadata": {},
     "output_type": "execute_result"
    }
   ],
   "source": [
    "# Look only at the first 1000 positive reviews\n",
    "reviews = \"\"\n",
    "for ind in range(5000):\n",
    "    if imdb_df[\"sentiment\"][ind] == \"positive\":\n",
    "        reviews = reviews + \" \" + imdb_df[\"review\"][ind]\n",
    "stop_words = stopwords.words(\"english\") + list(punctuation)\n",
    "words = word_tokenize(reviews.lower())\n",
    "completewords = [w for w in words if w not in stop_words]\n",
    "completestemmed = [WordNetLemmatizer().lemmatize(w) for w in completewords]\n",
    "freq = FreqDist(completestemmed)\n",
    "wordlist = []\n",
    "wordfreq = []\n",
    "for i in sorted(freq, key=freq.get, reverse=True):\n",
    "    wordlist.append(i)\n",
    "    wordfreq.append(freq[i])\n",
    "df = pd.DataFrame({'wordlist':wordlist, 'wordfreq':wordfreq})\n",
    "df"
   ]
  },
  {
   "cell_type": "code",
   "execution_count": 23,
   "id": "b829fc1c-8905-48d0-af78-168d4e6f5893",
   "metadata": {},
   "outputs": [
    {
     "data": {
      "text/html": [
       "<div>\n",
       "<style scoped>\n",
       "    .dataframe tbody tr th:only-of-type {\n",
       "        vertical-align: middle;\n",
       "    }\n",
       "\n",
       "    .dataframe tbody tr th {\n",
       "        vertical-align: top;\n",
       "    }\n",
       "\n",
       "    .dataframe thead th {\n",
       "        text-align: right;\n",
       "    }\n",
       "</style>\n",
       "<table border=\"1\" class=\"dataframe\">\n",
       "  <thead>\n",
       "    <tr style=\"text-align: right;\">\n",
       "      <th></th>\n",
       "      <th>wordlist</th>\n",
       "      <th>wordfreq</th>\n",
       "    </tr>\n",
       "  </thead>\n",
       "  <tbody>\n",
       "    <tr>\n",
       "      <th>2</th>\n",
       "      <td>film</td>\n",
       "      <td>4601</td>\n",
       "    </tr>\n",
       "    <tr>\n",
       "      <th>3</th>\n",
       "      <td>movie</td>\n",
       "      <td>4401</td>\n",
       "    </tr>\n",
       "    <tr>\n",
       "      <th>6</th>\n",
       "      <td>one</td>\n",
       "      <td>2718</td>\n",
       "    </tr>\n",
       "    <tr>\n",
       "      <th>8</th>\n",
       "      <td>like</td>\n",
       "      <td>1701</td>\n",
       "    </tr>\n",
       "    <tr>\n",
       "      <th>9</th>\n",
       "      <td>time</td>\n",
       "      <td>1448</td>\n",
       "    </tr>\n",
       "    <tr>\n",
       "      <th>...</th>\n",
       "      <td>...</td>\n",
       "      <td>...</td>\n",
       "    </tr>\n",
       "    <tr>\n",
       "      <th>30944</th>\n",
       "      <td>code-breakers</td>\n",
       "      <td>1</td>\n",
       "    </tr>\n",
       "    <tr>\n",
       "      <th>30945</th>\n",
       "      <td>bletchly</td>\n",
       "      <td>1</td>\n",
       "    </tr>\n",
       "    <tr>\n",
       "      <th>30946</th>\n",
       "      <td>emerged</td>\n",
       "      <td>1</td>\n",
       "    </tr>\n",
       "    <tr>\n",
       "      <th>30947</th>\n",
       "      <td>makers.</td>\n",
       "      <td>1</td>\n",
       "    </tr>\n",
       "    <tr>\n",
       "      <th>30948</th>\n",
       "      <td>doubt.unmissable</td>\n",
       "      <td>1</td>\n",
       "    </tr>\n",
       "  </tbody>\n",
       "</table>\n",
       "<p>30944 rows × 2 columns</p>\n",
       "</div>"
      ],
      "text/plain": [
       "               wordlist  wordfreq\n",
       "2                  film      4601\n",
       "3                 movie      4401\n",
       "6                   one      2718\n",
       "8                  like      1701\n",
       "9                  time      1448\n",
       "...                 ...       ...\n",
       "30944     code-breakers         1\n",
       "30945          bletchly         1\n",
       "30946           emerged         1\n",
       "30947           makers.         1\n",
       "30948  doubt.unmissable         1\n",
       "\n",
       "[30944 rows x 2 columns]"
      ]
     },
     "execution_count": 23,
     "metadata": {},
     "output_type": "execute_result"
    }
   ],
   "source": [
    "# Clean up the dataframe and remove weird words\n",
    "df = df.drop(labels=0)\n",
    "df = df.drop(labels=1)\n",
    "df = df.drop(labels=4)\n",
    "df = df.drop(labels=5)\n",
    "df = df.drop(labels=7)\n",
    "df"
   ]
  },
  {
   "cell_type": "markdown",
   "id": "8645cceb-3e9e-4d12-9f21-2368ad95c1df",
   "metadata": {},
   "source": [
    "fluff"
   ]
  },
  {
   "cell_type": "code",
   "execution_count": 24,
   "id": "d616c944-f3c4-4b16-9e8f-9d4400960d02",
   "metadata": {},
   "outputs": [
    {
     "data": {
      "text/plain": [
       "<AxesSubplot:ylabel='wordlist'>"
      ]
     },
     "execution_count": 24,
     "metadata": {},
     "output_type": "execute_result"
    },
    {
     "data": {
      "image/png": "[encoded data removed]",
      "text/plain": [
       "<Figure size 2160x2160 with 1 Axes>"
      ]
     },
     "metadata": {
      "needs_background": "light"
     },
     "output_type": "display_data"
    }
   ],
   "source": [
    "# Barchart\n",
    "bar_df = df.loc[0:50, [\"wordlist\", \"wordfreq\"]]\n",
    "bar_df.plot.barh(x=\"wordlist\", y=\"wordfreq\", figsize=(30,30), fontsize=20)"
   ]
  },
  {
   "cell_type": "markdown",
   "id": "66a1a8bb-b7fc-4807-b33c-0c009e60c1a6",
   "metadata": {},
   "source": [
    "analysis fluff"
   ]
  },
  {
   "cell_type": "markdown",
   "id": "aa51890c-4b89-4898-9d84-95ab821dc1aa",
   "metadata": {},
   "source": [
    "##### Negative Reviews\n",
    "fluff about next section on negative words"
   ]
  },
  {
   "cell_type": "code",
   "execution_count": 25,
   "id": "50320037-c7ce-48b3-835e-0f3d89a8e0d2",
   "metadata": {},
   "outputs": [
    {
     "data": {
      "text/html": [
       "<div>\n",
       "<style scoped>\n",
       "    .dataframe tbody tr th:only-of-type {\n",
       "        vertical-align: middle;\n",
       "    }\n",
       "\n",
       "    .dataframe tbody tr th {\n",
       "        vertical-align: top;\n",
       "    }\n",
       "\n",
       "    .dataframe thead th {\n",
       "        text-align: right;\n",
       "    }\n",
       "</style>\n",
       "<table border=\"1\" class=\"dataframe\">\n",
       "  <thead>\n",
       "    <tr style=\"text-align: right;\">\n",
       "      <th></th>\n",
       "      <th>wordlist</th>\n",
       "      <th>wordfreq</th>\n",
       "    </tr>\n",
       "  </thead>\n",
       "  <tbody>\n",
       "    <tr>\n",
       "      <th>0</th>\n",
       "      <td>br</td>\n",
       "      <td>10836</td>\n",
       "    </tr>\n",
       "    <tr>\n",
       "      <th>1</th>\n",
       "      <td>'s</td>\n",
       "      <td>5831</td>\n",
       "    </tr>\n",
       "    <tr>\n",
       "      <th>2</th>\n",
       "      <td>movie</td>\n",
       "      <td>5726</td>\n",
       "    </tr>\n",
       "    <tr>\n",
       "      <th>3</th>\n",
       "      <td>film</td>\n",
       "      <td>4334</td>\n",
       "    </tr>\n",
       "    <tr>\n",
       "      <th>4</th>\n",
       "      <td>n't</td>\n",
       "      <td>4076</td>\n",
       "    </tr>\n",
       "    <tr>\n",
       "      <th>...</th>\n",
       "      <td>...</td>\n",
       "      <td>...</td>\n",
       "    </tr>\n",
       "    <tr>\n",
       "      <th>29968</th>\n",
       "      <td>extracted</td>\n",
       "      <td>1</td>\n",
       "    </tr>\n",
       "    <tr>\n",
       "      <th>29969</th>\n",
       "      <td>brutalizing</td>\n",
       "      <td>1</td>\n",
       "    </tr>\n",
       "    <tr>\n",
       "      <th>29970</th>\n",
       "      <td>unscarred</td>\n",
       "      <td>1</td>\n",
       "    </tr>\n",
       "    <tr>\n",
       "      <th>29971</th>\n",
       "      <td>mastroianni-movie</td>\n",
       "      <td>1</td>\n",
       "    </tr>\n",
       "    <tr>\n",
       "      <th>29972</th>\n",
       "      <td>-movie</td>\n",
       "      <td>1</td>\n",
       "    </tr>\n",
       "  </tbody>\n",
       "</table>\n",
       "<p>29973 rows × 2 columns</p>\n",
       "</div>"
      ],
      "text/plain": [
       "                wordlist  wordfreq\n",
       "0                     br     10836\n",
       "1                     's      5831\n",
       "2                  movie      5726\n",
       "3                   film      4334\n",
       "4                    n't      4076\n",
       "...                  ...       ...\n",
       "29968          extracted         1\n",
       "29969        brutalizing         1\n",
       "29970          unscarred         1\n",
       "29971  mastroianni-movie         1\n",
       "29972             -movie         1\n",
       "\n",
       "[29973 rows x 2 columns]"
      ]
     },
     "execution_count": 25,
     "metadata": {},
     "output_type": "execute_result"
    }
   ],
   "source": [
    "# Look only at the negative reviews\n",
    "reviews = \"\"\n",
    "for ind in range(5000):\n",
    "    if imdb_df[\"sentiment\"][ind] == \"negative\":\n",
    "        reviews = reviews + \" \" + imdb_df[\"review\"][ind]\n",
    "stop_words = stopwords.words(\"english\") + list(punctuation)\n",
    "words = word_tokenize(reviews.lower())\n",
    "completewords = [w for w in words if w not in stop_words]\n",
    "completestemmed = [WordNetLemmatizer().lemmatize(w) for w in completewords]\n",
    "freq = FreqDist(completestemmed)\n",
    "wordlist = []\n",
    "wordfreq = []\n",
    "for i in sorted(freq, key=freq.get, reverse=True):\n",
    "    wordlist.append(i)\n",
    "    wordfreq.append(freq[i])\n",
    "df = pd.DataFrame({'wordlist':wordlist, 'wordfreq':wordfreq})\n",
    "df"
   ]
  },
  {
   "cell_type": "code",
   "execution_count": 26,
   "id": "4a62670b-9094-4924-87f9-346b33b191b4",
   "metadata": {},
   "outputs": [
    {
     "data": {
      "text/html": [
       "<div>\n",
       "<style scoped>\n",
       "    .dataframe tbody tr th:only-of-type {\n",
       "        vertical-align: middle;\n",
       "    }\n",
       "\n",
       "    .dataframe tbody tr th {\n",
       "        vertical-align: top;\n",
       "    }\n",
       "\n",
       "    .dataframe thead th {\n",
       "        text-align: right;\n",
       "    }\n",
       "</style>\n",
       "<table border=\"1\" class=\"dataframe\">\n",
       "  <thead>\n",
       "    <tr style=\"text-align: right;\">\n",
       "      <th></th>\n",
       "      <th>wordlist</th>\n",
       "      <th>wordfreq</th>\n",
       "    </tr>\n",
       "  </thead>\n",
       "  <tbody>\n",
       "    <tr>\n",
       "      <th>2</th>\n",
       "      <td>movie</td>\n",
       "      <td>5726</td>\n",
       "    </tr>\n",
       "    <tr>\n",
       "      <th>3</th>\n",
       "      <td>film</td>\n",
       "      <td>4334</td>\n",
       "    </tr>\n",
       "    <tr>\n",
       "      <th>7</th>\n",
       "      <td>one</td>\n",
       "      <td>2584</td>\n",
       "    </tr>\n",
       "    <tr>\n",
       "      <th>8</th>\n",
       "      <td>like</td>\n",
       "      <td>2291</td>\n",
       "    </tr>\n",
       "    <tr>\n",
       "      <th>9</th>\n",
       "      <td>even</td>\n",
       "      <td>1606</td>\n",
       "    </tr>\n",
       "    <tr>\n",
       "      <th>...</th>\n",
       "      <td>...</td>\n",
       "      <td>...</td>\n",
       "    </tr>\n",
       "    <tr>\n",
       "      <th>29968</th>\n",
       "      <td>extracted</td>\n",
       "      <td>1</td>\n",
       "    </tr>\n",
       "    <tr>\n",
       "      <th>29969</th>\n",
       "      <td>brutalizing</td>\n",
       "      <td>1</td>\n",
       "    </tr>\n",
       "    <tr>\n",
       "      <th>29970</th>\n",
       "      <td>unscarred</td>\n",
       "      <td>1</td>\n",
       "    </tr>\n",
       "    <tr>\n",
       "      <th>29971</th>\n",
       "      <td>mastroianni-movie</td>\n",
       "      <td>1</td>\n",
       "    </tr>\n",
       "    <tr>\n",
       "      <th>29972</th>\n",
       "      <td>-movie</td>\n",
       "      <td>1</td>\n",
       "    </tr>\n",
       "  </tbody>\n",
       "</table>\n",
       "<p>29968 rows × 2 columns</p>\n",
       "</div>"
      ],
      "text/plain": [
       "                wordlist  wordfreq\n",
       "2                  movie      5726\n",
       "3                   film      4334\n",
       "7                    one      2584\n",
       "8                   like      2291\n",
       "9                   even      1606\n",
       "...                  ...       ...\n",
       "29968          extracted         1\n",
       "29969        brutalizing         1\n",
       "29970          unscarred         1\n",
       "29971  mastroianni-movie         1\n",
       "29972             -movie         1\n",
       "\n",
       "[29968 rows x 2 columns]"
      ]
     },
     "execution_count": 26,
     "metadata": {},
     "output_type": "execute_result"
    }
   ],
   "source": [
    "# Clean up dataframe and drop weird words\n",
    "df = df.drop(labels=0)\n",
    "df = df.drop(labels=1)\n",
    "df = df.drop(labels=4)\n",
    "df = df.drop(labels=5)\n",
    "df = df.drop(labels=6)\n",
    "df"
   ]
  },
  {
   "cell_type": "markdown",
   "id": "54f37ab4-cec1-43bb-9af3-92e5f60925fd",
   "metadata": {},
   "source": [
    "what do these words tell us?"
   ]
  },
  {
   "cell_type": "code",
   "execution_count": 27,
   "id": "e8785bf4-78f9-4efe-8e9e-8d0375c66b03",
   "metadata": {},
   "outputs": [
    {
     "data": {
      "text/plain": [
       "<AxesSubplot:ylabel='wordlist'>"
      ]
     },
     "execution_count": 27,
     "metadata": {},
     "output_type": "execute_result"
    },
    {
     "data": {
      "image/png": "[encoded data removed]",
      "text/plain": [
       "<Figure size 2160x2160 with 1 Axes>"
      ]
     },
     "metadata": {
      "needs_background": "light"
     },
     "output_type": "display_data"
    }
   ],
   "source": [
    "# Barchart\n",
    "bar_df = df.loc[0:30, [\"wordlist\", \"wordfreq\"]]\n",
    "bar_df.plot.barh(x=\"wordlist\", y=\"wordfreq\", figsize=(30,30), fontsize=20)"
   ]
  },
  {
   "cell_type": "markdown",
   "id": "03bc26b4-f98b-4941-a1a7-e373d79bd123",
   "metadata": {},
   "source": [
    "analysis fluff"
   ]
  },
  {
   "cell_type": "markdown",
   "id": "c5d0b88b-14ae-42b8-b47d-372d76797001",
   "metadata": {},
   "source": [
    "We can see that in the reviews with negative sentiment, they are using very succinct words such as good or bad. This is probably due to the fact that the reviewer didn't like the movie so they don't want to waste time writing an indepth review about the movie. However, you look at the most frequent words for reviews with positive sentiment and you can see similar succint words. It turns out succinct words are just positive in general but the positive sentiment reviews includes more synonomous with good such as great or love."
   ]
  },
  {
   "cell_type": "markdown",
   "id": "ba814abe-4842-4399-bec2-8191e8a48bbd",
   "metadata": {},
   "source": [
    "#### Data Analysis\n",
    "\n",
    "fluff stuffs"
   ]
  },
  {
   "cell_type": "code",
   "execution_count": 9,
   "id": "01ee6698-74b0-43d6-9c28-aa22540baafa",
   "metadata": {},
   "outputs": [],
   "source": [
    "sia = vader.SentimentIntensityAnalyzer()"
   ]
  },
  {
   "cell_type": "code",
   "execution_count": 14,
   "id": "e42b314c-2604-454d-8448-1447c860d720",
   "metadata": {},
   "outputs": [],
   "source": [
    "#for loop for the whole dataset\n",
    "\n",
    "#k = 0\n",
    "#for index, row in imdb_df.iterrows():\n",
    "    #review = imdb_df[\"review\"].iloc[k]\n",
    "    #print('Review ' + str(k) + \"'s compound polarity score is \" + str(sia.polarity_scores(review)[\"compound\"]))\n",
    "    #k+=1\n",
    "    \n",
    "#idk might want to modify this so the output is not gigantic"
   ]
  },
  {
   "cell_type": "code",
   "execution_count": 15,
   "id": "8e15877f-3ad7-4ac8-9854-5d54609b5cc2",
   "metadata": {},
   "outputs": [
    {
     "name": "stdout",
     "output_type": "stream",
     "text": [
      "Review 0's compound polarity score is -0.9951\n",
      "Review 1's compound polarity score is 0.9641\n",
      "Review 2's compound polarity score is 0.9605\n",
      "Review 3's compound polarity score is -0.9213\n",
      "Review 4's compound polarity score is 0.9744\n",
      "Review 5's compound polarity score is 0.9828\n",
      "Review 6's compound polarity score is 0.9022\n",
      "Review 7's compound polarity score is 0.8596\n",
      "Review 8's compound polarity score is 0.2362\n",
      "Review 9's compound polarity score is 0.9149\n",
      "Review 10's compound polarity score is 0.9482\n",
      "Review 11's compound polarity score is 0.5223\n",
      "Review 12's compound polarity score is -0.9721\n",
      "Review 13's compound polarity score is 0.3425\n",
      "Review 14's compound polarity score is 0.6168\n",
      "Review 15's compound polarity score is -0.6993\n",
      "Review 16's compound polarity score is 0.3506\n",
      "Review 17's compound polarity score is -0.9868\n",
      "Review 18's compound polarity score is 0.6518\n",
      "Review 19's compound polarity score is 0.945\n",
      "Review 20's compound polarity score is 0.5425\n",
      "Review 21's compound polarity score is -0.9755\n",
      "Review 22's compound polarity score is 0.7948\n",
      "Review 23's compound polarity score is 0.899\n",
      "Review 24's compound polarity score is -0.7602\n",
      "Review 25's compound polarity score is 0.954\n",
      "Review 26's compound polarity score is 0.9962\n",
      "Review 27's compound polarity score is -0.8481\n",
      "Review 28's compound polarity score is -0.9208\n",
      "Review 29's compound polarity score is -0.987\n",
      "Review 30's compound polarity score is -0.9907\n",
      "Review 31's compound polarity score is -0.6485\n",
      "Review 32's compound polarity score is -0.9604\n",
      "Review 33's compound polarity score is 0.9971\n",
      "Review 34's compound polarity score is 0.7133\n",
      "Review 35's compound polarity score is -0.9399\n",
      "Review 36's compound polarity score is -0.962\n",
      "Review 37's compound polarity score is -0.9847\n",
      "Review 38's compound polarity score is 0.9838\n",
      "Review 39's compound polarity score is 0.9797\n",
      "Review 40's compound polarity score is 0.0854\n",
      "Review 41's compound polarity score is 0.9858\n",
      "Review 42's compound polarity score is -0.4678\n",
      "Review 43's compound polarity score is 0.9818\n",
      "Review 44's compound polarity score is 0.9182\n",
      "Review 45's compound polarity score is 0.9401\n",
      "Review 46's compound polarity score is 0.9165\n",
      "Review 47's compound polarity score is -0.68\n",
      "Review 48's compound polarity score is -0.382\n",
      "Review 49's compound polarity score is 0.2152\n"
     ]
    }
   ],
   "source": [
    "k = 0\n",
    "data = []\n",
    "for index, row in imdb_df.iterrows():\n",
    "    while k < 50:\n",
    "        review = imdb_df[\"review\"].iloc[k]\n",
    "        print('Review ' + str(k) + \"'s compound polarity score is \" + str(sia.polarity_scores(review)[\"compound\"]))\n",
    "        data.append(sia.polarity_scores(review)[\"compound\"])\n",
    "        k+=1"
   ]
  },
  {
   "cell_type": "code",
   "execution_count": 16,
   "id": "9bca9a85-ec3d-4194-853a-3437937ba98d",
   "metadata": {},
   "outputs": [
    {
     "data": {
      "text/html": [
       "<div>\n",
       "<style scoped>\n",
       "    .dataframe tbody tr th:only-of-type {\n",
       "        vertical-align: middle;\n",
       "    }\n",
       "\n",
       "    .dataframe tbody tr th {\n",
       "        vertical-align: top;\n",
       "    }\n",
       "\n",
       "    .dataframe thead th {\n",
       "        text-align: right;\n",
       "    }\n",
       "</style>\n",
       "<table border=\"1\" class=\"dataframe\">\n",
       "  <thead>\n",
       "    <tr style=\"text-align: right;\">\n",
       "      <th></th>\n",
       "      <th>0</th>\n",
       "    </tr>\n",
       "  </thead>\n",
       "  <tbody>\n",
       "    <tr>\n",
       "      <th>0</th>\n",
       "      <td>-0.9951</td>\n",
       "    </tr>\n",
       "    <tr>\n",
       "      <th>1</th>\n",
       "      <td>0.9641</td>\n",
       "    </tr>\n",
       "    <tr>\n",
       "      <th>2</th>\n",
       "      <td>0.9605</td>\n",
       "    </tr>\n",
       "    <tr>\n",
       "      <th>3</th>\n",
       "      <td>-0.9213</td>\n",
       "    </tr>\n",
       "    <tr>\n",
       "      <th>4</th>\n",
       "      <td>0.9744</td>\n",
       "    </tr>\n",
       "    <tr>\n",
       "      <th>5</th>\n",
       "      <td>0.9828</td>\n",
       "    </tr>\n",
       "    <tr>\n",
       "      <th>6</th>\n",
       "      <td>0.9022</td>\n",
       "    </tr>\n",
       "    <tr>\n",
       "      <th>7</th>\n",
       "      <td>0.8596</td>\n",
       "    </tr>\n",
       "    <tr>\n",
       "      <th>8</th>\n",
       "      <td>0.2362</td>\n",
       "    </tr>\n",
       "    <tr>\n",
       "      <th>9</th>\n",
       "      <td>0.9149</td>\n",
       "    </tr>\n",
       "    <tr>\n",
       "      <th>10</th>\n",
       "      <td>0.9482</td>\n",
       "    </tr>\n",
       "    <tr>\n",
       "      <th>11</th>\n",
       "      <td>0.5223</td>\n",
       "    </tr>\n",
       "    <tr>\n",
       "      <th>12</th>\n",
       "      <td>-0.9721</td>\n",
       "    </tr>\n",
       "    <tr>\n",
       "      <th>13</th>\n",
       "      <td>0.3425</td>\n",
       "    </tr>\n",
       "    <tr>\n",
       "      <th>14</th>\n",
       "      <td>0.6168</td>\n",
       "    </tr>\n",
       "    <tr>\n",
       "      <th>15</th>\n",
       "      <td>-0.6993</td>\n",
       "    </tr>\n",
       "    <tr>\n",
       "      <th>16</th>\n",
       "      <td>0.3506</td>\n",
       "    </tr>\n",
       "    <tr>\n",
       "      <th>17</th>\n",
       "      <td>-0.9868</td>\n",
       "    </tr>\n",
       "    <tr>\n",
       "      <th>18</th>\n",
       "      <td>0.6518</td>\n",
       "    </tr>\n",
       "    <tr>\n",
       "      <th>19</th>\n",
       "      <td>0.9450</td>\n",
       "    </tr>\n",
       "    <tr>\n",
       "      <th>20</th>\n",
       "      <td>0.5425</td>\n",
       "    </tr>\n",
       "    <tr>\n",
       "      <th>21</th>\n",
       "      <td>-0.9755</td>\n",
       "    </tr>\n",
       "    <tr>\n",
       "      <th>22</th>\n",
       "      <td>0.7948</td>\n",
       "    </tr>\n",
       "    <tr>\n",
       "      <th>23</th>\n",
       "      <td>0.8990</td>\n",
       "    </tr>\n",
       "    <tr>\n",
       "      <th>24</th>\n",
       "      <td>-0.7602</td>\n",
       "    </tr>\n",
       "    <tr>\n",
       "      <th>25</th>\n",
       "      <td>0.9540</td>\n",
       "    </tr>\n",
       "    <tr>\n",
       "      <th>26</th>\n",
       "      <td>0.9962</td>\n",
       "    </tr>\n",
       "    <tr>\n",
       "      <th>27</th>\n",
       "      <td>-0.8481</td>\n",
       "    </tr>\n",
       "    <tr>\n",
       "      <th>28</th>\n",
       "      <td>-0.9208</td>\n",
       "    </tr>\n",
       "    <tr>\n",
       "      <th>29</th>\n",
       "      <td>-0.9870</td>\n",
       "    </tr>\n",
       "    <tr>\n",
       "      <th>30</th>\n",
       "      <td>-0.9907</td>\n",
       "    </tr>\n",
       "    <tr>\n",
       "      <th>31</th>\n",
       "      <td>-0.6485</td>\n",
       "    </tr>\n",
       "    <tr>\n",
       "      <th>32</th>\n",
       "      <td>-0.9604</td>\n",
       "    </tr>\n",
       "    <tr>\n",
       "      <th>33</th>\n",
       "      <td>0.9971</td>\n",
       "    </tr>\n",
       "    <tr>\n",
       "      <th>34</th>\n",
       "      <td>0.7133</td>\n",
       "    </tr>\n",
       "    <tr>\n",
       "      <th>35</th>\n",
       "      <td>-0.9399</td>\n",
       "    </tr>\n",
       "    <tr>\n",
       "      <th>36</th>\n",
       "      <td>-0.9620</td>\n",
       "    </tr>\n",
       "    <tr>\n",
       "      <th>37</th>\n",
       "      <td>-0.9847</td>\n",
       "    </tr>\n",
       "    <tr>\n",
       "      <th>38</th>\n",
       "      <td>0.9838</td>\n",
       "    </tr>\n",
       "    <tr>\n",
       "      <th>39</th>\n",
       "      <td>0.9797</td>\n",
       "    </tr>\n",
       "    <tr>\n",
       "      <th>40</th>\n",
       "      <td>0.0854</td>\n",
       "    </tr>\n",
       "    <tr>\n",
       "      <th>41</th>\n",
       "      <td>0.9858</td>\n",
       "    </tr>\n",
       "    <tr>\n",
       "      <th>42</th>\n",
       "      <td>-0.4678</td>\n",
       "    </tr>\n",
       "    <tr>\n",
       "      <th>43</th>\n",
       "      <td>0.9818</td>\n",
       "    </tr>\n",
       "    <tr>\n",
       "      <th>44</th>\n",
       "      <td>0.9182</td>\n",
       "    </tr>\n",
       "    <tr>\n",
       "      <th>45</th>\n",
       "      <td>0.9401</td>\n",
       "    </tr>\n",
       "    <tr>\n",
       "      <th>46</th>\n",
       "      <td>0.9165</td>\n",
       "    </tr>\n",
       "    <tr>\n",
       "      <th>47</th>\n",
       "      <td>-0.6800</td>\n",
       "    </tr>\n",
       "    <tr>\n",
       "      <th>48</th>\n",
       "      <td>-0.3820</td>\n",
       "    </tr>\n",
       "    <tr>\n",
       "      <th>49</th>\n",
       "      <td>0.2152</td>\n",
       "    </tr>\n",
       "  </tbody>\n",
       "</table>\n",
       "</div>"
      ],
      "text/plain": [
       "         0\n",
       "0  -0.9951\n",
       "1   0.9641\n",
       "2   0.9605\n",
       "3  -0.9213\n",
       "4   0.9744\n",
       "5   0.9828\n",
       "6   0.9022\n",
       "7   0.8596\n",
       "8   0.2362\n",
       "9   0.9149\n",
       "10  0.9482\n",
       "11  0.5223\n",
       "12 -0.9721\n",
       "13  0.3425\n",
       "14  0.6168\n",
       "15 -0.6993\n",
       "16  0.3506\n",
       "17 -0.9868\n",
       "18  0.6518\n",
       "19  0.9450\n",
       "20  0.5425\n",
       "21 -0.9755\n",
       "22  0.7948\n",
       "23  0.8990\n",
       "24 -0.7602\n",
       "25  0.9540\n",
       "26  0.9962\n",
       "27 -0.8481\n",
       "28 -0.9208\n",
       "29 -0.9870\n",
       "30 -0.9907\n",
       "31 -0.6485\n",
       "32 -0.9604\n",
       "33  0.9971\n",
       "34  0.7133\n",
       "35 -0.9399\n",
       "36 -0.9620\n",
       "37 -0.9847\n",
       "38  0.9838\n",
       "39  0.9797\n",
       "40  0.0854\n",
       "41  0.9858\n",
       "42 -0.4678\n",
       "43  0.9818\n",
       "44  0.9182\n",
       "45  0.9401\n",
       "46  0.9165\n",
       "47 -0.6800\n",
       "48 -0.3820\n",
       "49  0.2152"
      ]
     },
     "execution_count": 16,
     "metadata": {},
     "output_type": "execute_result"
    }
   ],
   "source": [
    "# put compound polarity scores in a dataframe\n",
    "data_df = pd.DataFrame(data)\n",
    "data_df"
   ]
  },
  {
   "cell_type": "code",
   "execution_count": 17,
   "id": "065a13f1-666e-42cc-8ce7-ef894eeed17c",
   "metadata": {},
   "outputs": [
    {
     "data": {
      "text/plain": [
       "<AxesSubplot:ylabel='Frequency'>"
      ]
     },
     "execution_count": 17,
     "metadata": {},
     "output_type": "execute_result"
    },
    {
     "data": {
      "image/png": "[encoded data removed]",
      "text/plain": [
       "<Figure size 432x288 with 1 Axes>"
      ]
     },
     "metadata": {
      "needs_background": "light"
     },
     "output_type": "display_data"
    }
   ],
   "source": [
    "#histogram of the compound polarity scores\n",
    "data_df.plot(kind='hist')"
   ]
  },
  {
   "cell_type": "markdown",
   "id": "057cc051-5d9d-423b-b2b2-6135c82cb8e9",
   "metadata": {},
   "source": [
    "analysis fluff"
   ]
  },
  {
   "cell_type": "markdown",
   "id": "a71411c9-5c14-4136-9ca5-f57378ce518d",
   "metadata": {},
   "source": [
    "next section on positive scores"
   ]
  },
  {
   "cell_type": "code",
   "execution_count": 18,
   "id": "f82e0919-31c2-4c6d-b498-999b8b0ed3f7",
   "metadata": {},
   "outputs": [
    {
     "data": {
      "text/html": [
       "<div>\n",
       "<style scoped>\n",
       "    .dataframe tbody tr th:only-of-type {\n",
       "        vertical-align: middle;\n",
       "    }\n",
       "\n",
       "    .dataframe tbody tr th {\n",
       "        vertical-align: top;\n",
       "    }\n",
       "\n",
       "    .dataframe thead th {\n",
       "        text-align: right;\n",
       "    }\n",
       "</style>\n",
       "<table border=\"1\" class=\"dataframe\">\n",
       "  <thead>\n",
       "    <tr style=\"text-align: right;\">\n",
       "      <th></th>\n",
       "      <th>review</th>\n",
       "      <th>sentiment</th>\n",
       "    </tr>\n",
       "  </thead>\n",
       "  <tbody>\n",
       "    <tr>\n",
       "      <th>0</th>\n",
       "      <td>One of the other reviewers has mentioned that ...</td>\n",
       "      <td>positive</td>\n",
       "    </tr>\n",
       "    <tr>\n",
       "      <th>1</th>\n",
       "      <td>A wonderful little production. &lt;br /&gt;&lt;br /&gt;The...</td>\n",
       "      <td>positive</td>\n",
       "    </tr>\n",
       "    <tr>\n",
       "      <th>2</th>\n",
       "      <td>I thought this was a wonderful way to spend ti...</td>\n",
       "      <td>positive</td>\n",
       "    </tr>\n",
       "    <tr>\n",
       "      <th>4</th>\n",
       "      <td>Petter Mattei's \"Love in the Time of Money\" is...</td>\n",
       "      <td>positive</td>\n",
       "    </tr>\n",
       "    <tr>\n",
       "      <th>5</th>\n",
       "      <td>Probably my all-time favorite movie, a story o...</td>\n",
       "      <td>positive</td>\n",
       "    </tr>\n",
       "    <tr>\n",
       "      <th>...</th>\n",
       "      <td>...</td>\n",
       "      <td>...</td>\n",
       "    </tr>\n",
       "    <tr>\n",
       "      <th>49983</th>\n",
       "      <td>I loved it, having been a fan of the original ...</td>\n",
       "      <td>positive</td>\n",
       "    </tr>\n",
       "    <tr>\n",
       "      <th>49985</th>\n",
       "      <td>Imaginary Heroes is clearly the best film of t...</td>\n",
       "      <td>positive</td>\n",
       "    </tr>\n",
       "    <tr>\n",
       "      <th>49989</th>\n",
       "      <td>I got this one a few weeks ago and love it! It...</td>\n",
       "      <td>positive</td>\n",
       "    </tr>\n",
       "    <tr>\n",
       "      <th>49992</th>\n",
       "      <td>John Garfield plays a Marine who is blinded by...</td>\n",
       "      <td>positive</td>\n",
       "    </tr>\n",
       "    <tr>\n",
       "      <th>49995</th>\n",
       "      <td>I thought this movie did a down right good job...</td>\n",
       "      <td>positive</td>\n",
       "    </tr>\n",
       "  </tbody>\n",
       "</table>\n",
       "<p>25000 rows × 2 columns</p>\n",
       "</div>"
      ],
      "text/plain": [
       "                                                  review sentiment\n",
       "0      One of the other reviewers has mentioned that ...  positive\n",
       "1      A wonderful little production. <br /><br />The...  positive\n",
       "2      I thought this was a wonderful way to spend ti...  positive\n",
       "4      Petter Mattei's \"Love in the Time of Money\" is...  positive\n",
       "5      Probably my all-time favorite movie, a story o...  positive\n",
       "...                                                  ...       ...\n",
       "49983  I loved it, having been a fan of the original ...  positive\n",
       "49985  Imaginary Heroes is clearly the best film of t...  positive\n",
       "49989  I got this one a few weeks ago and love it! It...  positive\n",
       "49992  John Garfield plays a Marine who is blinded by...  positive\n",
       "49995  I thought this movie did a down right good job...  positive\n",
       "\n",
       "[25000 rows x 2 columns]"
      ]
     },
     "execution_count": 18,
     "metadata": {},
     "output_type": "execute_result"
    }
   ],
   "source": [
    "#looking at only polarity scores labeled as \"positive\"\n",
    "grouped = imdb_df.groupby(imdb_df.sentiment)\n",
    "\n",
    "positive = grouped.get_group(\"positive\")\n",
    "positive"
   ]
  },
  {
   "cell_type": "code",
   "execution_count": 19,
   "id": "9f3ec6d2-a5e8-4344-b30a-d4d796968893",
   "metadata": {},
   "outputs": [
    {
     "name": "stdout",
     "output_type": "stream",
     "text": [
      "Review 0's compound polarity score is -0.9951\n",
      "Review 1's compound polarity score is 0.9641\n",
      "Review 2's compound polarity score is 0.9605\n",
      "Review 3's compound polarity score is 0.9744\n",
      "Review 4's compound polarity score is 0.9828\n",
      "Review 5's compound polarity score is 0.9022\n",
      "Review 6's compound polarity score is 0.9149\n",
      "Review 7's compound polarity score is 0.6168\n",
      "Review 8's compound polarity score is 0.3506\n",
      "Review 9's compound polarity score is 0.6518\n",
      "Review 10's compound polarity score is 0.5425\n",
      "Review 11's compound polarity score is 0.7948\n",
      "Review 12's compound polarity score is 0.954\n",
      "Review 13's compound polarity score is 0.9962\n",
      "Review 14's compound polarity score is -0.987\n",
      "Review 15's compound polarity score is -0.9907\n",
      "Review 16's compound polarity score is -0.6485\n",
      "Review 17's compound polarity score is 0.9971\n",
      "Review 18's compound polarity score is 0.9838\n",
      "Review 19's compound polarity score is 0.9858\n",
      "Review 20's compound polarity score is 0.9182\n",
      "Review 21's compound polarity score is 0.9401\n",
      "Review 22's compound polarity score is -0.382\n",
      "Review 23's compound polarity score is 0.9396\n",
      "Review 24's compound polarity score is 0.9893\n",
      "Review 25's compound polarity score is -0.9274\n",
      "Review 26's compound polarity score is 0.7416\n",
      "Review 27's compound polarity score is -0.8235\n",
      "Review 28's compound polarity score is 0.992\n",
      "Review 29's compound polarity score is 0.7747\n",
      "Review 30's compound polarity score is 0.6803\n",
      "Review 31's compound polarity score is 0.6441\n",
      "Review 32's compound polarity score is 0.9813\n",
      "Review 33's compound polarity score is 0.9847\n",
      "Review 34's compound polarity score is -0.8963\n",
      "Review 35's compound polarity score is 0.8498\n",
      "Review 36's compound polarity score is 0.9714\n",
      "Review 37's compound polarity score is 0.9311\n",
      "Review 38's compound polarity score is 0.9943\n",
      "Review 39's compound polarity score is 0.9818\n",
      "Review 40's compound polarity score is 0.9826\n",
      "Review 41's compound polarity score is 0.9831\n",
      "Review 42's compound polarity score is 0.8956\n",
      "Review 43's compound polarity score is 0.9437\n",
      "Review 44's compound polarity score is -0.4877\n",
      "Review 45's compound polarity score is 0.9865\n",
      "Review 46's compound polarity score is 0.9726\n",
      "Review 47's compound polarity score is 0.9761\n",
      "Review 48's compound polarity score is 0.9566\n",
      "Review 49's compound polarity score is 0.8133\n"
     ]
    }
   ],
   "source": [
    "k = 0\n",
    "posdata = []\n",
    "for index, row in positive.iterrows():\n",
    "    while k < 50:\n",
    "        review = positive[\"review\"].iloc[k]\n",
    "        print('Review ' + str(k) + \"'s compound polarity score is \" + str(sia.polarity_scores(review)[\"compound\"]))\n",
    "        posdata.append(sia.polarity_scores(review)[\"compound\"])\n",
    "        k+=1"
   ]
  },
  {
   "cell_type": "code",
   "execution_count": 20,
   "id": "2f2b7d57-b45b-4f5a-8136-d30130b5f1cf",
   "metadata": {},
   "outputs": [
    {
     "data": {
      "text/plain": [
       "<AxesSubplot:ylabel='Frequency'>"
      ]
     },
     "execution_count": 20,
     "metadata": {},
     "output_type": "execute_result"
    },
    {
     "data": {
      "image/png": "[encoded data removed]",
      "text/plain": [
       "<Figure size 432x288 with 1 Axes>"
      ]
     },
     "metadata": {
      "needs_background": "light"
     },
     "output_type": "display_data"
    }
   ],
   "source": [
    "posdata_df = pd.DataFrame(posdata)\n",
    "posdata_df.plot(kind='hist')"
   ]
  },
  {
   "cell_type": "markdown",
   "id": "6f761807-0df0-4528-a1ed-d293daf867ba",
   "metadata": {},
   "source": [
    "analysis fluff"
   ]
  },
  {
   "cell_type": "code",
   "execution_count": 21,
   "id": "f7ca42e5-12d5-4f99-97d2-a1db0fb36b39",
   "metadata": {},
   "outputs": [
    {
     "data": {
      "image/png": "[encoded data removed]",
      "text/plain": [
       "<Figure size 432x288 with 1 Axes>"
      ]
     },
     "metadata": {
      "needs_background": "light"
     },
     "output_type": "display_data"
    },
    {
     "data": {
      "text/plain": [
       "<AxesSubplot:xlabel='Samples', ylabel='Counts'>"
      ]
     },
     "execution_count": 21,
     "metadata": {},
     "output_type": "execute_result"
    }
   ],
   "source": [
    "positiveFreq.plot(50,cumulative=False)"
   ]
  },
  {
   "cell_type": "markdown",
   "id": "fa444319-be09-41fd-8084-0ef520638b0f",
   "metadata": {},
   "source": [
    "fluff"
   ]
  },
  {
   "cell_type": "markdown",
   "id": "18633e94-08b8-4fb1-9f8e-ac8b8780e08b",
   "metadata": {},
   "source": [
    "stuff about negative section"
   ]
  },
  {
   "cell_type": "code",
   "execution_count": 22,
   "id": "b959aeff-652c-4239-bdaa-7095d3636ebf",
   "metadata": {},
   "outputs": [
    {
     "data": {
      "text/html": [
       "<div>\n",
       "<style scoped>\n",
       "    .dataframe tbody tr th:only-of-type {\n",
       "        vertical-align: middle;\n",
       "    }\n",
       "\n",
       "    .dataframe tbody tr th {\n",
       "        vertical-align: top;\n",
       "    }\n",
       "\n",
       "    .dataframe thead th {\n",
       "        text-align: right;\n",
       "    }\n",
       "</style>\n",
       "<table border=\"1\" class=\"dataframe\">\n",
       "  <thead>\n",
       "    <tr style=\"text-align: right;\">\n",
       "      <th></th>\n",
       "      <th>review</th>\n",
       "      <th>sentiment</th>\n",
       "    </tr>\n",
       "  </thead>\n",
       "  <tbody>\n",
       "    <tr>\n",
       "      <th>3</th>\n",
       "      <td>Basically there's a family where a little boy ...</td>\n",
       "      <td>negative</td>\n",
       "    </tr>\n",
       "    <tr>\n",
       "      <th>7</th>\n",
       "      <td>This show was an amazing, fresh &amp; innovative i...</td>\n",
       "      <td>negative</td>\n",
       "    </tr>\n",
       "    <tr>\n",
       "      <th>8</th>\n",
       "      <td>Encouraged by the positive comments about this...</td>\n",
       "      <td>negative</td>\n",
       "    </tr>\n",
       "    <tr>\n",
       "      <th>10</th>\n",
       "      <td>Phil the Alien is one of those quirky films wh...</td>\n",
       "      <td>negative</td>\n",
       "    </tr>\n",
       "    <tr>\n",
       "      <th>11</th>\n",
       "      <td>I saw this movie when I was about 12 when it c...</td>\n",
       "      <td>negative</td>\n",
       "    </tr>\n",
       "    <tr>\n",
       "      <th>...</th>\n",
       "      <td>...</td>\n",
       "      <td>...</td>\n",
       "    </tr>\n",
       "    <tr>\n",
       "      <th>49994</th>\n",
       "      <td>This is your typical junk comedy.&lt;br /&gt;&lt;br /&gt;T...</td>\n",
       "      <td>negative</td>\n",
       "    </tr>\n",
       "    <tr>\n",
       "      <th>49996</th>\n",
       "      <td>Bad plot, bad dialogue, bad acting, idiotic di...</td>\n",
       "      <td>negative</td>\n",
       "    </tr>\n",
       "    <tr>\n",
       "      <th>49997</th>\n",
       "      <td>I am a Catholic taught in parochial elementary...</td>\n",
       "      <td>negative</td>\n",
       "    </tr>\n",
       "    <tr>\n",
       "      <th>49998</th>\n",
       "      <td>I'm going to have to disagree with the previou...</td>\n",
       "      <td>negative</td>\n",
       "    </tr>\n",
       "    <tr>\n",
       "      <th>49999</th>\n",
       "      <td>No one expects the Star Trek movies to be high...</td>\n",
       "      <td>negative</td>\n",
       "    </tr>\n",
       "  </tbody>\n",
       "</table>\n",
       "<p>25000 rows × 2 columns</p>\n",
       "</div>"
      ],
      "text/plain": [
       "                                                  review sentiment\n",
       "3      Basically there's a family where a little boy ...  negative\n",
       "7      This show was an amazing, fresh & innovative i...  negative\n",
       "8      Encouraged by the positive comments about this...  negative\n",
       "10     Phil the Alien is one of those quirky films wh...  negative\n",
       "11     I saw this movie when I was about 12 when it c...  negative\n",
       "...                                                  ...       ...\n",
       "49994  This is your typical junk comedy.<br /><br />T...  negative\n",
       "49996  Bad plot, bad dialogue, bad acting, idiotic di...  negative\n",
       "49997  I am a Catholic taught in parochial elementary...  negative\n",
       "49998  I'm going to have to disagree with the previou...  negative\n",
       "49999  No one expects the Star Trek movies to be high...  negative\n",
       "\n",
       "[25000 rows x 2 columns]"
      ]
     },
     "execution_count": 22,
     "metadata": {},
     "output_type": "execute_result"
    }
   ],
   "source": [
    "grouped = imdb_df.groupby(imdb_df.sentiment)\n",
    "\n",
    "negative = grouped.get_group(\"negative\")\n",
    "negative"
   ]
  },
  {
   "cell_type": "code",
   "execution_count": 23,
   "id": "86742eae-d0e9-47fe-b747-038425ff0fe6",
   "metadata": {},
   "outputs": [
    {
     "name": "stdout",
     "output_type": "stream",
     "text": [
      "Review 0's compound polarity score is -0.9213\n",
      "Review 1's compound polarity score is 0.8596\n",
      "Review 2's compound polarity score is 0.2362\n",
      "Review 3's compound polarity score is 0.9482\n",
      "Review 4's compound polarity score is 0.5223\n",
      "Review 5's compound polarity score is -0.9721\n",
      "Review 6's compound polarity score is 0.3425\n",
      "Review 7's compound polarity score is -0.6993\n",
      "Review 8's compound polarity score is -0.9868\n",
      "Review 9's compound polarity score is 0.945\n",
      "Review 10's compound polarity score is -0.9755\n",
      "Review 11's compound polarity score is 0.899\n",
      "Review 12's compound polarity score is -0.7602\n",
      "Review 13's compound polarity score is -0.8481\n",
      "Review 14's compound polarity score is -0.9208\n",
      "Review 15's compound polarity score is -0.9604\n",
      "Review 16's compound polarity score is 0.7133\n",
      "Review 17's compound polarity score is -0.9399\n",
      "Review 18's compound polarity score is -0.962\n",
      "Review 19's compound polarity score is -0.9847\n",
      "Review 20's compound polarity score is 0.9797\n",
      "Review 21's compound polarity score is 0.0854\n",
      "Review 22's compound polarity score is -0.4678\n",
      "Review 23's compound polarity score is 0.9818\n",
      "Review 24's compound polarity score is 0.9165\n",
      "Review 25's compound polarity score is -0.68\n",
      "Review 26's compound polarity score is 0.2152\n",
      "Review 27's compound polarity score is -0.968\n",
      "Review 28's compound polarity score is -0.3696\n",
      "Review 29's compound polarity score is -0.9477\n",
      "Review 30's compound polarity score is 0.7648\n",
      "Review 31's compound polarity score is 0.9139\n",
      "Review 32's compound polarity score is -0.3699\n",
      "Review 33's compound polarity score is -0.168\n",
      "Review 34's compound polarity score is -0.4442\n",
      "Review 35's compound polarity score is -0.6416\n",
      "Review 36's compound polarity score is 0.9902\n",
      "Review 37's compound polarity score is 0.7073\n",
      "Review 38's compound polarity score is 0.9422\n",
      "Review 39's compound polarity score is 0.9837\n",
      "Review 40's compound polarity score is 0.9852\n",
      "Review 41's compound polarity score is 0.9382\n",
      "Review 42's compound polarity score is -0.9973\n",
      "Review 43's compound polarity score is 0.4082\n",
      "Review 44's compound polarity score is -0.9504\n",
      "Review 45's compound polarity score is -0.8837\n",
      "Review 46's compound polarity score is 0.5907\n",
      "Review 47's compound polarity score is -0.8489\n",
      "Review 48's compound polarity score is -0.9123\n",
      "Review 49's compound polarity score is -0.1012\n"
     ]
    }
   ],
   "source": [
    "k = 0\n",
    "negdata = []\n",
    "for index, row in negative.iterrows():\n",
    "    while k < 50:\n",
    "        review = negative[\"review\"].iloc[k]\n",
    "        print('Review ' + str(k) + \"'s compound polarity score is \" + str(sia.polarity_scores(review)[\"compound\"]))\n",
    "        negdata.append(sia.polarity_scores(review)[\"compound\"])\n",
    "        k+=1"
   ]
  },
  {
   "cell_type": "code",
   "execution_count": 24,
   "id": "6c934f43-2626-422f-94f6-c638831c1d77",
   "metadata": {},
   "outputs": [
    {
     "data": {
      "text/plain": [
       "<AxesSubplot:>"
      ]
     },
     "execution_count": 24,
     "metadata": {},
     "output_type": "execute_result"
    },
    {
     "data": {
      "image/png": "[encoded data removed]",
      "text/plain": [
       "<Figure size 432x288 with 1 Axes>"
      ]
     },
     "metadata": {
      "needs_background": "light"
     },
     "output_type": "display_data"
    }
   ],
   "source": [
    "negdata_df = pd.DataFrame(negdata)\n",
    "negdata_df.plot(kind='line')"
   ]
  },
  {
   "cell_type": "code",
   "execution_count": 25,
   "id": "8cd8debc-ddad-4278-a3a3-d933582be323",
   "metadata": {},
   "outputs": [
    {
     "data": {
      "image/png": "[encoded data removed]",
      "text/plain": [
       "<Figure size 432x288 with 1 Axes>"
      ]
     },
     "metadata": {
      "needs_background": "light"
     },
     "output_type": "display_data"
    },
    {
     "data": {
      "text/plain": [
       "<AxesSubplot:xlabel='Samples', ylabel='Counts'>"
      ]
     },
     "execution_count": 25,
     "metadata": {},
     "output_type": "execute_result"
    }
   ],
   "source": [
    "negfreq.plot(50,cumulative=False)"
   ]
  },
  {
   "cell_type": "code",
   "execution_count": 26,
   "id": "69f3315a-ae64-46ea-a766-4fed9331ecb3",
   "metadata": {},
   "outputs": [
    {
     "data": {
      "text/plain": [
       "0    0.58517\n",
       "dtype: float64"
      ]
     },
     "execution_count": 26,
     "metadata": {},
     "output_type": "execute_result"
    }
   ],
   "source": [
    "posdata_df.mean()"
   ]
  },
  {
   "cell_type": "code",
   "execution_count": 27,
   "id": "5b7121c2-c7f9-4f52-848c-247b2d01f298",
   "metadata": {},
   "outputs": [
    {
     "data": {
      "text/plain": [
       "0   -0.076252\n",
       "dtype: float64"
      ]
     },
     "execution_count": 27,
     "metadata": {},
     "output_type": "execute_result"
    }
   ],
   "source": [
    "negdata_df.mean()"
   ]
  },
  {
   "cell_type": "code",
   "execution_count": 28,
   "id": "eb4c31cd-8d82-4f18-9dab-f278af0d3010",
   "metadata": {},
   "outputs": [
    {
     "data": {
      "image/png": "[encoded data removed]",
      "text/plain": [
       "<Figure size 432x288 with 1 Axes>"
      ]
     },
     "metadata": {
      "needs_background": "light"
     },
     "output_type": "display_data"
    }
   ],
   "source": [
    "n=1\n",
    "r = np.arange(n)\n",
    "width = 0.25\n",
    "\n",
    "x = [posdata_df.mean()[0], negdata_df.mean()[0]]\n",
    "\n",
    "ax1 = plt.subplot()\n",
    "ax1.set_xticks([1,2])\n",
    "\n",
    "# plt.bar(r, posdata_df.mean(), color = 'b',\n",
    "#         width = width, edgecolor = 'black',\n",
    "#         label='average positive sentiment')\n",
    "# plt.bar(r + width, negdata_df.mean(), color = 'r',\n",
    "#         width = width, edgecolor = 'black',\n",
    "#         label='average negative sentiment')\n",
    "plt.bar([1,2], x)\n",
    "\n",
    "ax1.set_xticklabels(['average positive sentiment', 'average negative sentiment'])\n",
    "plt.ylabel(\"Average Sentiment Value\")\n",
    "  \n",
    "plt.title(\"Average Sentiment Values\")  \n",
    "plt.text(1, 0.6, str(round(x[0], 3)))\n",
    "plt.text(2, 0.02, str(round(x[1], 3)))\n",
    "  \n",
    "plt.show()"
   ]
  },
  {
   "cell_type": "markdown",
   "id": "bf56d04a-2d79-4d69-88a6-c52bdf5b2f37",
   "metadata": {},
   "source": [
    "words here"
   ]
  },
  {
   "cell_type": "code",
   "execution_count": 29,
   "id": "097f2640-c100-4e27-ac99-e6105e18e5de",
   "metadata": {},
   "outputs": [
    {
     "name": "stdout",
     "output_type": "stream",
     "text": [
      "Review 0's compound polarity score is -0.9951\n",
      "Review 1's compound polarity score is 0.9641\n",
      "Review 2's compound polarity score is 0.9605\n",
      "Review 3's compound polarity score is 0.9744\n",
      "Review 4's compound polarity score is 0.9828\n",
      "Review 5's compound polarity score is 0.9022\n",
      "Review 6's compound polarity score is 0.9149\n",
      "Review 7's compound polarity score is 0.6168\n",
      "Review 8's compound polarity score is 0.3506\n",
      "Review 9's compound polarity score is 0.6518\n",
      "Review 10's compound polarity score is 0.5425\n",
      "Review 11's compound polarity score is 0.7948\n",
      "Review 12's compound polarity score is 0.954\n",
      "Review 13's compound polarity score is 0.9962\n",
      "Review 14's compound polarity score is -0.987\n",
      "Review 15's compound polarity score is -0.9907\n",
      "Review 16's compound polarity score is -0.6485\n",
      "Review 17's compound polarity score is 0.9971\n",
      "Review 18's compound polarity score is 0.9838\n",
      "Review 19's compound polarity score is 0.9858\n",
      "Review 20's compound polarity score is 0.9182\n",
      "Review 21's compound polarity score is 0.9401\n",
      "Review 22's compound polarity score is -0.382\n",
      "Review 23's compound polarity score is 0.9396\n",
      "Review 24's compound polarity score is 0.9893\n",
      "Review 25's compound polarity score is -0.9274\n",
      "Review 26's compound polarity score is 0.7416\n",
      "Review 27's compound polarity score is -0.8235\n",
      "Review 28's compound polarity score is 0.992\n",
      "Review 29's compound polarity score is 0.7747\n",
      "Review 30's compound polarity score is 0.6803\n",
      "Review 31's compound polarity score is 0.6441\n",
      "Review 32's compound polarity score is 0.9813\n",
      "Review 33's compound polarity score is 0.9847\n",
      "Review 34's compound polarity score is -0.8963\n",
      "Review 35's compound polarity score is 0.8498\n",
      "Review 36's compound polarity score is 0.9714\n",
      "Review 37's compound polarity score is 0.9311\n",
      "Review 38's compound polarity score is 0.9943\n",
      "Review 39's compound polarity score is 0.9818\n",
      "Review 40's compound polarity score is 0.9826\n",
      "Review 41's compound polarity score is 0.9831\n",
      "Review 42's compound polarity score is 0.8956\n",
      "Review 43's compound polarity score is 0.9437\n",
      "Review 44's compound polarity score is -0.4877\n",
      "Review 45's compound polarity score is 0.9865\n",
      "Review 46's compound polarity score is 0.9726\n",
      "Review 47's compound polarity score is 0.9761\n",
      "Review 48's compound polarity score is 0.9566\n",
      "Review 49's compound polarity score is 0.8133\n"
     ]
    }
   ],
   "source": [
    "k = 0\n",
    "posdata = []\n",
    "for index, row in positive.iterrows():\n",
    "    while k < 50:\n",
    "        review = positive[\"review\"].iloc[k]\n",
    "        print('Review ' + str(k) + \"'s compound polarity score is \" + str(sia.polarity_scores(review)[\"compound\"]))\n",
    "        posdata.append(sia.polarity_scores(review)[\"compound\"])\n",
    "        k+=1"
   ]
  },
  {
   "cell_type": "code",
   "execution_count": 32,
   "id": "ecc7ead9-e7eb-4519-ac98-8202e93c68eb",
   "metadata": {},
   "outputs": [
    {
     "data": {
      "image/png": "[encoded data removed]",
      "text/plain": [
       "<Figure size 432x288 with 1 Axes>"
      ]
     },
     "metadata": {
      "needs_background": "light"
     },
     "output_type": "display_data"
    }
   ],
   "source": [
    "#see how review polarity impacts its length\n",
    "rlength = []\n",
    "polarity = []\n",
    "limit = 1000\n",
    "for ind in range(len(imdb_df[\"review\"])):\n",
    "    if ind > limit:\n",
    "        break\n",
    "    review = imdb_df[\"review\"][ind]\n",
    "    rlength.append(len(imdb_df[\"review\"][ind]))\n",
    "    polarity.append(abs(sia.polarity_scores(review)[\"compound\"]))\n",
    "    #print(len(imdb_df[\"review\"][ind]))\n",
    "    #print(abs(sia.polarity_scores(review)[\"compound\"]))\n",
    "\n",
    "plt.scatter(rlength, polarity)\n",
    "plt.show()"
   ]
  },
  {
   "cell_type": "markdown",
   "id": "1b84cc26-b5f8-47b1-a033-1e5dc7cb4d27",
   "metadata": {},
   "source": [
    "One of our introductory questions was with regard to how people might be more voluminous depending on strength of sentiment – can we make conclusions about that from the data? \n",
    "\n",
    "Yes, the plot above shows review length vs. polarity. Review length is measured in number of words in the x-axis, and polarity is measured as an absolute value in the y-axis. As we can see, very long reviews generally have very high polarity scores, regardless of whether the scores are negative or positive. However, some short reviews are also highly polar, and exhibit the same high absolute values for their polarity scores. Therefore, although we cannot make an absolute correlation that short reviews are usually not as polar as long reviews, we can definitely see that most of the time, very long reviews show a high polarity score. This make sense intuitively, since most people wouldn't care to take such a large effort in writing long reviews unless they really loved or really hated the movie. "
   ]
  },
  {
   "cell_type": "markdown",
   "id": "f37dd415-a9de-4800-996d-ff1d36994c66",
   "metadata": {},
   "source": [
    "### Discussion \n",
    "(what does your analysis show, what is the big picture, and how are these findings useful?)\n",
    "\n",
    "Lorem ipsum dolor sit amet, consectetur adipiscing elit. Duis vitae augue justo. In vitae ligula eleifend, accumsan sapien ut, cursus odio. Nunc id tincidunt turpis. Nulla faucibus massa ut ipsum ultricies pulvinar at sodales turpis. Nunc vitae porttitor orci. Praesent a mauris vel felis accumsan euismod ultrices nec risus. Vivamus ligula sapien, blandit in nunc eu, tincidunt posuere quam. Aenean quis venenatis lorem, non tempor purus. Sed sapien velit, scelerisque quis accumsan non, volutpat id odio. In sollicitudin diam a felis volutpat varius. Quisque fermentum augue nisi, sit amet porttitor augue mollis id. Phasellus dictum magna ac tellus molestie, ac dictum dui dapibus."
   ]
  },
  {
   "cell_type": "markdown",
   "id": "f29ad285-3b00-4257-bcae-2452744975fa",
   "metadata": {},
   "source": [
    "### Team Member Contributions\n",
    "If you are working in a group, the end must describe each group member's contribution to\n",
    "this final project (one sentence each).\n",
    "\n",
    "#### Crystal Huynh\n",
    "filler text\n",
    "\n",
    "#### Larry Qu\n",
    "filler text\n",
    "\n",
    "#### Nelson Truong\n",
    "filler text"
   ]
  }
 ],
 "metadata": {
  "kernelspec": {
   "display_name": "Python 3 (ipykernel)",
   "language": "python",
   "name": "python3"
  },
  "language_info": {
   "codemirror_mode": {
    "name": "ipython",
    "version": 3
   },
   "file_extension": ".py",
   "mimetype": "text/x-python",
   "name": "python",
   "nbconvert_exporter": "python",
   "pygments_lexer": "ipython3",
   "version": "3.9.6"
  }
 },
 "nbformat": 4,
 "nbformat_minor": 5
}
