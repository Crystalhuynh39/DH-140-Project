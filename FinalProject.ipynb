{
 "cells": [
  {
   "cell_type": "markdown",
   "id": "8fa52e95-2f3b-4f8b-98b8-17cd9f335399",
   "metadata": {},
   "source": [
    "# What Sentiment Analysis Can Reveal About Common Speech Patterns\n",
    "\n",
    "## Digital Humanities 140 Coding for Humanities with Professor Winjum at UCLA Winter 2022\n",
    "\n",
    "#### 3/14/2022 | Crystal Huynh, Larry Qu, Nelson Truong"
   ]
  },
  {
   "cell_type": "markdown",
   "id": "ffe3b807-5427-4e04-87c0-3d04deef1b4c",
   "metadata": {},
   "source": [
    "### Introduction\n",
    "(an overview of your entire project, your research topic and question, your motivation to study this topic, and any prior related work)\n",
    "\n",
    "Lorem ipsum dolor sit amet, consectetur adipiscing elit. Duis vitae augue justo. In vitae ligula eleifend, accumsan sapien ut, cursus odio. Nunc id tincidunt turpis. Nulla faucibus massa ut ipsum ultricies pulvinar at sodales turpis. Nunc vitae porttitor orci. Praesent a mauris vel felis accumsan euismod ultrices nec risus. Vivamus ligula sapien, blandit in nunc eu, tincidunt posuere quam. Aenean quis venenatis lorem, non tempor purus. Sed sapien velit, scelerisque quis accumsan non, volutpat id odio. In sollicitudin diam a felis volutpat varius. Quisque fermentum augue nisi, sit amet porttitor augue mollis id. Phasellus dictum magna ac tellus molestie, ac dictum dui dapibus."
   ]
  },
  {
   "cell_type": "markdown",
   "id": "63ac186d-ed9b-4099-b741-24015ef1ef9b",
   "metadata": {},
   "source": [
    "### Methods\n",
    "(explain your data and your analytical process)\n",
    "\n",
    "Lorem ipsum dolor sit amet, consectetur adipiscing elit. Duis vitae augue justo. In vitae ligula eleifend, accumsan sapien ut, cursus odio. Nunc id tincidunt turpis. Nulla faucibus massa ut ipsum ultricies pulvinar at sodales turpis. Nunc vitae porttitor orci. Praesent a mauris vel felis accumsan euismod ultrices nec risus. Vivamus ligula sapien, blandit in nunc eu, tincidunt posuere quam. Aenean quis venenatis lorem, non tempor purus. Sed sapien velit, scelerisque quis accumsan non, volutpat id odio. In sollicitudin diam a felis volutpat varius. Quisque fermentum augue nisi, sit amet porttitor augue mollis id. Phasellus dictum magna ac tellus molestie, ac dictum dui dapibus."
   ]
  },
  {
   "cell_type": "markdown",
   "id": "198b4aa8-dceb-46aa-b054-2969bc9d07b2",
   "metadata": {},
   "source": [
    "### Results \n",
    "(lay out your data exploration, your findings, and your visuals)\n",
    "\n",
    "Lorem ipsum dolor sit amet, consectetur adipiscing elit. Duis vitae augue justo. In vitae ligula eleifend, accumsan sapien ut, cursus odio. Nunc id tincidunt turpis. Nulla faucibus massa ut ipsum ultricies pulvinar at sodales turpis. Nunc vitae porttitor orci. Praesent a mauris vel felis accumsan euismod ultrices nec risus. Vivamus ligula sapien, blandit in nunc eu, tincidunt posuere quam. Aenean quis venenatis lorem, non tempor purus. Sed sapien velit, scelerisque quis accumsan non, volutpat id odio. In sollicitudin diam a felis volutpat varius. Quisque fermentum augue nisi, sit amet porttitor augue mollis id. Phasellus dictum magna ac tellus molestie, ac dictum dui dapibus."
   ]
  },
  {
   "cell_type": "markdown",
   "id": "f37dd415-a9de-4800-996d-ff1d36994c66",
   "metadata": {},
   "source": [
    "### Discussion \n",
    "(what does your analysis show, what is the big picture, and how are these findings useful?)\n",
    "\n",
    "Lorem ipsum dolor sit amet, consectetur adipiscing elit. Duis vitae augue justo. In vitae ligula eleifend, accumsan sapien ut, cursus odio. Nunc id tincidunt turpis. Nulla faucibus massa ut ipsum ultricies pulvinar at sodales turpis. Nunc vitae porttitor orci. Praesent a mauris vel felis accumsan euismod ultrices nec risus. Vivamus ligula sapien, blandit in nunc eu, tincidunt posuere quam. Aenean quis venenatis lorem, non tempor purus. Sed sapien velit, scelerisque quis accumsan non, volutpat id odio. In sollicitudin diam a felis volutpat varius. Quisque fermentum augue nisi, sit amet porttitor augue mollis id. Phasellus dictum magna ac tellus molestie, ac dictum dui dapibus."
   ]
  },
  {
   "cell_type": "markdown",
   "id": "f29ad285-3b00-4257-bcae-2452744975fa",
   "metadata": {},
   "source": [
    "### Team Member Contributions\n",
    "If you are working in a group, the end must describe each group member's contribution to\n",
    "this final project (one sentence each)."
   ]
  }
 ],
 "metadata": {
  "kernelspec": {
   "display_name": "Python 3 (ipykernel)",
   "language": "python",
   "name": "python3"
  },
  "language_info": {
   "codemirror_mode": {
    "name": "ipython",
    "version": 3
   },
   "file_extension": ".py",
   "mimetype": "text/x-python",
   "name": "python",
   "nbconvert_exporter": "python",
   "pygments_lexer": "ipython3",
   "version": "3.9.6"
  }
 },
 "nbformat": 4,
 "nbformat_minor": 5
}
