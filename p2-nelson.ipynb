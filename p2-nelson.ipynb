{
 "cells": [
  {
   "cell_type": "code",
   "execution_count": 1,
   "id": "d434714a-34b7-476f-8185-1465c37de462",
   "metadata": {},
   "outputs": [],
   "source": [
    "import pandas as pd"
   ]
  },
  {
   "cell_type": "code",
   "execution_count": 2,
   "id": "c7709e58-c6cf-48f1-a1bf-c7fe6e491c36",
   "metadata": {},
   "outputs": [
    {
     "data": {
      "text/html": [
       "<div>\n",
       "<style scoped>\n",
       "    .dataframe tbody tr th:only-of-type {\n",
       "        vertical-align: middle;\n",
       "    }\n",
       "\n",
       "    .dataframe tbody tr th {\n",
       "        vertical-align: top;\n",
       "    }\n",
       "\n",
       "    .dataframe thead th {\n",
       "        text-align: right;\n",
       "    }\n",
       "</style>\n",
       "<table border=\"1\" class=\"dataframe\">\n",
       "  <thead>\n",
       "    <tr style=\"text-align: right;\">\n",
       "      <th></th>\n",
       "      <th>review</th>\n",
       "      <th>sentiment</th>\n",
       "    </tr>\n",
       "  </thead>\n",
       "  <tbody>\n",
       "    <tr>\n",
       "      <th>0</th>\n",
       "      <td>One of the other reviewers has mentioned that ...</td>\n",
       "      <td>positive</td>\n",
       "    </tr>\n",
       "    <tr>\n",
       "      <th>1</th>\n",
       "      <td>A wonderful little production. &lt;br /&gt;&lt;br /&gt;The...</td>\n",
       "      <td>positive</td>\n",
       "    </tr>\n",
       "    <tr>\n",
       "      <th>2</th>\n",
       "      <td>I thought this was a wonderful way to spend ti...</td>\n",
       "      <td>positive</td>\n",
       "    </tr>\n",
       "    <tr>\n",
       "      <th>3</th>\n",
       "      <td>Basically there's a family where a little boy ...</td>\n",
       "      <td>negative</td>\n",
       "    </tr>\n",
       "    <tr>\n",
       "      <th>4</th>\n",
       "      <td>Petter Mattei's \"Love in the Time of Money\" is...</td>\n",
       "      <td>positive</td>\n",
       "    </tr>\n",
       "    <tr>\n",
       "      <th>...</th>\n",
       "      <td>...</td>\n",
       "      <td>...</td>\n",
       "    </tr>\n",
       "    <tr>\n",
       "      <th>49995</th>\n",
       "      <td>I thought this movie did a down right good job...</td>\n",
       "      <td>positive</td>\n",
       "    </tr>\n",
       "    <tr>\n",
       "      <th>49996</th>\n",
       "      <td>Bad plot, bad dialogue, bad acting, idiotic di...</td>\n",
       "      <td>negative</td>\n",
       "    </tr>\n",
       "    <tr>\n",
       "      <th>49997</th>\n",
       "      <td>I am a Catholic taught in parochial elementary...</td>\n",
       "      <td>negative</td>\n",
       "    </tr>\n",
       "    <tr>\n",
       "      <th>49998</th>\n",
       "      <td>I'm going to have to disagree with the previou...</td>\n",
       "      <td>negative</td>\n",
       "    </tr>\n",
       "    <tr>\n",
       "      <th>49999</th>\n",
       "      <td>No one expects the Star Trek movies to be high...</td>\n",
       "      <td>negative</td>\n",
       "    </tr>\n",
       "  </tbody>\n",
       "</table>\n",
       "<p>50000 rows × 2 columns</p>\n",
       "</div>"
      ],
      "text/plain": [
       "                                                  review sentiment\n",
       "0      One of the other reviewers has mentioned that ...  positive\n",
       "1      A wonderful little production. <br /><br />The...  positive\n",
       "2      I thought this was a wonderful way to spend ti...  positive\n",
       "3      Basically there's a family where a little boy ...  negative\n",
       "4      Petter Mattei's \"Love in the Time of Money\" is...  positive\n",
       "...                                                  ...       ...\n",
       "49995  I thought this movie did a down right good job...  positive\n",
       "49996  Bad plot, bad dialogue, bad acting, idiotic di...  negative\n",
       "49997  I am a Catholic taught in parochial elementary...  negative\n",
       "49998  I'm going to have to disagree with the previou...  negative\n",
       "49999  No one expects the Star Trek movies to be high...  negative\n",
       "\n",
       "[50000 rows x 2 columns]"
      ]
     },
     "execution_count": 2,
     "metadata": {},
     "output_type": "execute_result"
    }
   ],
   "source": [
    "imdb_df = pd.read_csv('IMDB Dataset.csv')\n",
    "imdb_df"
   ]
  },
  {
   "cell_type": "code",
   "execution_count": 3,
   "id": "e7c718a6-d453-4fce-b26c-2896c5682ab2",
   "metadata": {},
   "outputs": [
    {
     "data": {
      "text/html": [
       "<div>\n",
       "<style scoped>\n",
       "    .dataframe tbody tr th:only-of-type {\n",
       "        vertical-align: middle;\n",
       "    }\n",
       "\n",
       "    .dataframe tbody tr th {\n",
       "        vertical-align: top;\n",
       "    }\n",
       "\n",
       "    .dataframe thead th {\n",
       "        text-align: right;\n",
       "    }\n",
       "</style>\n",
       "<table border=\"1\" class=\"dataframe\">\n",
       "  <thead>\n",
       "    <tr style=\"text-align: right;\">\n",
       "      <th></th>\n",
       "      <th>review</th>\n",
       "      <th>sentiment</th>\n",
       "    </tr>\n",
       "  </thead>\n",
       "  <tbody>\n",
       "    <tr>\n",
       "      <th>count</th>\n",
       "      <td>50000</td>\n",
       "      <td>50000</td>\n",
       "    </tr>\n",
       "    <tr>\n",
       "      <th>unique</th>\n",
       "      <td>49582</td>\n",
       "      <td>2</td>\n",
       "    </tr>\n",
       "    <tr>\n",
       "      <th>top</th>\n",
       "      <td>Loved today's show!!! It was a variety and not...</td>\n",
       "      <td>positive</td>\n",
       "    </tr>\n",
       "    <tr>\n",
       "      <th>freq</th>\n",
       "      <td>5</td>\n",
       "      <td>25000</td>\n",
       "    </tr>\n",
       "  </tbody>\n",
       "</table>\n",
       "</div>"
      ],
      "text/plain": [
       "                                                   review sentiment\n",
       "count                                               50000     50000\n",
       "unique                                              49582         2\n",
       "top     Loved today's show!!! It was a variety and not...  positive\n",
       "freq                                                    5     25000"
      ]
     },
     "execution_count": 3,
     "metadata": {},
     "output_type": "execute_result"
    }
   ],
   "source": [
    "imdb_df.describe()"
   ]
  },
  {
   "cell_type": "code",
   "execution_count": 4,
   "id": "6f388b22-c80f-43a4-825f-ff45d7675416",
   "metadata": {},
   "outputs": [
    {
     "data": {
      "text/plain": [
       "positive    25000\n",
       "negative    25000\n",
       "Name: sentiment, dtype: int64"
      ]
     },
     "execution_count": 4,
     "metadata": {},
     "output_type": "execute_result"
    }
   ],
   "source": [
    "imdb_df['sentiment'].value_counts()"
   ]
  },
  {
   "cell_type": "code",
   "execution_count": 5,
   "id": "85953ec3-88bc-4d12-8759-6ad995e06e74",
   "metadata": {},
   "outputs": [
    {
     "name": "stderr",
     "output_type": "stream",
     "text": [
      "[nltk_data] Downloading package stopwords to /home/jovyan/nltk_data...\n",
      "[nltk_data]   Package stopwords is already up-to-date!\n"
     ]
    }
   ],
   "source": [
    "import nltk\n",
    "from nltk.corpus import stopwords\n",
    "from string import punctuation\n",
    "nltk.download('stopwords')\n",
    "from nltk.tokenize import word_tokenize\n",
    "from nltk.probability import FreqDist\n",
    "from nltk.stem import WordNetLemmatizer"
   ]
  },
  {
   "cell_type": "code",
   "execution_count": 6,
   "id": "aebb6dca-baaf-49dd-b9e7-352690720f43",
   "metadata": {},
   "outputs": [],
   "source": [
    "# Compile all the reviews into one giant string\n",
    "reviews = \"\"\n",
    "for ind in range(1000):\n",
    "    reviews = reviews + \" \" + imdb_df[\"review\"][ind]\n",
    "    \n",
    "# Create a list of stop words\n",
    "stop_words = stopwords.words(\"english\") + list(punctuation)\n",
    "\n",
    "# Tokenize and convert all the reviews to lowercase\n",
    "words = word_tokenize(reviews.lower())\n",
    "\n",
    "# Remove all unwanted words\n",
    "completewords = [w for w in words if w not in stop_words]\n",
    "\n",
    "# Lemmatize the list of words\n",
    "completestemmed = [WordNetLemmatizer().lemmatize(w) for w in completewords]\n",
    "\n",
    "# Find the frequency of all words\n",
    "freq = FreqDist(completestemmed)\n",
    "\n",
    "# Turn this list into a pandas dataframe\n",
    "wordlist = []\n",
    "wordfreq = []\n",
    "for i in sorted(freq, key=freq.get, reverse=True):\n",
    "    wordlist.append(i)\n",
    "    wordfreq.append(freq[i])\n",
    "    \n",
    "df = pd.DataFrame({'wordlist':wordlist, 'wordfreq':wordfreq})"
   ]
  },
  {
   "cell_type": "code",
   "execution_count": 7,
   "id": "214a15f0-2e0b-444a-9e9b-86f4a80b8b30",
   "metadata": {},
   "outputs": [
    {
     "data": {
      "text/html": [
       "<div>\n",
       "<style scoped>\n",
       "    .dataframe tbody tr th:only-of-type {\n",
       "        vertical-align: middle;\n",
       "    }\n",
       "\n",
       "    .dataframe tbody tr th {\n",
       "        vertical-align: top;\n",
       "    }\n",
       "\n",
       "    .dataframe thead th {\n",
       "        text-align: right;\n",
       "    }\n",
       "</style>\n",
       "<table border=\"1\" class=\"dataframe\">\n",
       "  <thead>\n",
       "    <tr style=\"text-align: right;\">\n",
       "      <th></th>\n",
       "      <th>wordlist</th>\n",
       "      <th>wordfreq</th>\n",
       "    </tr>\n",
       "  </thead>\n",
       "  <tbody>\n",
       "    <tr>\n",
       "      <th>0</th>\n",
       "      <td>br</td>\n",
       "      <td>4124</td>\n",
       "    </tr>\n",
       "    <tr>\n",
       "      <th>1</th>\n",
       "      <td>'s</td>\n",
       "      <td>2349</td>\n",
       "    </tr>\n",
       "    <tr>\n",
       "      <th>2</th>\n",
       "      <td>movie</td>\n",
       "      <td>2056</td>\n",
       "    </tr>\n",
       "    <tr>\n",
       "      <th>3</th>\n",
       "      <td>film</td>\n",
       "      <td>1770</td>\n",
       "    </tr>\n",
       "    <tr>\n",
       "      <th>4</th>\n",
       "      <td>``</td>\n",
       "      <td>1285</td>\n",
       "    </tr>\n",
       "    <tr>\n",
       "      <th>...</th>\n",
       "      <td>...</td>\n",
       "      <td>...</td>\n",
       "    </tr>\n",
       "    <tr>\n",
       "      <th>18499</th>\n",
       "      <td>intuition</td>\n",
       "      <td>1</td>\n",
       "    </tr>\n",
       "    <tr>\n",
       "      <th>18500</th>\n",
       "      <td>stubborn</td>\n",
       "      <td>1</td>\n",
       "    </tr>\n",
       "    <tr>\n",
       "      <th>18501</th>\n",
       "      <td>minds.</td>\n",
       "      <td>1</td>\n",
       "    </tr>\n",
       "    <tr>\n",
       "      <th>18502</th>\n",
       "      <td>'swearing</td>\n",
       "      <td>1</td>\n",
       "    </tr>\n",
       "    <tr>\n",
       "      <th>18503</th>\n",
       "      <td>volume.</td>\n",
       "      <td>1</td>\n",
       "    </tr>\n",
       "  </tbody>\n",
       "</table>\n",
       "<p>18504 rows × 2 columns</p>\n",
       "</div>"
      ],
      "text/plain": [
       "        wordlist  wordfreq\n",
       "0             br      4124\n",
       "1             's      2349\n",
       "2          movie      2056\n",
       "3           film      1770\n",
       "4             ``      1285\n",
       "...          ...       ...\n",
       "18499  intuition         1\n",
       "18500   stubborn         1\n",
       "18501     minds.         1\n",
       "18502  'swearing         1\n",
       "18503    volume.         1\n",
       "\n",
       "[18504 rows x 2 columns]"
      ]
     },
     "execution_count": 7,
     "metadata": {},
     "output_type": "execute_result"
    }
   ],
   "source": [
    "df"
   ]
  },
  {
   "cell_type": "code",
   "execution_count": 8,
   "id": "f6cbbbba-7270-4f77-b301-cc40e7058957",
   "metadata": {},
   "outputs": [
    {
     "data": {
      "text/html": [
       "<div>\n",
       "<style scoped>\n",
       "    .dataframe tbody tr th:only-of-type {\n",
       "        vertical-align: middle;\n",
       "    }\n",
       "\n",
       "    .dataframe tbody tr th {\n",
       "        vertical-align: top;\n",
       "    }\n",
       "\n",
       "    .dataframe thead th {\n",
       "        text-align: right;\n",
       "    }\n",
       "</style>\n",
       "<table border=\"1\" class=\"dataframe\">\n",
       "  <thead>\n",
       "    <tr style=\"text-align: right;\">\n",
       "      <th></th>\n",
       "      <th>wordlist</th>\n",
       "      <th>wordfreq</th>\n",
       "    </tr>\n",
       "  </thead>\n",
       "  <tbody>\n",
       "    <tr>\n",
       "      <th>2</th>\n",
       "      <td>movie</td>\n",
       "      <td>2056</td>\n",
       "    </tr>\n",
       "    <tr>\n",
       "      <th>3</th>\n",
       "      <td>film</td>\n",
       "      <td>1770</td>\n",
       "    </tr>\n",
       "    <tr>\n",
       "      <th>7</th>\n",
       "      <td>one</td>\n",
       "      <td>1012</td>\n",
       "    </tr>\n",
       "    <tr>\n",
       "      <th>8</th>\n",
       "      <td>like</td>\n",
       "      <td>785</td>\n",
       "    </tr>\n",
       "    <tr>\n",
       "      <th>9</th>\n",
       "      <td>get</td>\n",
       "      <td>552</td>\n",
       "    </tr>\n",
       "    <tr>\n",
       "      <th>...</th>\n",
       "      <td>...</td>\n",
       "      <td>...</td>\n",
       "    </tr>\n",
       "    <tr>\n",
       "      <th>18499</th>\n",
       "      <td>intuition</td>\n",
       "      <td>1</td>\n",
       "    </tr>\n",
       "    <tr>\n",
       "      <th>18500</th>\n",
       "      <td>stubborn</td>\n",
       "      <td>1</td>\n",
       "    </tr>\n",
       "    <tr>\n",
       "      <th>18501</th>\n",
       "      <td>minds.</td>\n",
       "      <td>1</td>\n",
       "    </tr>\n",
       "    <tr>\n",
       "      <th>18502</th>\n",
       "      <td>'swearing</td>\n",
       "      <td>1</td>\n",
       "    </tr>\n",
       "    <tr>\n",
       "      <th>18503</th>\n",
       "      <td>volume.</td>\n",
       "      <td>1</td>\n",
       "    </tr>\n",
       "  </tbody>\n",
       "</table>\n",
       "<p>18499 rows × 2 columns</p>\n",
       "</div>"
      ],
      "text/plain": [
       "        wordlist  wordfreq\n",
       "2          movie      2056\n",
       "3           film      1770\n",
       "7            one      1012\n",
       "8           like       785\n",
       "9            get       552\n",
       "...          ...       ...\n",
       "18499  intuition         1\n",
       "18500   stubborn         1\n",
       "18501     minds.         1\n",
       "18502  'swearing         1\n",
       "18503    volume.         1\n",
       "\n",
       "[18499 rows x 2 columns]"
      ]
     },
     "execution_count": 8,
     "metadata": {},
     "output_type": "execute_result"
    }
   ],
   "source": [
    "# Purge weird words\n",
    "df = df.drop(labels=0)\n",
    "df = df.drop(labels=1)\n",
    "df = df.drop(labels=4)\n",
    "df = df.drop(labels=5)\n",
    "df = df.drop(labels=6)\n",
    "df"
   ]
  },
  {
   "cell_type": "code",
   "execution_count": 9,
   "id": "5dbd5b95-7904-42ee-a31b-b31da4a5076e",
   "metadata": {},
   "outputs": [
    {
     "data": {
      "text/plain": [
       "6.501919022649873"
      ]
     },
     "execution_count": 9,
     "metadata": {},
     "output_type": "execute_result"
    }
   ],
   "source": [
    "# Mean\n",
    "df['wordfreq'].mean()"
   ]
  },
  {
   "cell_type": "code",
   "execution_count": 10,
   "id": "4eea565a-b0be-4ed7-9593-da5520c33556",
   "metadata": {},
   "outputs": [
    {
     "data": {
      "text/plain": [
       "1.0"
      ]
     },
     "execution_count": 10,
     "metadata": {},
     "output_type": "execute_result"
    }
   ],
   "source": [
    "# Median\n",
    "df['wordfreq'].median()"
   ]
  },
  {
   "cell_type": "code",
   "execution_count": 11,
   "id": "a1feb361-18b1-48e0-a8f4-383974c4ff54",
   "metadata": {},
   "outputs": [
    {
     "data": {
      "text/plain": [
       "0    1\n",
       "dtype: int64"
      ]
     },
     "execution_count": 11,
     "metadata": {},
     "output_type": "execute_result"
    }
   ],
   "source": [
    "# Mode\n",
    "df['wordfreq'].mode()"
   ]
  },
  {
   "cell_type": "code",
   "execution_count": 12,
   "id": "2736bc13-ba09-4642-9abe-d72814e47844",
   "metadata": {},
   "outputs": [
    {
     "data": {
      "text/plain": [
       "<AxesSubplot:ylabel='wordlist'>"
      ]
     },
     "execution_count": 12,
     "metadata": {},
     "output_type": "execute_result"
    },
    {
     "data": {
      "image/png": "[encoded data removed]",
      "text/plain": [
       "<Figure size 432x288 with 1 Axes>"
      ]
     },
     "metadata": {
      "needs_background": "light"
     },
     "output_type": "display_data"
    }
   ],
   "source": [
    "# Barchart\n",
    "bar_df = df.loc[0:20, [\"wordlist\", \"wordfreq\"]]\n",
    "bar_df.plot.barh(x=\"wordlist\", y=\"wordfreq\")\n",
    "#ax = bar_df.plot.bar(x='wordlist', y='wordfreq', rot=0)"
   ]
  },
  {
   "cell_type": "code",
   "execution_count": 15,
   "id": "b5250253-e631-44ba-a97b-549fbf09e9da",
   "metadata": {},
   "outputs": [
    {
     "data": {
      "text/plain": [
       "<AxesSubplot:ylabel='wordlist'>"
      ]
     },
     "execution_count": 15,
     "metadata": {},
     "output_type": "execute_result"
    },
    {
     "data": {
      "image/png": "[encoded data removed]",
      "text/plain": [
       "<Figure size 432x288 with 1 Axes>"
      ]
     },
     "metadata": {
      "needs_background": "light"
     },
     "output_type": "display_data"
    }
   ],
   "source": [
    "# Barchart\n",
    "bar_df = df.loc[18490:, [\"wordlist\", \"wordfreq\"]]\n",
    "bar_df.plot.barh(x=\"wordlist\", y=\"wordfreq\")"
   ]
  },
  {
   "cell_type": "code",
   "execution_count": null,
   "id": "173aea3f-ac8c-48c0-9738-76c57acfb178",
   "metadata": {},
   "outputs": [],
   "source": [
    "# Look only at the first 1000 positive reviews\n",
    "reviews = \"\"\n",
    "for ind in range(5000):\n",
    "    if imdb_df[\"sentiment\"][ind] == \"positive\":\n",
    "        reviews = reviews + \" \" + imdb_df[\"review\"][ind]\n",
    "stop_words = stopwords.words(\"english\") + list(punctuation)\n",
    "words = word_tokenize(reviews.lower())\n",
    "completewords = [w for w in words if w not in stop_words]\n",
    "completestemmed = [WordNetLemmatizer().lemmatize(w) for w in completewords]\n",
    "freq = FreqDist(completestemmed)\n",
    "wordlist = []\n",
    "wordfreq = []\n",
    "for i in sorted(freq, key=freq.get, reverse=True):\n",
    "    wordlist.append(i)\n",
    "    wordfreq.append(freq[i])\n",
    "df = pd.DataFrame({'wordlist':wordlist, 'wordfreq':wordfreq})"
   ]
  },
  {
   "cell_type": "code",
   "execution_count": null,
   "id": "d28e3b5a-7538-44d9-81a8-6105253f15e6",
   "metadata": {},
   "outputs": [],
   "source": [
    "df"
   ]
  },
  {
   "cell_type": "code",
   "execution_count": null,
   "id": "881851f2-c30f-4704-bef5-18d954d33d5f",
   "metadata": {},
   "outputs": [],
   "source": [
    "# Clean up the dataframe and remove weird words\n",
    "df = df.drop(labels=0)\n",
    "df = df.drop(labels=1)\n",
    "df = df.drop(labels=4)\n",
    "df = df.drop(labels=5)\n",
    "df = df.drop(labels=7)\n",
    "df"
   ]
  },
  {
   "cell_type": "code",
   "execution_count": null,
   "id": "a3ec3de6-a24b-4398-b6f2-243b17ccff24",
   "metadata": {},
   "outputs": [],
   "source": [
    "# Barchart\n",
    "bar_df = df.loc[0:50, [\"wordlist\", \"wordfreq\"]]\n",
    "bar_df.plot.barh(x=\"wordlist\", y=\"wordfreq\", figsize=(30,30), fontsize=20)"
   ]
  },
  {
   "cell_type": "code",
   "execution_count": null,
   "id": "4cda4fb1-8f01-46ad-b363-f62f822abc84",
   "metadata": {},
   "outputs": [],
   "source": [
    "# Look only at the negative reviews\n",
    "reviews = \"\"\n",
    "for ind in range(5000):\n",
    "    if imdb_df[\"sentiment\"][ind] == \"negative\":\n",
    "        reviews = reviews + \" \" + imdb_df[\"review\"][ind]\n",
    "stop_words = stopwords.words(\"english\") + list(punctuation)\n",
    "words = word_tokenize(reviews.lower())\n",
    "completewords = [w for w in words if w not in stop_words]\n",
    "completestemmed = [WordNetLemmatizer().lemmatize(w) for w in completewords]\n",
    "freq = FreqDist(completestemmed)\n",
    "wordlist = []\n",
    "wordfreq = []\n",
    "for i in sorted(freq, key=freq.get, reverse=True):\n",
    "    wordlist.append(i)\n",
    "    wordfreq.append(freq[i])\n",
    "df = pd.DataFrame({'wordlist':wordlist, 'wordfreq':wordfreq})"
   ]
  },
  {
   "cell_type": "code",
   "execution_count": null,
   "id": "7e8491cc-463d-4771-bdbe-5d15bfc52f2b",
   "metadata": {},
   "outputs": [],
   "source": [
    "df"
   ]
  },
  {
   "cell_type": "code",
   "execution_count": null,
   "id": "b03154b5-19c7-4c29-aea7-36de8ecd4721",
   "metadata": {},
   "outputs": [],
   "source": [
    "# Clean up dataframe and drop weird words\n",
    "df = df.drop(labels=0)\n",
    "df = df.drop(labels=1)\n",
    "df = df.drop(labels=4)\n",
    "df = df.drop(labels=5)\n",
    "df = df.drop(labels=6)\n",
    "df"
   ]
  },
  {
   "cell_type": "code",
   "execution_count": null,
   "id": "aaa4e0c3-62b6-4f56-aeda-b17ada778aec",
   "metadata": {},
   "outputs": [],
   "source": [
    "# Barchart\n",
    "bar_df = df.loc[0:30, [\"wordlist\", \"wordfreq\"]]\n",
    "bar_df.plot.barh(x=\"wordlist\", y=\"wordfreq\", figsize=(30,30), fontsize=20)"
   ]
  }
 ],
 "metadata": {
  "kernelspec": {
   "display_name": "Python 3 (ipykernel)",
   "language": "python",
   "name": "python3"
  },
  "language_info": {
   "codemirror_mode": {
    "name": "ipython",
    "version": 3
   },
   "file_extension": ".py",
   "mimetype": "text/x-python",
   "name": "python",
   "nbconvert_exporter": "python",
   "pygments_lexer": "ipython3",
   "version": "3.9.6"
  }
 },
 "nbformat": 4,
 "nbformat_minor": 5
}
