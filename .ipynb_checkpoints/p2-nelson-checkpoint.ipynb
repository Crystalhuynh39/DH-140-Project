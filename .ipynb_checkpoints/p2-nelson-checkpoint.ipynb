{
 "cells": [
  {
   "cell_type": "markdown",
   "id": "68141b5b-40b0-47d9-af83-3a8f8142af7a",
   "metadata": {},
   "source": [
    "# Project Assignment #2"
   ]
  },
  {
   "cell_type": "markdown",
   "id": "a4e31978-1453-42ff-a588-ef1f531662c0",
   "metadata": {},
   "source": [
    "## Step 2: Create a section in your notebook that introduces you (or your group) and introduces your project\n",
    "\n",
    "- If you (or your group) have made any changes to your research project idea or selected other/additional data, modify your project description accordingly."
   ]
  },
  {
   "cell_type": "markdown",
   "id": "aada7f7a-45c7-40a5-9762-904592cfb98b",
   "metadata": {},
   "source": [
    "This project was made by Crystal Huynh, Larry Qu, and Nelson Truong.\n",
    "\n",
    "### Research Question: What common speech patterns can be found in positive and negative commentary?\n",
    "Our group wanted to explore how people tend to speak when talking in an extremely positive and negative manner, especially in the context of movie reviews. Are there specific words that are frequently used when speaking in a positive sentiment versus a negative one? How often do those words show up in speech? How polarizing are these frequently used words? Do people tend to speak more when they are feeling positive or negative about something? This is the first step that we want to take when analyzing the speech patterns of movie reviews.\n",
    "\n",
    "### Why it Matters\n",
    "With this information, we can later see whether these patterns match typical human behavior/speech, or if they are more specific in an online, more anonymous environment. We can use our findings to potentially see how polarizing these spaces are and how they affect our society in the long run as this type of analysis can also be used on things like social media comments and news articles where commentary can be even more polarizing. As we explore speech patterns in settings outside of normal, in person conversation, we can get a better idea of how people truly think and feel in certain environments or how people will think and feel given what we already know.\n",
    "\n",
    "### Data Source\n",
    "[IMDB Dataset of 50K Movie Reviews](https://www.kaggle.com/lakshmi25npathi/imdb-dataset-of-50k-movie-reviews)\n",
    "[More Dataset Information](http://ai.stanford.edu/~amaas/data/sentiment/)\n",
    "\n",
    "We are using the IMDB Dataset of 50K Movie Reviews Large Movie Review Dataset from kaggle which contains 50K movie reviews. This dataset can be used for binary sentiment classification as it contains highly polar movie reviews for training and testing.\n",
    "\n",
    "https://gist.github.com/mkulakowski2/4289441\n",
    "\n",
    "https://gist.github.com/mkulakowski2/4289437\n",
    "\n",
    "In order to indentify the positive and negative words, we can easily scan the web for premade datasets. These two shown above are datasets containing negative and positive words, respectively, that we can use to analyze our movie reviews with.\n",
    "\n",
    "### Project Scope\n",
    "The intended analysis is to see what are the common \"positive\" and \"negative\" words being used and how often they are used. The resulting visualizations for this would probably be something like a bar chart highlighting the ten most common \"positive\" and \"negative\" words and how often they appear in the dataset. We can also how long \"positive\" reviews are compared to \"negative\" reviews by checking the word count for each review and plotting the total word count frequency in a separate bar chart. Another analysis we could do is categorize common \"positive\" and \"negative\" words to see how polarizing they really are and plot this on another bar chart to visualize the scale of how positive \"positive\" reviews are and how negative \"negative\" reviews are.\n",
    "\n",
    "\n",
    "### Expected Insights\n",
    "We expect to see more polarizing \"positive\" and \"negative\" reviews to be lengthier in word count as people tend to speak more than they are feeling extremely \"positive\" or \"negative\" which is typical in normal, everyday, real life behavior. However, many people tend to not show their true thoughts and feelings when speaking in public, so perhaps in spaces like movie reviews, people's wording may be more polarizing than if they were to be giving the review in person. In other words, their online, anonymous reviews may be a lot more emotional and biased than what people would typically say aloud. We might see that although online commentary may reflect human behavior in that it represents what people actually are thinking and feeling, it may not be representative of what people would normally say to others. However, organizations can use these findings to gauge a more truthful reaction from the public for their respective initiatives and campaigns to see what they need to improve upon in order to generate a positive response."
   ]
  },
  {
   "cell_type": "markdown",
   "id": "58df9576-ba48-4d22-ac7f-9c384724dcd6",
   "metadata": {},
   "source": [
    "## Step 3: Create a section in your notebook that introduces your data\n",
    "\n",
    "- This can include summary information about the data, summary statistics where appropriate, and an identification of where there may be missing/incorrect/outlier data\n",
    "- It should include at least 4 exploratory data visualizations\n",
    "- This section does not need to be polished but it should be a good foundation"
   ]
  },
  {
   "cell_type": "code",
   "execution_count": null,
   "id": "2ac87fb0-9993-4f06-9ea9-5de328748d75",
   "metadata": {},
   "outputs": [],
   "source": []
  },
  {
   "cell_type": "code",
   "execution_count": 1,
   "id": "d434714a-34b7-476f-8185-1465c37de462",
   "metadata": {},
   "outputs": [],
   "source": [
    "import pandas as pd"
   ]
  },
  {
   "cell_type": "code",
   "execution_count": 2,
   "id": "c7709e58-c6cf-48f1-a1bf-c7fe6e491c36",
   "metadata": {},
   "outputs": [
    {
     "data": {
      "text/html": [
       "<div>\n",
       "<style scoped>\n",
       "    .dataframe tbody tr th:only-of-type {\n",
       "        vertical-align: middle;\n",
       "    }\n",
       "\n",
       "    .dataframe tbody tr th {\n",
       "        vertical-align: top;\n",
       "    }\n",
       "\n",
       "    .dataframe thead th {\n",
       "        text-align: right;\n",
       "    }\n",
       "</style>\n",
       "<table border=\"1\" class=\"dataframe\">\n",
       "  <thead>\n",
       "    <tr style=\"text-align: right;\">\n",
       "      <th></th>\n",
       "      <th>review</th>\n",
       "      <th>sentiment</th>\n",
       "    </tr>\n",
       "  </thead>\n",
       "  <tbody>\n",
       "    <tr>\n",
       "      <th>0</th>\n",
       "      <td>One of the other reviewers has mentioned that ...</td>\n",
       "      <td>positive</td>\n",
       "    </tr>\n",
       "    <tr>\n",
       "      <th>1</th>\n",
       "      <td>A wonderful little production. &lt;br /&gt;&lt;br /&gt;The...</td>\n",
       "      <td>positive</td>\n",
       "    </tr>\n",
       "    <tr>\n",
       "      <th>2</th>\n",
       "      <td>I thought this was a wonderful way to spend ti...</td>\n",
       "      <td>positive</td>\n",
       "    </tr>\n",
       "    <tr>\n",
       "      <th>3</th>\n",
       "      <td>Basically there's a family where a little boy ...</td>\n",
       "      <td>negative</td>\n",
       "    </tr>\n",
       "    <tr>\n",
       "      <th>4</th>\n",
       "      <td>Petter Mattei's \"Love in the Time of Money\" is...</td>\n",
       "      <td>positive</td>\n",
       "    </tr>\n",
       "    <tr>\n",
       "      <th>...</th>\n",
       "      <td>...</td>\n",
       "      <td>...</td>\n",
       "    </tr>\n",
       "    <tr>\n",
       "      <th>49995</th>\n",
       "      <td>I thought this movie did a down right good job...</td>\n",
       "      <td>positive</td>\n",
       "    </tr>\n",
       "    <tr>\n",
       "      <th>49996</th>\n",
       "      <td>Bad plot, bad dialogue, bad acting, idiotic di...</td>\n",
       "      <td>negative</td>\n",
       "    </tr>\n",
       "    <tr>\n",
       "      <th>49997</th>\n",
       "      <td>I am a Catholic taught in parochial elementary...</td>\n",
       "      <td>negative</td>\n",
       "    </tr>\n",
       "    <tr>\n",
       "      <th>49998</th>\n",
       "      <td>I'm going to have to disagree with the previou...</td>\n",
       "      <td>negative</td>\n",
       "    </tr>\n",
       "    <tr>\n",
       "      <th>49999</th>\n",
       "      <td>No one expects the Star Trek movies to be high...</td>\n",
       "      <td>negative</td>\n",
       "    </tr>\n",
       "  </tbody>\n",
       "</table>\n",
       "<p>50000 rows × 2 columns</p>\n",
       "</div>"
      ],
      "text/plain": [
       "                                                  review sentiment\n",
       "0      One of the other reviewers has mentioned that ...  positive\n",
       "1      A wonderful little production. <br /><br />The...  positive\n",
       "2      I thought this was a wonderful way to spend ti...  positive\n",
       "3      Basically there's a family where a little boy ...  negative\n",
       "4      Petter Mattei's \"Love in the Time of Money\" is...  positive\n",
       "...                                                  ...       ...\n",
       "49995  I thought this movie did a down right good job...  positive\n",
       "49996  Bad plot, bad dialogue, bad acting, idiotic di...  negative\n",
       "49997  I am a Catholic taught in parochial elementary...  negative\n",
       "49998  I'm going to have to disagree with the previou...  negative\n",
       "49999  No one expects the Star Trek movies to be high...  negative\n",
       "\n",
       "[50000 rows x 2 columns]"
      ]
     },
     "execution_count": 2,
     "metadata": {},
     "output_type": "execute_result"
    }
   ],
   "source": [
    "imdb_df = pd.read_csv('IMDB Dataset.csv')\n",
    "imdb_df"
   ]
  },
  {
   "cell_type": "code",
   "execution_count": 3,
   "id": "e7c718a6-d453-4fce-b26c-2896c5682ab2",
   "metadata": {},
   "outputs": [
    {
     "data": {
      "text/html": [
       "<div>\n",
       "<style scoped>\n",
       "    .dataframe tbody tr th:only-of-type {\n",
       "        vertical-align: middle;\n",
       "    }\n",
       "\n",
       "    .dataframe tbody tr th {\n",
       "        vertical-align: top;\n",
       "    }\n",
       "\n",
       "    .dataframe thead th {\n",
       "        text-align: right;\n",
       "    }\n",
       "</style>\n",
       "<table border=\"1\" class=\"dataframe\">\n",
       "  <thead>\n",
       "    <tr style=\"text-align: right;\">\n",
       "      <th></th>\n",
       "      <th>review</th>\n",
       "      <th>sentiment</th>\n",
       "    </tr>\n",
       "  </thead>\n",
       "  <tbody>\n",
       "    <tr>\n",
       "      <th>count</th>\n",
       "      <td>50000</td>\n",
       "      <td>50000</td>\n",
       "    </tr>\n",
       "    <tr>\n",
       "      <th>unique</th>\n",
       "      <td>49582</td>\n",
       "      <td>2</td>\n",
       "    </tr>\n",
       "    <tr>\n",
       "      <th>top</th>\n",
       "      <td>Loved today's show!!! It was a variety and not...</td>\n",
       "      <td>positive</td>\n",
       "    </tr>\n",
       "    <tr>\n",
       "      <th>freq</th>\n",
       "      <td>5</td>\n",
       "      <td>25000</td>\n",
       "    </tr>\n",
       "  </tbody>\n",
       "</table>\n",
       "</div>"
      ],
      "text/plain": [
       "                                                   review sentiment\n",
       "count                                               50000     50000\n",
       "unique                                              49582         2\n",
       "top     Loved today's show!!! It was a variety and not...  positive\n",
       "freq                                                    5     25000"
      ]
     },
     "execution_count": 3,
     "metadata": {},
     "output_type": "execute_result"
    }
   ],
   "source": [
    "imdb_df.describe()"
   ]
  },
  {
   "cell_type": "code",
   "execution_count": 4,
   "id": "6f388b22-c80f-43a4-825f-ff45d7675416",
   "metadata": {},
   "outputs": [
    {
     "data": {
      "text/plain": [
       "positive    25000\n",
       "negative    25000\n",
       "Name: sentiment, dtype: int64"
      ]
     },
     "execution_count": 4,
     "metadata": {},
     "output_type": "execute_result"
    }
   ],
   "source": [
    "imdb_df['sentiment'].value_counts()"
   ]
  },
  {
   "cell_type": "code",
   "execution_count": 5,
   "id": "85953ec3-88bc-4d12-8759-6ad995e06e74",
   "metadata": {},
   "outputs": [
    {
     "name": "stderr",
     "output_type": "stream",
     "text": [
      "[nltk_data] Downloading package stopwords to /home/jovyan/nltk_data...\n",
      "[nltk_data]   Package stopwords is already up-to-date!\n"
     ]
    }
   ],
   "source": [
    "import nltk\n",
    "from nltk.corpus import stopwords\n",
    "from string import punctuation\n",
    "nltk.download('stopwords')\n",
    "from nltk.tokenize import word_tokenize\n",
    "from nltk.probability import FreqDist\n",
    "from nltk.stem import WordNetLemmatizer"
   ]
  },
  {
   "cell_type": "code",
   "execution_count": 32,
   "id": "aebb6dca-baaf-49dd-b9e7-352690720f43",
   "metadata": {},
   "outputs": [],
   "source": [
    "# Compile all the reviews into one giant string\n",
    "reviews = \"\"\n",
    "for ind in range(1000):\n",
    "    reviews = reviews + \" \" + imdb_df[\"review\"][ind]\n",
    "    \n",
    "for ind in range(49000, 50000):\n",
    "    reviews = reviews + \" \" + imdb_df[\"review\"][ind]\n",
    "    \n",
    "# Create a list of stop words\n",
    "stop_words = stopwords.words(\"english\") + list(punctuation)\n",
    "\n",
    "# Tokenize and convert all the reviews to lowercase\n",
    "words = word_tokenize(reviews.lower())\n",
    "\n",
    "# Remove all unwanted words\n",
    "completewords = [w for w in words if w not in stop_words]\n",
    "\n",
    "# Lemmatize the list of words\n",
    "completestemmed = [WordNetLemmatizer().lemmatize(w) for w in completewords]\n",
    "\n",
    "# Find the frequency of all words\n",
    "freq = FreqDist(completestemmed)\n",
    "\n",
    "# Turn this list into a pandas dataframe\n",
    "wordlist = []\n",
    "wordfreq = []\n",
    "for i in sorted(freq, key=freq.get, reverse=True):\n",
    "    wordlist.append(i)\n",
    "    wordfreq.append(freq[i])\n",
    "    \n",
    "df = pd.DataFrame({'wordlist':wordlist, 'wordfreq':wordfreq})"
   ]
  },
  {
   "cell_type": "code",
   "execution_count": 42,
   "id": "f6cbbbba-7270-4f77-b301-cc40e7058957",
   "metadata": {},
   "outputs": [
    {
     "data": {
      "text/html": [
       "<div>\n",
       "<style scoped>\n",
       "    .dataframe tbody tr th:only-of-type {\n",
       "        vertical-align: middle;\n",
       "    }\n",
       "\n",
       "    .dataframe tbody tr th {\n",
       "        vertical-align: top;\n",
       "    }\n",
       "\n",
       "    .dataframe thead th {\n",
       "        text-align: right;\n",
       "    }\n",
       "</style>\n",
       "<table border=\"1\" class=\"dataframe\">\n",
       "  <thead>\n",
       "    <tr style=\"text-align: right;\">\n",
       "      <th></th>\n",
       "      <th>wordlist</th>\n",
       "      <th>wordfreq</th>\n",
       "    </tr>\n",
       "  </thead>\n",
       "  <tbody>\n",
       "    <tr>\n",
       "      <th>2</th>\n",
       "      <td>movie</td>\n",
       "      <td>4093</td>\n",
       "    </tr>\n",
       "    <tr>\n",
       "      <th>3</th>\n",
       "      <td>film</td>\n",
       "      <td>3460</td>\n",
       "    </tr>\n",
       "    <tr>\n",
       "      <th>7</th>\n",
       "      <td>one</td>\n",
       "      <td>2093</td>\n",
       "    </tr>\n",
       "    <tr>\n",
       "      <th>8</th>\n",
       "      <td>like</td>\n",
       "      <td>1577</td>\n",
       "    </tr>\n",
       "    <tr>\n",
       "      <th>9</th>\n",
       "      <td>time</td>\n",
       "      <td>1127</td>\n",
       "    </tr>\n",
       "    <tr>\n",
       "      <th>...</th>\n",
       "      <td>...</td>\n",
       "      <td>...</td>\n",
       "    </tr>\n",
       "    <tr>\n",
       "      <th>27098</th>\n",
       "      <td>hillside</td>\n",
       "      <td>1</td>\n",
       "    </tr>\n",
       "    <tr>\n",
       "      <th>27099</th>\n",
       "      <td>bowling</td>\n",
       "      <td>1</td>\n",
       "    </tr>\n",
       "    <tr>\n",
       "      <th>27100</th>\n",
       "      <td>shifty</td>\n",
       "      <td>1</td>\n",
       "    </tr>\n",
       "    <tr>\n",
       "      <th>27101</th>\n",
       "      <td>technological</td>\n",
       "      <td>1</td>\n",
       "    </tr>\n",
       "    <tr>\n",
       "      <th>27102</th>\n",
       "      <td>yosemite.</td>\n",
       "      <td>1</td>\n",
       "    </tr>\n",
       "  </tbody>\n",
       "</table>\n",
       "<p>27098 rows × 2 columns</p>\n",
       "</div>"
      ],
      "text/plain": [
       "            wordlist  wordfreq\n",
       "2              movie      4093\n",
       "3               film      3460\n",
       "7                one      2093\n",
       "8               like      1577\n",
       "9               time      1127\n",
       "...              ...       ...\n",
       "27098       hillside         1\n",
       "27099        bowling         1\n",
       "27100         shifty         1\n",
       "27101  technological         1\n",
       "27102      yosemite.         1\n",
       "\n",
       "[27098 rows x 2 columns]"
      ]
     },
     "execution_count": 42,
     "metadata": {},
     "output_type": "execute_result"
    }
   ],
   "source": [
    "# Purge weird words\n",
    "# df = df.drop(labels=1)\n",
    "df = df.drop(labels=4)\n",
    "df = df.drop(labels=5)\n",
    "df = df.drop(labels=6)\n",
    "df"
   ]
  },
  {
   "cell_type": "code",
   "execution_count": 43,
   "id": "5dbd5b95-7904-42ee-a31b-b31da4a5076e",
   "metadata": {},
   "outputs": [
    {
     "data": {
      "text/plain": [
       "8.79906266145103"
      ]
     },
     "execution_count": 43,
     "metadata": {},
     "output_type": "execute_result"
    }
   ],
   "source": [
    "# Mean\n",
    "df['wordfreq'].mean()"
   ]
  },
  {
   "cell_type": "code",
   "execution_count": 44,
   "id": "4eea565a-b0be-4ed7-9593-da5520c33556",
   "metadata": {},
   "outputs": [
    {
     "data": {
      "text/plain": [
       "1.0"
      ]
     },
     "execution_count": 44,
     "metadata": {},
     "output_type": "execute_result"
    }
   ],
   "source": [
    "# Median\n",
    "df['wordfreq'].median()"
   ]
  },
  {
   "cell_type": "code",
   "execution_count": 45,
   "id": "a1feb361-18b1-48e0-a8f4-383974c4ff54",
   "metadata": {},
   "outputs": [
    {
     "data": {
      "text/plain": [
       "0    1\n",
       "dtype: int64"
      ]
     },
     "execution_count": 45,
     "metadata": {},
     "output_type": "execute_result"
    }
   ],
   "source": [
    "# Mode\n",
    "df['wordfreq'].mode()"
   ]
  },
  {
   "cell_type": "code",
   "execution_count": 52,
   "id": "2736bc13-ba09-4642-9abe-d72814e47844",
   "metadata": {},
   "outputs": [
    {
     "data": {
      "text/plain": [
       "<AxesSubplot:xlabel='wordlist'>"
      ]
     },
     "execution_count": 52,
     "metadata": {},
     "output_type": "execute_result"
    },
    {
     "data": {
      "image/png": "[encoded data removed]",
      "text/plain": [
       "<Figure size 432x288 with 1 Axes>"
      ]
     },
     "metadata": {
      "needs_background": "light"
     },
     "output_type": "display_data"
    }
   ],
   "source": [
    "# Barchart\n",
    "bar_df = df.loc[0:20, [\"wordlist\", \"wordfreq\"]]\n",
    "bar_df.plot.bar(x=\"wordlist\", y=\"wordfreq\")\n",
    "#ax = bar_df.plot.bar(x='wordlist', y='wordfreq', rot=0)"
   ]
  },
  {
   "cell_type": "code",
   "execution_count": null,
   "id": "b5250253-e631-44ba-a97b-549fbf09e9da",
   "metadata": {},
   "outputs": [],
   "source": [
    "# Barchart\n",
    "bar_df = df.loc[0:20, [\"wordlist\", \"wordfreq\"]]\n",
    "bar_df.plot.bar(x=\"wordlist\", y=\"wordfreq\")"
   ]
  },
  {
   "cell_type": "markdown",
   "id": "2baf2caa-c2eb-4c72-a5df-1dc113b28769",
   "metadata": {},
   "source": [
    "## Step 4: Create a section in your notebook that includes the beginnings of your analysis\n",
    "\n",
    "- This should include code for data analysis\n",
    "- Include an additional 4 data visualizations of information directly relevant to your study topic\n",
    "    - Or describe 4 data visualizations that you want to make\n",
    "- This section does not need to be polished but it should be a good foundation"
   ]
  },
  {
   "cell_type": "code",
   "execution_count": null,
   "id": "93945c5b-d5c6-40b2-88c5-5d2470ddefba",
   "metadata": {},
   "outputs": [],
   "source": [
    "import nltk\n",
    "from nltk.sentiment import vader\n",
    "nltk.download('vader_lexicon')"
   ]
  },
  {
   "cell_type": "code",
   "execution_count": null,
   "id": "288fed52-3ab1-4680-a9ec-27ed64945a11",
   "metadata": {},
   "outputs": [],
   "source": [
    "sia = vader.SentimentIntensityAnalyzer()"
   ]
  },
  {
   "cell_type": "code",
   "execution_count": null,
   "id": "4f9bc49b-a918-45a7-a5f2-946884a3a6fb",
   "metadata": {},
   "outputs": [],
   "source": [
    "#testing syntax stuffs\n",
    "\n",
    "#imdb_df.head(1)\n",
    "#imdb_df[\"review\"].iloc[0]\n",
    "#review1 = imdb_df[\"review\"].iloc[0]\n",
    "#sia.polarity_scores(review1)\n",
    "#sia.polarity_scores(review1)[\"compound\"]"
   ]
  },
  {
   "cell_type": "code",
   "execution_count": null,
   "id": "ede1d3a8-7918-4c1e-a6df-3f99a08d17f4",
   "metadata": {},
   "outputs": [],
   "source": [
    "#for loop for the whole dataset\n",
    "\n",
    "#k = 0\n",
    "#for index, row in imdb_df.iterrows():\n",
    "    #review = imdb_df[\"review\"].iloc[k]\n",
    "    #print('Review ' + str(k) + \"'s compound polarity score is \" + str(sia.polarity_scores(review)[\"compound\"]))\n",
    "    #k+=1"
   ]
  },
  {
   "cell_type": "code",
   "execution_count": null,
   "id": "0ee423df-173c-4a1f-b21e-b4956f85323a",
   "metadata": {
    "tags": []
   },
   "outputs": [],
   "source": [
    "k = 0\n",
    "data = []\n",
    "for index, row in imdb_df.iterrows():\n",
    "    while k < 50:\n",
    "        review = imdb_df[\"review\"].iloc[k]\n",
    "        print('Review ' + str(k) + \"'s compound polarity score is \" + str(sia.polarity_scores(review)[\"compound\"]))\n",
    "        data.append(sia.polarity_scores(review)[\"compound\"])\n",
    "        k+=1"
   ]
  },
  {
   "cell_type": "code",
   "execution_count": null,
   "id": "836518ea-9eb3-4745-8ba7-8cc45f267a80",
   "metadata": {},
   "outputs": [],
   "source": [
    "data_df = pd.DataFrame(data)\n",
    "data_df"
   ]
  },
  {
   "cell_type": "code",
   "execution_count": null,
   "id": "10585960-ab08-44a3-bf1f-02e096aa0bd2",
   "metadata": {},
   "outputs": [],
   "source": [
    "data_df.plot(kind='line')"
   ]
  },
  {
   "cell_type": "code",
   "execution_count": null,
   "id": "8c01ff9e-9d4d-455f-a7c2-e64160b7ff71",
   "metadata": {},
   "outputs": [],
   "source": [
    "grouped = imdb_df.groupby(imdb_df.sentiment)\n",
    "\n",
    "positive = grouped.get_group(\"positive\")\n",
    "positive"
   ]
  },
  {
   "cell_type": "code",
   "execution_count": null,
   "id": "d809bd4b-3f71-49e3-b749-75147a0a215b",
   "metadata": {},
   "outputs": [],
   "source": [
    "k = 0\n",
    "posdata = []\n",
    "for index, row in positive.iterrows():\n",
    "    while k < 50:\n",
    "        review = positive[\"review\"].iloc[k]\n",
    "        print('Review ' + str(k) + \"'s compound polarity score is \" + str(sia.polarity_scores(review)[\"compound\"]))\n",
    "        posdata.append(sia.polarity_scores(review)[\"compound\"])\n",
    "        k+=1"
   ]
  },
  {
   "cell_type": "code",
   "execution_count": null,
   "id": "5b4f0c2c-7fe3-426b-819f-c6426431f1d3",
   "metadata": {},
   "outputs": [],
   "source": [
    "posdata_df = pd.DataFrame(posdata)\n",
    "posdata_df.plot(kind='line')"
   ]
  },
  {
   "cell_type": "code",
   "execution_count": null,
   "id": "b94c1a7c-b535-4b97-a491-17669c13dc8c",
   "metadata": {},
   "outputs": [],
   "source": [
    "grouped = imdb_df.groupby(imdb_df.sentiment)\n",
    "\n",
    "negative = grouped.get_group(\"negative\")\n",
    "negative"
   ]
  },
  {
   "cell_type": "code",
   "execution_count": null,
   "id": "643a67b8-19ed-4a96-b1f8-68cfba874ea6",
   "metadata": {},
   "outputs": [],
   "source": [
    "k = 0\n",
    "negdata = []\n",
    "for index, row in negative.iterrows():\n",
    "    while k < 50:\n",
    "        review = negative[\"review\"].iloc[k]\n",
    "        print('Review ' + str(k) + \"'s compound polarity score is \" + str(sia.polarity_scores(review)[\"compound\"]))\n",
    "        negdata.append(sia.polarity_scores(review)[\"compound\"])\n",
    "        k+=1"
   ]
  },
  {
   "cell_type": "code",
   "execution_count": null,
   "id": "e38408aa-ccca-4b36-aaf0-10f18849748f",
   "metadata": {},
   "outputs": [],
   "source": [
    "negdata_df = pd.DataFrame(negdata)\n",
    "negdata_df.plot(kind='line')"
   ]
  }
 ],
 "metadata": {
  "kernelspec": {
   "display_name": "Python 3 (ipykernel)",
   "language": "python",
   "name": "python3"
  },
  "language_info": {
   "codemirror_mode": {
    "name": "ipython",
    "version": 3
   },
   "file_extension": ".py",
   "mimetype": "text/x-python",
   "name": "python",
   "nbconvert_exporter": "python",
   "pygments_lexer": "ipython3",
   "version": "3.9.6"
  }
 },
 "nbformat": 4,
 "nbformat_minor": 5
}
