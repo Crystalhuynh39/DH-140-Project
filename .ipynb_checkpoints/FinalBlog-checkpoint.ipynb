{
 "cells": [
  {
   "cell_type": "markdown",
   "id": "a0a53d6c-4817-469e-ad9c-5fe359ba45ef",
   "metadata": {},
   "source": [
    "# What Sentiment Analysis Can Reveal About Common Speech Patterns\n",
    "\n",
    "## Digital Humanities 140 Coding for Humanities with Professor Winjum at UCLA Winter 2022\n",
    "\n",
    "#### 3/14/2022 | Crystal Huynh, Larry Qu, Nelson Truong"
   ]
  }
 ],
 "metadata": {
  "kernelspec": {
   "display_name": "Python 3 (ipykernel)",
   "language": "python",
   "name": "python3"
  },
  "language_info": {
   "codemirror_mode": {
    "name": "ipython",
    "version": 3
   },
   "file_extension": ".py",
   "mimetype": "text/x-python",
   "name": "python",
   "nbconvert_exporter": "python",
   "pygments_lexer": "ipython3",
   "version": "3.9.6"
  }
 },
 "nbformat": 4,
 "nbformat_minor": 5
}
