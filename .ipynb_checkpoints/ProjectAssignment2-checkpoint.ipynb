{
 "cells": [
  {
   "cell_type": "markdown",
   "id": "68141b5b-40b0-47d9-af83-3a8f8142af7a",
   "metadata": {},
   "source": [
    "# Project Assignment #2"
   ]
  },
  {
   "cell_type": "markdown",
   "id": "a4e31978-1453-42ff-a588-ef1f531662c0",
   "metadata": {},
   "source": [
    "## Step 2: Create a section in your notebook that introduces you (or your group) and introduces your project\n",
    "\n",
    "- If you (or your group) have made any changes to your research project idea or selected other/additional data, modify your project description accordingly."
   ]
  },
  {
   "cell_type": "markdown",
   "id": "aada7f7a-45c7-40a5-9762-904592cfb98b",
   "metadata": {},
   "source": [
    "This project was made by Crystal Huynh, Larry Qu, and Nelson Truong.\n",
    "\n",
    "### Research Question: What common speech patterns can be found in positive and negative commentary?\n",
    "Our group wanted to explore how people tend to speak when talking in an extremely positive and negative manner, especially in the context of movie reviews. Are there specific words that are frequently used when speaking in a positive sentiment versus a negative one? How often do those words show up in speech? How polarizing are these frequently used words? Do people tend to speak more when they are feeling positive or negative about something? This is the first step that we want to take when analyzing the speech patterns of movie reviews.\n",
    "\n",
    "### Why it Matters\n",
    "With this information, we can later see whether these patterns match typical human behavior/speech, or if they are more specific in an online, more anonymous environment. We can use our findings to potentially see how polarizing these spaces are and how they affect our society in the long run as this type of analysis can also be used on things like social media comments and news articles where commentary can be even more polarizing. As we explore speech patterns in settings outside of normal, in person conversation, we can get a better idea of how people truly think and feel in certain environments or how people will think and feel given what we already know.\n",
    "\n",
    "### Data Source\n",
    "[IMDB Dataset of 50K Movie Reviews](https://www.kaggle.com/lakshmi25npathi/imdb-dataset-of-50k-movie-reviews)\n",
    "[More Dataset Information](http://ai.stanford.edu/~amaas/data/sentiment/)\n",
    "\n",
    "We are using the IMDB Dataset of 50K Movie Reviews Large Movie Review Dataset from kaggle which contains 50K movie reviews. This dataset can be used for binary sentiment classification as it contains highly polar movie reviews for training and testing.\n",
    "\n",
    "https://gist.github.com/mkulakowski2/4289441\n",
    "\n",
    "https://gist.github.com/mkulakowski2/4289437\n",
    "\n",
    "In order to indentify the positive and negative words, we can easily scan the web for premade datasets. These two shown above are datasets containing negative and positive words, respectively, that we can use to analyze our movie reviews with.\n",
    "\n",
    "### Project Scope\n",
    "The intended analysis is to see what are the common \"positive\" and \"negative\" words being used and how often they are used. The resulting visualizations for this would probably be something like a bar chart highlighting the ten most common \"positive\" and \"negative\" words and how often they appear in the dataset. We can also how long \"positive\" reviews are compared to \"negative\" reviews by checking the word count for each review and plotting the total word count frequency in a separate bar chart. Another analysis we could do is categorize common \"positive\" and \"negative\" words to see how polarizing they really are and plot this on another bar chart to visualize the scale of how positive \"positive\" reviews are and how negative \"negative\" reviews are.\n",
    "\n",
    "\n",
    "### Expected Insights\n",
    "We expect to see more polarizing \"positive\" and \"negative\" reviews to be lengthier in word count as people tend to speak more than they are feeling extremely \"positive\" or \"negative\" which is typical in normal, everyday, real life behavior. However, many people tend to not show their true thoughts and feelings when speaking in public, so perhaps in spaces like movie reviews, people's wording may be more polarizing than if they were to be giving the review in person. In other words, their online, anonymous reviews may be a lot more emotional and biased than what people would typically say aloud. We might see that although online commentary may reflect human behavior in that it represents what people actually are thinking and feeling, it may not be representative of what people would normally say to others. However, organizations can use these findings to gauge a more truthful reaction from the public for their respective initiatives and campaigns to see what they need to improve upon in order to generate a positive response."
   ]
  },
  {
   "cell_type": "markdown",
   "id": "58df9576-ba48-4d22-ac7f-9c384724dcd6",
   "metadata": {},
   "source": [
    "## Step 3: Create a section in your notebook that introduces your data\n",
    "\n",
    "- This can include summary information about the data, summary statistics where appropriate, and an identification of where there may be missing/incorrect/outlier data\n",
    "- It should include at least 4 exploratory data visualizations\n",
    "- This section does not need to be polished but it should be a good foundation"
   ]
  },
  {
   "cell_type": "code",
   "execution_count": 5,
   "id": "d434714a-34b7-476f-8185-1465c37de462",
   "metadata": {},
   "outputs": [],
   "source": [
    "import pandas as pd"
   ]
  },
  {
   "cell_type": "code",
   "execution_count": 6,
   "id": "c7709e58-c6cf-48f1-a1bf-c7fe6e491c36",
   "metadata": {},
   "outputs": [
    {
     "data": {
      "text/html": [
       "<div>\n",
       "<style scoped>\n",
       "    .dataframe tbody tr th:only-of-type {\n",
       "        vertical-align: middle;\n",
       "    }\n",
       "\n",
       "    .dataframe tbody tr th {\n",
       "        vertical-align: top;\n",
       "    }\n",
       "\n",
       "    .dataframe thead th {\n",
       "        text-align: right;\n",
       "    }\n",
       "</style>\n",
       "<table border=\"1\" class=\"dataframe\">\n",
       "  <thead>\n",
       "    <tr style=\"text-align: right;\">\n",
       "      <th></th>\n",
       "      <th>review</th>\n",
       "      <th>sentiment</th>\n",
       "    </tr>\n",
       "  </thead>\n",
       "  <tbody>\n",
       "    <tr>\n",
       "      <th>0</th>\n",
       "      <td>One of the other reviewers has mentioned that ...</td>\n",
       "      <td>positive</td>\n",
       "    </tr>\n",
       "    <tr>\n",
       "      <th>1</th>\n",
       "      <td>A wonderful little production. &lt;br /&gt;&lt;br /&gt;The...</td>\n",
       "      <td>positive</td>\n",
       "    </tr>\n",
       "    <tr>\n",
       "      <th>2</th>\n",
       "      <td>I thought this was a wonderful way to spend ti...</td>\n",
       "      <td>positive</td>\n",
       "    </tr>\n",
       "    <tr>\n",
       "      <th>3</th>\n",
       "      <td>Basically there's a family where a little boy ...</td>\n",
       "      <td>negative</td>\n",
       "    </tr>\n",
       "    <tr>\n",
       "      <th>4</th>\n",
       "      <td>Petter Mattei's \"Love in the Time of Money\" is...</td>\n",
       "      <td>positive</td>\n",
       "    </tr>\n",
       "    <tr>\n",
       "      <th>...</th>\n",
       "      <td>...</td>\n",
       "      <td>...</td>\n",
       "    </tr>\n",
       "    <tr>\n",
       "      <th>49995</th>\n",
       "      <td>I thought this movie did a down right good job...</td>\n",
       "      <td>positive</td>\n",
       "    </tr>\n",
       "    <tr>\n",
       "      <th>49996</th>\n",
       "      <td>Bad plot, bad dialogue, bad acting, idiotic di...</td>\n",
       "      <td>negative</td>\n",
       "    </tr>\n",
       "    <tr>\n",
       "      <th>49997</th>\n",
       "      <td>I am a Catholic taught in parochial elementary...</td>\n",
       "      <td>negative</td>\n",
       "    </tr>\n",
       "    <tr>\n",
       "      <th>49998</th>\n",
       "      <td>I'm going to have to disagree with the previou...</td>\n",
       "      <td>negative</td>\n",
       "    </tr>\n",
       "    <tr>\n",
       "      <th>49999</th>\n",
       "      <td>No one expects the Star Trek movies to be high...</td>\n",
       "      <td>negative</td>\n",
       "    </tr>\n",
       "  </tbody>\n",
       "</table>\n",
       "<p>50000 rows × 2 columns</p>\n",
       "</div>"
      ],
      "text/plain": [
       "                                                  review sentiment\n",
       "0      One of the other reviewers has mentioned that ...  positive\n",
       "1      A wonderful little production. <br /><br />The...  positive\n",
       "2      I thought this was a wonderful way to spend ti...  positive\n",
       "3      Basically there's a family where a little boy ...  negative\n",
       "4      Petter Mattei's \"Love in the Time of Money\" is...  positive\n",
       "...                                                  ...       ...\n",
       "49995  I thought this movie did a down right good job...  positive\n",
       "49996  Bad plot, bad dialogue, bad acting, idiotic di...  negative\n",
       "49997  I am a Catholic taught in parochial elementary...  negative\n",
       "49998  I'm going to have to disagree with the previou...  negative\n",
       "49999  No one expects the Star Trek movies to be high...  negative\n",
       "\n",
       "[50000 rows x 2 columns]"
      ]
     },
     "execution_count": 6,
     "metadata": {},
     "output_type": "execute_result"
    }
   ],
   "source": [
    "imdb_df = pd.read_csv('IMDB Dataset.csv')\n",
    "imdb_df"
   ]
  },
  {
   "cell_type": "code",
   "execution_count": 7,
   "id": "e7c718a6-d453-4fce-b26c-2896c5682ab2",
   "metadata": {},
   "outputs": [
    {
     "data": {
      "text/html": [
       "<div>\n",
       "<style scoped>\n",
       "    .dataframe tbody tr th:only-of-type {\n",
       "        vertical-align: middle;\n",
       "    }\n",
       "\n",
       "    .dataframe tbody tr th {\n",
       "        vertical-align: top;\n",
       "    }\n",
       "\n",
       "    .dataframe thead th {\n",
       "        text-align: right;\n",
       "    }\n",
       "</style>\n",
       "<table border=\"1\" class=\"dataframe\">\n",
       "  <thead>\n",
       "    <tr style=\"text-align: right;\">\n",
       "      <th></th>\n",
       "      <th>review</th>\n",
       "      <th>sentiment</th>\n",
       "    </tr>\n",
       "  </thead>\n",
       "  <tbody>\n",
       "    <tr>\n",
       "      <th>count</th>\n",
       "      <td>50000</td>\n",
       "      <td>50000</td>\n",
       "    </tr>\n",
       "    <tr>\n",
       "      <th>unique</th>\n",
       "      <td>49582</td>\n",
       "      <td>2</td>\n",
       "    </tr>\n",
       "    <tr>\n",
       "      <th>top</th>\n",
       "      <td>Loved today's show!!! It was a variety and not...</td>\n",
       "      <td>positive</td>\n",
       "    </tr>\n",
       "    <tr>\n",
       "      <th>freq</th>\n",
       "      <td>5</td>\n",
       "      <td>25000</td>\n",
       "    </tr>\n",
       "  </tbody>\n",
       "</table>\n",
       "</div>"
      ],
      "text/plain": [
       "                                                   review sentiment\n",
       "count                                               50000     50000\n",
       "unique                                              49582         2\n",
       "top     Loved today's show!!! It was a variety and not...  positive\n",
       "freq                                                    5     25000"
      ]
     },
     "execution_count": 7,
     "metadata": {},
     "output_type": "execute_result"
    }
   ],
   "source": [
    "imdb_df.describe()"
   ]
  },
  {
   "cell_type": "code",
   "execution_count": 8,
   "id": "6f388b22-c80f-43a4-825f-ff45d7675416",
   "metadata": {},
   "outputs": [
    {
     "data": {
      "text/plain": [
       "positive    25000\n",
       "negative    25000\n",
       "Name: sentiment, dtype: int64"
      ]
     },
     "execution_count": 8,
     "metadata": {},
     "output_type": "execute_result"
    }
   ],
   "source": [
    "imdb_df['sentiment'].value_counts()"
   ]
  },
  {
   "cell_type": "code",
   "execution_count": 20,
   "id": "e15a05af-e2a5-484d-a39c-0b365b1f0422",
   "metadata": {},
   "outputs": [
    {
     "name": "stderr",
     "output_type": "stream",
     "text": [
      "[nltk_data] Downloading package stopwords to /home/jovyan/nltk_data...\n",
      "[nltk_data]   Package stopwords is already up-to-date!\n"
     ]
    },
    {
     "name": "stdout",
     "output_type": "stream",
     "text": [
      "30 most common words in positive reviews\n",
      "br 97952\n",
      "'s 63002\n",
      "film 39754\n",
      "movie 35757\n",
      "'' 31962\n",
      "`` 31591\n",
      "n't 26471\n",
      "one 23831\n",
      "like 16414\n",
      "good 13759\n",
      "story 12042\n",
      "great 11790\n",
      "time 11453\n",
      "see 11437\n",
      "would 11098\n",
      "really 10443\n",
      "well 9931\n",
      "also 9373\n",
      "much 8747\n",
      "even 8331\n",
      "first 8278\n",
      "people 8154\n",
      "get 8023\n",
      "... 7898\n",
      "love 7747\n",
      "best 7536\n",
      "way 7413\n",
      "films 7230\n",
      "many 7084\n",
      "could 7056\n",
      "30 most common words in negative reviews\n",
      "br 103996\n",
      "'s 58724\n",
      "movie 47078\n",
      "n't 39383\n",
      "film 35412\n",
      "`` 34654\n",
      "'' 33910\n",
      "one 22847\n",
      "like 21231\n",
      "would 15021\n",
      "good 13687\n",
      "even 13368\n",
      "bad 13313\n",
      "really 11809\n",
      "... 11704\n",
      "could 11131\n",
      "time 11022\n",
      "see 10328\n",
      "get 9784\n",
      "much 9628\n",
      "story 9462\n",
      "make 8892\n",
      "people 8887\n",
      "made 8303\n",
      "movies 7704\n",
      "plot 7666\n",
      "acting 7634\n",
      "way 7231\n",
      "characters 7072\n",
      "first 7045\n"
     ]
    }
   ],
   "source": [
    "import nltk\n",
    "from nltk.tokenize import word_tokenize, sent_tokenize\n",
    "from nltk.corpus import stopwords\n",
    "from string import punctuation\n",
    "nltk.download('stopwords')\n",
    "from nltk.probability import FreqDist\n",
    "\n",
    "\n",
    "#most common words used for positive and negative sentiments\n",
    "#positiveReviews = []\n",
    "#negativeReviews = []\n",
    "positiveText = \"\"\n",
    "negativeText = \"\"\n",
    "\n",
    "\n",
    "for i in range(len(imdb_df['review'])):\n",
    "    if imdb_df['sentiment'][i] == \"positive\":\n",
    "        #positiveReviews.append(imdb_df['review'][i])\n",
    "        positiveText += imdb_df['review'][i]\n",
    "    else:\n",
    "        #negativeReviews.append(imdb_df['review'][i])\n",
    "        negativeText += imdb_df['review'][i]\n",
    "\n",
    "#print(positiveReviews[:5])\n",
    "\n",
    "#tokenize the words\n",
    "sent = sent_tokenize(positiveText)\n",
    "words = []\n",
    "for s in sent:\n",
    "    for w in word_tokenize(s):\n",
    "        words.append(w)\n",
    "        \n",
    "#remove stopwords\n",
    "myStopWords = list(punctuation) + stopwords.words('english')\n",
    "wordsNoStop = []\n",
    "for i in words:\n",
    "    if i.lower() not in myStopWords:\n",
    "        wordsNoStop.append(i)\n",
    "        \n",
    "print(\"30 most common words in positive reviews\")\n",
    "\n",
    "freq = FreqDist(wordsNoStop)\n",
    "for j in sorted(freq, key=freq.get, reverse=True)[:30]:\n",
    "    print(j,freq[j])\n",
    "    \n",
    "\n",
    "#tokenize the words\n",
    "sent = sent_tokenize(negativeText)\n",
    "words = []\n",
    "for s in sent:\n",
    "    for w in word_tokenize(s):\n",
    "        words.append(w)\n",
    "        \n",
    "#remove stopwords\n",
    "myStopWords = list(punctuation) + stopwords.words('english')\n",
    "wordsNoStop = []\n",
    "for i in words:\n",
    "    if i.lower() not in myStopWords:\n",
    "        wordsNoStop.append(i)\n",
    "        \n",
    "print(\"30 most common words in negative reviews\")\n",
    "\n",
    "negfreq = FreqDist(wordsNoStop)\n",
    "for j in sorted(negfreq, key=negfreq.get, reverse=True)[:30]:\n",
    "    print(j,negfreq[j])\n",
    "  \n",
    "#onlyPositive = []\n",
    "#for pword in freq:\n",
    "#    if pword not in negfreq:\n",
    "#        onlyPositive.append((pword, freq[pword]))\n",
    "        \n",
    "#onlyNegative = []\n",
    "#for negword in negfreq:\n",
    "#    if negword not in freq:\n",
    "#        onlyNegative.append((negword, freq[negword]))\n",
    "        \n",
    "#onlyPositive.sort(key = lambda x: -1*x[1]) \n",
    "#onlyNegative.sort(key = lambda x: -1*x[1]) \n",
    "\n",
    "    \n",
    "#print(\"30 most common words in positive reviews\")\n",
    "#print(onlyPositive[:30])\n",
    "\n",
    "#print(\"30 most common words in negative reviews\")\n",
    "#print(onlyNegative[:30])"
   ]
  },
  {
   "cell_type": "markdown",
   "id": "4fde5b02-2638-44f6-a3f1-903d5680873a",
   "metadata": {},
   "source": [
    "# Data Exploration\n",
    "\n",
    "The following cells will be exploring a small subset of the dataset (first 1000 reviews, first 5000 reviews, etc) to try to gain an idea of what kind of dataset we are working with. Expanding upon the previous section where we looked at the 30 most frequent words in positive and negative reviews, we tried to create data visualizations to better represent these differences. Throughout our data exploration, we used a lot of tokenization and lemmatization to try to get the frequency of different words used in the movie reviews. This ended up in a lot of weird \"words\" such as br or '' which we all know aren't actually words. So, we tried to clean those words up where we could see them and then created the different bar charts of word frequency."
   ]
  },
  {
   "cell_type": "code",
   "execution_count": 7,
   "id": "845240c8-32bc-4fee-ad40-01fa712666a7",
   "metadata": {},
   "outputs": [
    {
     "name": "stderr",
     "output_type": "stream",
     "text": [
      "[nltk_data] Downloading package stopwords to /home/jovyan/nltk_data...\n",
      "[nltk_data]   Package stopwords is already up-to-date!\n"
     ]
    }
   ],
   "source": [
    "import nltk\n",
    "from nltk.corpus import stopwords\n",
    "from string import punctuation\n",
    "nltk.download('stopwords')\n",
    "from nltk.tokenize import word_tokenize\n",
    "from nltk.probability import FreqDist\n",
    "from nltk.stem import WordNetLemmatizer"
   ]
  },
  {
   "cell_type": "code",
   "execution_count": 21,
   "id": "8cdadf81-d29f-4990-932f-cc5e5d80e1a2",
   "metadata": {},
   "outputs": [],
   "source": [
    "# Compile first 1000 reviews into one giant string\n",
    "reviews = \"\"\n",
    "for ind in range(1000):\n",
    "    reviews = reviews + \" \" + imdb_df[\"review\"][ind]\n",
    "    \n",
    "# Create a list of stop words\n",
    "stop_words = stopwords.words(\"english\") + list(punctuation)\n",
    "\n",
    "# Tokenize and convert all the reviews to lowercase\n",
    "words = word_tokenize(reviews.lower())\n",
    "\n",
    "# Remove all unwanted words\n",
    "completewords = [w for w in words if w not in stop_words]\n",
    "\n",
    "# Lemmatize the list of words\n",
    "completestemmed = [WordNetLemmatizer().lemmatize(w) for w in completewords]\n",
    "\n",
    "# Find the frequency of all words\n",
    "freq = FreqDist(completestemmed)\n",
    "\n",
    "# Turn this list into a pandas dataframe\n",
    "wordlist = []\n",
    "wordfreq = []\n",
    "for i in sorted(freq, key=freq.get, reverse=True):\n",
    "    wordlist.append(i)\n",
    "    wordfreq.append(freq[i])\n",
    "    \n",
    "df = pd.DataFrame({'wordlist':wordlist, 'wordfreq':wordfreq})"
   ]
  },
  {
   "cell_type": "code",
   "execution_count": 22,
   "id": "7dc6828b-aab4-44f4-8d97-51791ea867dc",
   "metadata": {},
   "outputs": [
    {
     "data": {
      "text/html": [
       "<div>\n",
       "<style scoped>\n",
       "    .dataframe tbody tr th:only-of-type {\n",
       "        vertical-align: middle;\n",
       "    }\n",
       "\n",
       "    .dataframe tbody tr th {\n",
       "        vertical-align: top;\n",
       "    }\n",
       "\n",
       "    .dataframe thead th {\n",
       "        text-align: right;\n",
       "    }\n",
       "</style>\n",
       "<table border=\"1\" class=\"dataframe\">\n",
       "  <thead>\n",
       "    <tr style=\"text-align: right;\">\n",
       "      <th></th>\n",
       "      <th>wordlist</th>\n",
       "      <th>wordfreq</th>\n",
       "    </tr>\n",
       "  </thead>\n",
       "  <tbody>\n",
       "    <tr>\n",
       "      <th>0</th>\n",
       "      <td>br</td>\n",
       "      <td>4124</td>\n",
       "    </tr>\n",
       "    <tr>\n",
       "      <th>1</th>\n",
       "      <td>'s</td>\n",
       "      <td>2349</td>\n",
       "    </tr>\n",
       "    <tr>\n",
       "      <th>2</th>\n",
       "      <td>movie</td>\n",
       "      <td>2056</td>\n",
       "    </tr>\n",
       "    <tr>\n",
       "      <th>3</th>\n",
       "      <td>film</td>\n",
       "      <td>1770</td>\n",
       "    </tr>\n",
       "    <tr>\n",
       "      <th>4</th>\n",
       "      <td>``</td>\n",
       "      <td>1285</td>\n",
       "    </tr>\n",
       "    <tr>\n",
       "      <th>...</th>\n",
       "      <td>...</td>\n",
       "      <td>...</td>\n",
       "    </tr>\n",
       "    <tr>\n",
       "      <th>18499</th>\n",
       "      <td>intuition</td>\n",
       "      <td>1</td>\n",
       "    </tr>\n",
       "    <tr>\n",
       "      <th>18500</th>\n",
       "      <td>stubborn</td>\n",
       "      <td>1</td>\n",
       "    </tr>\n",
       "    <tr>\n",
       "      <th>18501</th>\n",
       "      <td>minds.</td>\n",
       "      <td>1</td>\n",
       "    </tr>\n",
       "    <tr>\n",
       "      <th>18502</th>\n",
       "      <td>'swearing</td>\n",
       "      <td>1</td>\n",
       "    </tr>\n",
       "    <tr>\n",
       "      <th>18503</th>\n",
       "      <td>volume.</td>\n",
       "      <td>1</td>\n",
       "    </tr>\n",
       "  </tbody>\n",
       "</table>\n",
       "<p>18504 rows × 2 columns</p>\n",
       "</div>"
      ],
      "text/plain": [
       "        wordlist  wordfreq\n",
       "0             br      4124\n",
       "1             's      2349\n",
       "2          movie      2056\n",
       "3           film      1770\n",
       "4             ``      1285\n",
       "...          ...       ...\n",
       "18499  intuition         1\n",
       "18500   stubborn         1\n",
       "18501     minds.         1\n",
       "18502  'swearing         1\n",
       "18503    volume.         1\n",
       "\n",
       "[18504 rows x 2 columns]"
      ]
     },
     "execution_count": 22,
     "metadata": {},
     "output_type": "execute_result"
    }
   ],
   "source": [
    "df"
   ]
  },
  {
   "cell_type": "code",
   "execution_count": 24,
   "id": "404c2d3a-c851-4d92-9bc2-07db757b36b2",
   "metadata": {},
   "outputs": [
    {
     "data": {
      "text/html": [
       "<div>\n",
       "<style scoped>\n",
       "    .dataframe tbody tr th:only-of-type {\n",
       "        vertical-align: middle;\n",
       "    }\n",
       "\n",
       "    .dataframe tbody tr th {\n",
       "        vertical-align: top;\n",
       "    }\n",
       "\n",
       "    .dataframe thead th {\n",
       "        text-align: right;\n",
       "    }\n",
       "</style>\n",
       "<table border=\"1\" class=\"dataframe\">\n",
       "  <thead>\n",
       "    <tr style=\"text-align: right;\">\n",
       "      <th></th>\n",
       "      <th>wordlist</th>\n",
       "      <th>wordfreq</th>\n",
       "    </tr>\n",
       "  </thead>\n",
       "  <tbody>\n",
       "    <tr>\n",
       "      <th>2</th>\n",
       "      <td>movie</td>\n",
       "      <td>2056</td>\n",
       "    </tr>\n",
       "    <tr>\n",
       "      <th>3</th>\n",
       "      <td>film</td>\n",
       "      <td>1770</td>\n",
       "    </tr>\n",
       "    <tr>\n",
       "      <th>7</th>\n",
       "      <td>one</td>\n",
       "      <td>1012</td>\n",
       "    </tr>\n",
       "    <tr>\n",
       "      <th>8</th>\n",
       "      <td>like</td>\n",
       "      <td>785</td>\n",
       "    </tr>\n",
       "    <tr>\n",
       "      <th>9</th>\n",
       "      <td>get</td>\n",
       "      <td>552</td>\n",
       "    </tr>\n",
       "    <tr>\n",
       "      <th>...</th>\n",
       "      <td>...</td>\n",
       "      <td>...</td>\n",
       "    </tr>\n",
       "    <tr>\n",
       "      <th>18499</th>\n",
       "      <td>intuition</td>\n",
       "      <td>1</td>\n",
       "    </tr>\n",
       "    <tr>\n",
       "      <th>18500</th>\n",
       "      <td>stubborn</td>\n",
       "      <td>1</td>\n",
       "    </tr>\n",
       "    <tr>\n",
       "      <th>18501</th>\n",
       "      <td>minds.</td>\n",
       "      <td>1</td>\n",
       "    </tr>\n",
       "    <tr>\n",
       "      <th>18502</th>\n",
       "      <td>'swearing</td>\n",
       "      <td>1</td>\n",
       "    </tr>\n",
       "    <tr>\n",
       "      <th>18503</th>\n",
       "      <td>volume.</td>\n",
       "      <td>1</td>\n",
       "    </tr>\n",
       "  </tbody>\n",
       "</table>\n",
       "<p>18499 rows × 2 columns</p>\n",
       "</div>"
      ],
      "text/plain": [
       "        wordlist  wordfreq\n",
       "2          movie      2056\n",
       "3           film      1770\n",
       "7            one      1012\n",
       "8           like       785\n",
       "9            get       552\n",
       "...          ...       ...\n",
       "18499  intuition         1\n",
       "18500   stubborn         1\n",
       "18501     minds.         1\n",
       "18502  'swearing         1\n",
       "18503    volume.         1\n",
       "\n",
       "[18499 rows x 2 columns]"
      ]
     },
     "execution_count": 24,
     "metadata": {},
     "output_type": "execute_result"
    }
   ],
   "source": [
    "# Purge weird words\n",
    "df = df.drop(labels=0)\n",
    "df = df.drop(labels=1)\n",
    "df = df.drop(labels=4)\n",
    "df = df.drop(labels=5)\n",
    "df = df.drop(labels=6)\n",
    "df"
   ]
  },
  {
   "cell_type": "code",
   "execution_count": 9,
   "id": "99e8fb73-6179-4c2c-8b58-1d58edf88827",
   "metadata": {},
   "outputs": [
    {
     "data": {
      "text/plain": [
       "6.501919022649873"
      ]
     },
     "execution_count": 9,
     "metadata": {},
     "output_type": "execute_result"
    }
   ],
   "source": [
    "# Mean\n",
    "df['wordfreq'].mean()"
   ]
  },
  {
   "cell_type": "code",
   "execution_count": 10,
   "id": "8632591f-ed70-44ba-a99f-14038c8d7bb4",
   "metadata": {},
   "outputs": [
    {
     "data": {
      "text/plain": [
       "1.0"
      ]
     },
     "execution_count": 10,
     "metadata": {},
     "output_type": "execute_result"
    }
   ],
   "source": [
    "# Median\n",
    "df['wordfreq'].median()"
   ]
  },
  {
   "cell_type": "code",
   "execution_count": 11,
   "id": "e4aef4bb-16d7-4a77-9d6d-9e1e51ba15d2",
   "metadata": {},
   "outputs": [
    {
     "data": {
      "text/plain": [
       "0    1\n",
       "dtype: int64"
      ]
     },
     "execution_count": 11,
     "metadata": {},
     "output_type": "execute_result"
    }
   ],
   "source": [
    "# Mode\n",
    "df['wordfreq'].mode()"
   ]
  },
  {
   "cell_type": "code",
   "execution_count": 18,
   "id": "733b7a0f-6e27-4f81-a4af-81ca3e0d9714",
   "metadata": {},
   "outputs": [
    {
     "data": {
      "text/plain": [
       "<AxesSubplot:ylabel='Frequency'>"
      ]
     },
     "execution_count": 18,
     "metadata": {},
     "output_type": "execute_result"
    },
    {
     "data": {
      "image/png": "[encoded data removed]",
      "text/plain": [
       "<Figure size 432x288 with 1 Axes>"
      ]
     },
     "metadata": {
      "needs_background": "light"
     },
     "output_type": "display_data"
    }
   ],
   "source": [
    "# Histogram\n",
    "df.plot.hist(bins=1000, xlim=(0, 150), ylim=(0,2000))"
   ]
  },
  {
   "cell_type": "code",
   "execution_count": 13,
   "id": "cf24b43f-3cd0-4246-9827-28af9155079c",
   "metadata": {},
   "outputs": [
    {
     "data": {
      "text/plain": [
       "<AxesSubplot:ylabel='wordlist'>"
      ]
     },
     "execution_count": 13,
     "metadata": {},
     "output_type": "execute_result"
    },
    {
     "data": {
      "image/png": "[encoded data removed]",
      "text/plain": [
       "<Figure size 432x288 with 1 Axes>"
      ]
     },
     "metadata": {
      "needs_background": "light"
     },
     "output_type": "display_data"
    }
   ],
   "source": [
    "# Barchart of the 17 most frequent words\n",
    "bar_df = df.loc[0:20, [\"wordlist\", \"wordfreq\"]]\n",
    "bar_df.plot.barh(x=\"wordlist\", y=\"wordfreq\")\n",
    "#ax = bar_df.plot.bar(x='wordlist', y='wordfreq', rot=0)"
   ]
  },
  {
   "cell_type": "code",
   "execution_count": 15,
   "id": "57869b0f-8e22-4a61-80c9-3eaeafc1d8a0",
   "metadata": {},
   "outputs": [
    {
     "data": {
      "text/plain": [
       "<AxesSubplot:ylabel='wordlist'>"
      ]
     },
     "execution_count": 15,
     "metadata": {},
     "output_type": "execute_result"
    },
    {
     "data": {
      "image/png": "[encoded data removed]",
      "text/plain": [
       "<Figure size 432x288 with 1 Axes>"
      ]
     },
     "metadata": {
      "needs_background": "light"
     },
     "output_type": "display_data"
    }
   ],
   "source": [
    "# Barchart of the 19 least frequent words\n",
    "bar_df = df.loc[18490:, [\"wordlist\", \"wordfreq\"]]\n",
    "bar_df.plot.barh(x=\"wordlist\", y=\"wordfreq\")"
   ]
  },
  {
   "cell_type": "code",
   "execution_count": 25,
   "id": "316328bf-5e29-4a60-a300-cd36a1a9d971",
   "metadata": {},
   "outputs": [],
   "source": [
    "# Look only at the first 1000 positive reviews\n",
    "reviews = \"\"\n",
    "for ind in range(5000):\n",
    "    if imdb_df[\"sentiment\"][ind] == \"positive\":\n",
    "        reviews = reviews + \" \" + imdb_df[\"review\"][ind]\n",
    "stop_words = stopwords.words(\"english\") + list(punctuation)\n",
    "words = word_tokenize(reviews.lower())\n",
    "completewords = [w for w in words if w not in stop_words]\n",
    "completestemmed = [WordNetLemmatizer().lemmatize(w) for w in completewords]\n",
    "freq = FreqDist(completestemmed)\n",
    "wordlist = []\n",
    "wordfreq = []\n",
    "for i in sorted(freq, key=freq.get, reverse=True):\n",
    "    wordlist.append(i)\n",
    "    wordfreq.append(freq[i])\n",
    "df = pd.DataFrame({'wordlist':wordlist, 'wordfreq':wordfreq})"
   ]
  },
  {
   "cell_type": "code",
   "execution_count": 26,
   "id": "e4ea92a0-fce1-43c9-8147-40a1401c2b51",
   "metadata": {},
   "outputs": [
    {
     "data": {
      "text/html": [
       "<div>\n",
       "<style scoped>\n",
       "    .dataframe tbody tr th:only-of-type {\n",
       "        vertical-align: middle;\n",
       "    }\n",
       "\n",
       "    .dataframe tbody tr th {\n",
       "        vertical-align: top;\n",
       "    }\n",
       "\n",
       "    .dataframe thead th {\n",
       "        text-align: right;\n",
       "    }\n",
       "</style>\n",
       "<table border=\"1\" class=\"dataframe\">\n",
       "  <thead>\n",
       "    <tr style=\"text-align: right;\">\n",
       "      <th></th>\n",
       "      <th>wordlist</th>\n",
       "      <th>wordfreq</th>\n",
       "    </tr>\n",
       "  </thead>\n",
       "  <tbody>\n",
       "    <tr>\n",
       "      <th>0</th>\n",
       "      <td>br</td>\n",
       "      <td>9788</td>\n",
       "    </tr>\n",
       "    <tr>\n",
       "      <th>1</th>\n",
       "      <td>'s</td>\n",
       "      <td>6235</td>\n",
       "    </tr>\n",
       "    <tr>\n",
       "      <th>2</th>\n",
       "      <td>film</td>\n",
       "      <td>4601</td>\n",
       "    </tr>\n",
       "    <tr>\n",
       "      <th>3</th>\n",
       "      <td>movie</td>\n",
       "      <td>4401</td>\n",
       "    </tr>\n",
       "    <tr>\n",
       "      <th>4</th>\n",
       "      <td>''</td>\n",
       "      <td>2898</td>\n",
       "    </tr>\n",
       "    <tr>\n",
       "      <th>...</th>\n",
       "      <td>...</td>\n",
       "      <td>...</td>\n",
       "    </tr>\n",
       "    <tr>\n",
       "      <th>30944</th>\n",
       "      <td>code-breakers</td>\n",
       "      <td>1</td>\n",
       "    </tr>\n",
       "    <tr>\n",
       "      <th>30945</th>\n",
       "      <td>bletchly</td>\n",
       "      <td>1</td>\n",
       "    </tr>\n",
       "    <tr>\n",
       "      <th>30946</th>\n",
       "      <td>emerged</td>\n",
       "      <td>1</td>\n",
       "    </tr>\n",
       "    <tr>\n",
       "      <th>30947</th>\n",
       "      <td>makers.</td>\n",
       "      <td>1</td>\n",
       "    </tr>\n",
       "    <tr>\n",
       "      <th>30948</th>\n",
       "      <td>doubt.unmissable</td>\n",
       "      <td>1</td>\n",
       "    </tr>\n",
       "  </tbody>\n",
       "</table>\n",
       "<p>30949 rows × 2 columns</p>\n",
       "</div>"
      ],
      "text/plain": [
       "               wordlist  wordfreq\n",
       "0                    br      9788\n",
       "1                    's      6235\n",
       "2                  film      4601\n",
       "3                 movie      4401\n",
       "4                    ''      2898\n",
       "...                 ...       ...\n",
       "30944     code-breakers         1\n",
       "30945          bletchly         1\n",
       "30946           emerged         1\n",
       "30947           makers.         1\n",
       "30948  doubt.unmissable         1\n",
       "\n",
       "[30949 rows x 2 columns]"
      ]
     },
     "execution_count": 26,
     "metadata": {},
     "output_type": "execute_result"
    }
   ],
   "source": [
    "df"
   ]
  },
  {
   "cell_type": "code",
   "execution_count": 27,
   "id": "661b75fa-886d-4f75-92b3-1124aa0efb6e",
   "metadata": {},
   "outputs": [
    {
     "data": {
      "text/html": [
       "<div>\n",
       "<style scoped>\n",
       "    .dataframe tbody tr th:only-of-type {\n",
       "        vertical-align: middle;\n",
       "    }\n",
       "\n",
       "    .dataframe tbody tr th {\n",
       "        vertical-align: top;\n",
       "    }\n",
       "\n",
       "    .dataframe thead th {\n",
       "        text-align: right;\n",
       "    }\n",
       "</style>\n",
       "<table border=\"1\" class=\"dataframe\">\n",
       "  <thead>\n",
       "    <tr style=\"text-align: right;\">\n",
       "      <th></th>\n",
       "      <th>wordlist</th>\n",
       "      <th>wordfreq</th>\n",
       "    </tr>\n",
       "  </thead>\n",
       "  <tbody>\n",
       "    <tr>\n",
       "      <th>2</th>\n",
       "      <td>film</td>\n",
       "      <td>4601</td>\n",
       "    </tr>\n",
       "    <tr>\n",
       "      <th>3</th>\n",
       "      <td>movie</td>\n",
       "      <td>4401</td>\n",
       "    </tr>\n",
       "    <tr>\n",
       "      <th>6</th>\n",
       "      <td>one</td>\n",
       "      <td>2718</td>\n",
       "    </tr>\n",
       "    <tr>\n",
       "      <th>8</th>\n",
       "      <td>like</td>\n",
       "      <td>1701</td>\n",
       "    </tr>\n",
       "    <tr>\n",
       "      <th>9</th>\n",
       "      <td>time</td>\n",
       "      <td>1448</td>\n",
       "    </tr>\n",
       "    <tr>\n",
       "      <th>...</th>\n",
       "      <td>...</td>\n",
       "      <td>...</td>\n",
       "    </tr>\n",
       "    <tr>\n",
       "      <th>30944</th>\n",
       "      <td>code-breakers</td>\n",
       "      <td>1</td>\n",
       "    </tr>\n",
       "    <tr>\n",
       "      <th>30945</th>\n",
       "      <td>bletchly</td>\n",
       "      <td>1</td>\n",
       "    </tr>\n",
       "    <tr>\n",
       "      <th>30946</th>\n",
       "      <td>emerged</td>\n",
       "      <td>1</td>\n",
       "    </tr>\n",
       "    <tr>\n",
       "      <th>30947</th>\n",
       "      <td>makers.</td>\n",
       "      <td>1</td>\n",
       "    </tr>\n",
       "    <tr>\n",
       "      <th>30948</th>\n",
       "      <td>doubt.unmissable</td>\n",
       "      <td>1</td>\n",
       "    </tr>\n",
       "  </tbody>\n",
       "</table>\n",
       "<p>30944 rows × 2 columns</p>\n",
       "</div>"
      ],
      "text/plain": [
       "               wordlist  wordfreq\n",
       "2                  film      4601\n",
       "3                 movie      4401\n",
       "6                   one      2718\n",
       "8                  like      1701\n",
       "9                  time      1448\n",
       "...                 ...       ...\n",
       "30944     code-breakers         1\n",
       "30945          bletchly         1\n",
       "30946           emerged         1\n",
       "30947           makers.         1\n",
       "30948  doubt.unmissable         1\n",
       "\n",
       "[30944 rows x 2 columns]"
      ]
     },
     "execution_count": 27,
     "metadata": {},
     "output_type": "execute_result"
    }
   ],
   "source": [
    "# Clean up the dataframe and remove weird words\n",
    "df = df.drop(labels=0)\n",
    "df = df.drop(labels=1)\n",
    "df = df.drop(labels=4)\n",
    "df = df.drop(labels=5)\n",
    "df = df.drop(labels=7)\n",
    "df"
   ]
  },
  {
   "cell_type": "code",
   "execution_count": 28,
   "id": "434b8317-95fd-42a0-8f75-6365544a61bf",
   "metadata": {},
   "outputs": [
    {
     "data": {
      "text/plain": [
       "<AxesSubplot:ylabel='wordlist'>"
      ]
     },
     "execution_count": 28,
     "metadata": {},
     "output_type": "execute_result"
    },
    {
     "data": {
      "image/png": "[encoded data removed]",
      "text/plain": [
       "<Figure size 2160x2160 with 1 Axes>"
      ]
     },
     "metadata": {
      "needs_background": "light"
     },
     "output_type": "display_data"
    }
   ],
   "source": [
    "# Barchart\n",
    "bar_df = df.loc[0:50, [\"wordlist\", \"wordfreq\"]]\n",
    "bar_df.plot.barh(x=\"wordlist\", y=\"wordfreq\", figsize=(30,30), fontsize=20)"
   ]
  },
  {
   "cell_type": "code",
   "execution_count": 29,
   "id": "c58e9be2-7fd0-40db-81a7-ca647f990841",
   "metadata": {},
   "outputs": [],
   "source": [
    "# Look only at the negative reviews\n",
    "reviews = \"\"\n",
    "for ind in range(5000):\n",
    "    if imdb_df[\"sentiment\"][ind] == \"negative\":\n",
    "        reviews = reviews + \" \" + imdb_df[\"review\"][ind]\n",
    "stop_words = stopwords.words(\"english\") + list(punctuation)\n",
    "words = word_tokenize(reviews.lower())\n",
    "completewords = [w for w in words if w not in stop_words]\n",
    "completestemmed = [WordNetLemmatizer().lemmatize(w) for w in completewords]\n",
    "freq = FreqDist(completestemmed)\n",
    "wordlist = []\n",
    "wordfreq = []\n",
    "for i in sorted(freq, key=freq.get, reverse=True):\n",
    "    wordlist.append(i)\n",
    "    wordfreq.append(freq[i])\n",
    "df = pd.DataFrame({'wordlist':wordlist, 'wordfreq':wordfreq})"
   ]
  },
  {
   "cell_type": "code",
   "execution_count": 30,
   "id": "3b548378-fbdd-4066-9cac-e059aedad60d",
   "metadata": {},
   "outputs": [
    {
     "data": {
      "text/html": [
       "<div>\n",
       "<style scoped>\n",
       "    .dataframe tbody tr th:only-of-type {\n",
       "        vertical-align: middle;\n",
       "    }\n",
       "\n",
       "    .dataframe tbody tr th {\n",
       "        vertical-align: top;\n",
       "    }\n",
       "\n",
       "    .dataframe thead th {\n",
       "        text-align: right;\n",
       "    }\n",
       "</style>\n",
       "<table border=\"1\" class=\"dataframe\">\n",
       "  <thead>\n",
       "    <tr style=\"text-align: right;\">\n",
       "      <th></th>\n",
       "      <th>wordlist</th>\n",
       "      <th>wordfreq</th>\n",
       "    </tr>\n",
       "  </thead>\n",
       "  <tbody>\n",
       "    <tr>\n",
       "      <th>0</th>\n",
       "      <td>br</td>\n",
       "      <td>10836</td>\n",
       "    </tr>\n",
       "    <tr>\n",
       "      <th>1</th>\n",
       "      <td>'s</td>\n",
       "      <td>5831</td>\n",
       "    </tr>\n",
       "    <tr>\n",
       "      <th>2</th>\n",
       "      <td>movie</td>\n",
       "      <td>5726</td>\n",
       "    </tr>\n",
       "    <tr>\n",
       "      <th>3</th>\n",
       "      <td>film</td>\n",
       "      <td>4334</td>\n",
       "    </tr>\n",
       "    <tr>\n",
       "      <th>4</th>\n",
       "      <td>n't</td>\n",
       "      <td>4076</td>\n",
       "    </tr>\n",
       "    <tr>\n",
       "      <th>...</th>\n",
       "      <td>...</td>\n",
       "      <td>...</td>\n",
       "    </tr>\n",
       "    <tr>\n",
       "      <th>29968</th>\n",
       "      <td>extracted</td>\n",
       "      <td>1</td>\n",
       "    </tr>\n",
       "    <tr>\n",
       "      <th>29969</th>\n",
       "      <td>brutalizing</td>\n",
       "      <td>1</td>\n",
       "    </tr>\n",
       "    <tr>\n",
       "      <th>29970</th>\n",
       "      <td>unscarred</td>\n",
       "      <td>1</td>\n",
       "    </tr>\n",
       "    <tr>\n",
       "      <th>29971</th>\n",
       "      <td>mastroianni-movie</td>\n",
       "      <td>1</td>\n",
       "    </tr>\n",
       "    <tr>\n",
       "      <th>29972</th>\n",
       "      <td>-movie</td>\n",
       "      <td>1</td>\n",
       "    </tr>\n",
       "  </tbody>\n",
       "</table>\n",
       "<p>29973 rows × 2 columns</p>\n",
       "</div>"
      ],
      "text/plain": [
       "                wordlist  wordfreq\n",
       "0                     br     10836\n",
       "1                     's      5831\n",
       "2                  movie      5726\n",
       "3                   film      4334\n",
       "4                    n't      4076\n",
       "...                  ...       ...\n",
       "29968          extracted         1\n",
       "29969        brutalizing         1\n",
       "29970          unscarred         1\n",
       "29971  mastroianni-movie         1\n",
       "29972             -movie         1\n",
       "\n",
       "[29973 rows x 2 columns]"
      ]
     },
     "execution_count": 30,
     "metadata": {},
     "output_type": "execute_result"
    }
   ],
   "source": [
    "df"
   ]
  },
  {
   "cell_type": "code",
   "execution_count": 31,
   "id": "2a27ce3c-5e1b-4f6f-952f-86989b51cb47",
   "metadata": {},
   "outputs": [
    {
     "data": {
      "text/html": [
       "<div>\n",
       "<style scoped>\n",
       "    .dataframe tbody tr th:only-of-type {\n",
       "        vertical-align: middle;\n",
       "    }\n",
       "\n",
       "    .dataframe tbody tr th {\n",
       "        vertical-align: top;\n",
       "    }\n",
       "\n",
       "    .dataframe thead th {\n",
       "        text-align: right;\n",
       "    }\n",
       "</style>\n",
       "<table border=\"1\" class=\"dataframe\">\n",
       "  <thead>\n",
       "    <tr style=\"text-align: right;\">\n",
       "      <th></th>\n",
       "      <th>wordlist</th>\n",
       "      <th>wordfreq</th>\n",
       "    </tr>\n",
       "  </thead>\n",
       "  <tbody>\n",
       "    <tr>\n",
       "      <th>2</th>\n",
       "      <td>movie</td>\n",
       "      <td>5726</td>\n",
       "    </tr>\n",
       "    <tr>\n",
       "      <th>3</th>\n",
       "      <td>film</td>\n",
       "      <td>4334</td>\n",
       "    </tr>\n",
       "    <tr>\n",
       "      <th>7</th>\n",
       "      <td>one</td>\n",
       "      <td>2584</td>\n",
       "    </tr>\n",
       "    <tr>\n",
       "      <th>8</th>\n",
       "      <td>like</td>\n",
       "      <td>2291</td>\n",
       "    </tr>\n",
       "    <tr>\n",
       "      <th>9</th>\n",
       "      <td>even</td>\n",
       "      <td>1606</td>\n",
       "    </tr>\n",
       "    <tr>\n",
       "      <th>...</th>\n",
       "      <td>...</td>\n",
       "      <td>...</td>\n",
       "    </tr>\n",
       "    <tr>\n",
       "      <th>29968</th>\n",
       "      <td>extracted</td>\n",
       "      <td>1</td>\n",
       "    </tr>\n",
       "    <tr>\n",
       "      <th>29969</th>\n",
       "      <td>brutalizing</td>\n",
       "      <td>1</td>\n",
       "    </tr>\n",
       "    <tr>\n",
       "      <th>29970</th>\n",
       "      <td>unscarred</td>\n",
       "      <td>1</td>\n",
       "    </tr>\n",
       "    <tr>\n",
       "      <th>29971</th>\n",
       "      <td>mastroianni-movie</td>\n",
       "      <td>1</td>\n",
       "    </tr>\n",
       "    <tr>\n",
       "      <th>29972</th>\n",
       "      <td>-movie</td>\n",
       "      <td>1</td>\n",
       "    </tr>\n",
       "  </tbody>\n",
       "</table>\n",
       "<p>29968 rows × 2 columns</p>\n",
       "</div>"
      ],
      "text/plain": [
       "                wordlist  wordfreq\n",
       "2                  movie      5726\n",
       "3                   film      4334\n",
       "7                    one      2584\n",
       "8                   like      2291\n",
       "9                   even      1606\n",
       "...                  ...       ...\n",
       "29968          extracted         1\n",
       "29969        brutalizing         1\n",
       "29970          unscarred         1\n",
       "29971  mastroianni-movie         1\n",
       "29972             -movie         1\n",
       "\n",
       "[29968 rows x 2 columns]"
      ]
     },
     "execution_count": 31,
     "metadata": {},
     "output_type": "execute_result"
    }
   ],
   "source": [
    "# Clean up dataframe and drop weird words\n",
    "df = df.drop(labels=0)\n",
    "df = df.drop(labels=1)\n",
    "df = df.drop(labels=4)\n",
    "df = df.drop(labels=5)\n",
    "df = df.drop(labels=6)\n",
    "df"
   ]
  },
  {
   "cell_type": "code",
   "execution_count": 32,
   "id": "a1263a1f-be60-44c4-8dfb-77a8c25ead83",
   "metadata": {},
   "outputs": [
    {
     "data": {
      "text/plain": [
       "<AxesSubplot:ylabel='wordlist'>"
      ]
     },
     "execution_count": 32,
     "metadata": {},
     "output_type": "execute_result"
    },
    {
     "data": {
      "image/png": "[encoded data removed]",
      "text/plain": [
       "<Figure size 2160x2160 with 1 Axes>"
      ]
     },
     "metadata": {
      "needs_background": "light"
     },
     "output_type": "display_data"
    }
   ],
   "source": [
    "# Barchart\n",
    "bar_df = df.loc[0:30, [\"wordlist\", \"wordfreq\"]]\n",
    "bar_df.plot.barh(x=\"wordlist\", y=\"wordfreq\", figsize=(30,30), fontsize=20)"
   ]
  },
  {
   "cell_type": "markdown",
   "id": "83246b0b-d732-4335-bc5d-85f77939408d",
   "metadata": {},
   "source": [
    "We can see that in the reviews with negative sentiment, they are using very succinct words such as good or bad. This is probably due to the fact that the reviewer didn't like the movie so they don't want to waste time writing an indepth review about the movie. However, you look at the most frequent words for reviews with positive sentiment and you can see similar succint words. It turns out succinct words are just positive in general but the positive sentiment reviews includes more synonomous with good such as great or love."
   ]
  },
  {
   "cell_type": "markdown",
   "id": "2baf2caa-c2eb-4c72-a5df-1dc113b28769",
   "metadata": {},
   "source": [
    "## Step 4: Create a section in your notebook that includes the beginnings of your analysis\n",
    "\n",
    "- This should include code for data analysis\n",
    "- Include an additional 4 data visualizations of information directly relevant to your study topic\n",
    "    - Or describe 4 data visualizations that you want to make\n",
    "- This section does not need to be polished but it should be a good foundation"
   ]
  },
  {
   "cell_type": "code",
   "execution_count": 5,
   "id": "93945c5b-d5c6-40b2-88c5-5d2470ddefba",
   "metadata": {},
   "outputs": [
    {
     "name": "stderr",
     "output_type": "stream",
     "text": [
      "[nltk_data] Downloading package vader_lexicon to\n",
      "[nltk_data]     /home/jovyan/nltk_data...\n",
      "[nltk_data]   Package vader_lexicon is already up-to-date!\n"
     ]
    },
    {
     "data": {
      "text/plain": [
       "True"
      ]
     },
     "execution_count": 5,
     "metadata": {},
     "output_type": "execute_result"
    }
   ],
   "source": [
    "import nltk\n",
    "from nltk.sentiment import vader\n",
    "nltk.download('vader_lexicon')"
   ]
  },
  {
   "cell_type": "code",
   "execution_count": 6,
   "id": "288fed52-3ab1-4680-a9ec-27ed64945a11",
   "metadata": {},
   "outputs": [],
   "source": [
    "sia = vader.SentimentIntensityAnalyzer()"
   ]
  },
  {
   "cell_type": "code",
   "execution_count": 7,
   "id": "4f9bc49b-a918-45a7-a5f2-946884a3a6fb",
   "metadata": {},
   "outputs": [],
   "source": [
    "#testing syntax stuffs\n",
    "\n",
    "#imdb_df.head(1)\n",
    "#imdb_df[\"review\"].iloc[0]\n",
    "#review1 = imdb_df[\"review\"].iloc[0]\n",
    "#sia.polarity_scores(review1)\n",
    "#sia.polarity_scores(review1)[\"compound\"]"
   ]
  },
  {
   "cell_type": "code",
   "execution_count": 8,
   "id": "ede1d3a8-7918-4c1e-a6df-3f99a08d17f4",
   "metadata": {},
   "outputs": [],
   "source": [
    "#for loop for the whole dataset\n",
    "\n",
    "#k = 0\n",
    "#for index, row in imdb_df.iterrows():\n",
    "    #review = imdb_df[\"review\"].iloc[k]\n",
    "    #print('Review ' + str(k) + \"'s compound polarity score is \" + str(sia.polarity_scores(review)[\"compound\"]))\n",
    "    #k+=1"
   ]
  },
  {
   "cell_type": "code",
   "execution_count": 9,
   "id": "0ee423df-173c-4a1f-b21e-b4956f85323a",
   "metadata": {
    "tags": []
   },
   "outputs": [
    {
     "name": "stdout",
     "output_type": "stream",
     "text": [
      "Review 0's compound polarity score is -0.9951\n",
      "Review 1's compound polarity score is 0.9641\n",
      "Review 2's compound polarity score is 0.9605\n",
      "Review 3's compound polarity score is -0.9213\n",
      "Review 4's compound polarity score is 0.9744\n",
      "Review 5's compound polarity score is 0.9828\n",
      "Review 6's compound polarity score is 0.9022\n",
      "Review 7's compound polarity score is 0.8596\n",
      "Review 8's compound polarity score is 0.2362\n",
      "Review 9's compound polarity score is 0.9149\n",
      "Review 10's compound polarity score is 0.9482\n",
      "Review 11's compound polarity score is 0.5223\n",
      "Review 12's compound polarity score is -0.9721\n",
      "Review 13's compound polarity score is 0.3425\n",
      "Review 14's compound polarity score is 0.6168\n",
      "Review 15's compound polarity score is -0.6993\n",
      "Review 16's compound polarity score is 0.3506\n",
      "Review 17's compound polarity score is -0.9868\n",
      "Review 18's compound polarity score is 0.6518\n",
      "Review 19's compound polarity score is 0.945\n",
      "Review 20's compound polarity score is 0.5425\n",
      "Review 21's compound polarity score is -0.9755\n",
      "Review 22's compound polarity score is 0.7948\n",
      "Review 23's compound polarity score is 0.899\n",
      "Review 24's compound polarity score is -0.7602\n",
      "Review 25's compound polarity score is 0.954\n",
      "Review 26's compound polarity score is 0.9962\n",
      "Review 27's compound polarity score is -0.8481\n",
      "Review 28's compound polarity score is -0.9208\n",
      "Review 29's compound polarity score is -0.987\n",
      "Review 30's compound polarity score is -0.9907\n",
      "Review 31's compound polarity score is -0.6485\n",
      "Review 32's compound polarity score is -0.9604\n",
      "Review 33's compound polarity score is 0.9971\n",
      "Review 34's compound polarity score is 0.7133\n",
      "Review 35's compound polarity score is -0.9399\n",
      "Review 36's compound polarity score is -0.962\n",
      "Review 37's compound polarity score is -0.9847\n",
      "Review 38's compound polarity score is 0.9838\n",
      "Review 39's compound polarity score is 0.9797\n",
      "Review 40's compound polarity score is 0.0854\n",
      "Review 41's compound polarity score is 0.9858\n",
      "Review 42's compound polarity score is -0.4678\n",
      "Review 43's compound polarity score is 0.9818\n",
      "Review 44's compound polarity score is 0.9182\n",
      "Review 45's compound polarity score is 0.9401\n",
      "Review 46's compound polarity score is 0.9165\n",
      "Review 47's compound polarity score is -0.68\n",
      "Review 48's compound polarity score is -0.382\n",
      "Review 49's compound polarity score is 0.2152\n"
     ]
    }
   ],
   "source": [
    "k = 0\n",
    "data = []\n",
    "for index, row in imdb_df.iterrows():\n",
    "    while k < 50:\n",
    "        review = imdb_df[\"review\"].iloc[k]\n",
    "        print('Review ' + str(k) + \"'s compound polarity score is \" + str(sia.polarity_scores(review)[\"compound\"]))\n",
    "        data.append(sia.polarity_scores(review)[\"compound\"])\n",
    "        k+=1"
   ]
  },
  {
   "cell_type": "code",
   "execution_count": 10,
   "id": "836518ea-9eb3-4745-8ba7-8cc45f267a80",
   "metadata": {},
   "outputs": [
    {
     "data": {
      "text/html": [
       "<div>\n",
       "<style scoped>\n",
       "    .dataframe tbody tr th:only-of-type {\n",
       "        vertical-align: middle;\n",
       "    }\n",
       "\n",
       "    .dataframe tbody tr th {\n",
       "        vertical-align: top;\n",
       "    }\n",
       "\n",
       "    .dataframe thead th {\n",
       "        text-align: right;\n",
       "    }\n",
       "</style>\n",
       "<table border=\"1\" class=\"dataframe\">\n",
       "  <thead>\n",
       "    <tr style=\"text-align: right;\">\n",
       "      <th></th>\n",
       "      <th>0</th>\n",
       "    </tr>\n",
       "  </thead>\n",
       "  <tbody>\n",
       "    <tr>\n",
       "      <th>0</th>\n",
       "      <td>-0.9951</td>\n",
       "    </tr>\n",
       "    <tr>\n",
       "      <th>1</th>\n",
       "      <td>0.9641</td>\n",
       "    </tr>\n",
       "    <tr>\n",
       "      <th>2</th>\n",
       "      <td>0.9605</td>\n",
       "    </tr>\n",
       "    <tr>\n",
       "      <th>3</th>\n",
       "      <td>-0.9213</td>\n",
       "    </tr>\n",
       "    <tr>\n",
       "      <th>4</th>\n",
       "      <td>0.9744</td>\n",
       "    </tr>\n",
       "    <tr>\n",
       "      <th>5</th>\n",
       "      <td>0.9828</td>\n",
       "    </tr>\n",
       "    <tr>\n",
       "      <th>6</th>\n",
       "      <td>0.9022</td>\n",
       "    </tr>\n",
       "    <tr>\n",
       "      <th>7</th>\n",
       "      <td>0.8596</td>\n",
       "    </tr>\n",
       "    <tr>\n",
       "      <th>8</th>\n",
       "      <td>0.2362</td>\n",
       "    </tr>\n",
       "    <tr>\n",
       "      <th>9</th>\n",
       "      <td>0.9149</td>\n",
       "    </tr>\n",
       "    <tr>\n",
       "      <th>10</th>\n",
       "      <td>0.9482</td>\n",
       "    </tr>\n",
       "    <tr>\n",
       "      <th>11</th>\n",
       "      <td>0.5223</td>\n",
       "    </tr>\n",
       "    <tr>\n",
       "      <th>12</th>\n",
       "      <td>-0.9721</td>\n",
       "    </tr>\n",
       "    <tr>\n",
       "      <th>13</th>\n",
       "      <td>0.3425</td>\n",
       "    </tr>\n",
       "    <tr>\n",
       "      <th>14</th>\n",
       "      <td>0.6168</td>\n",
       "    </tr>\n",
       "    <tr>\n",
       "      <th>15</th>\n",
       "      <td>-0.6993</td>\n",
       "    </tr>\n",
       "    <tr>\n",
       "      <th>16</th>\n",
       "      <td>0.3506</td>\n",
       "    </tr>\n",
       "    <tr>\n",
       "      <th>17</th>\n",
       "      <td>-0.9868</td>\n",
       "    </tr>\n",
       "    <tr>\n",
       "      <th>18</th>\n",
       "      <td>0.6518</td>\n",
       "    </tr>\n",
       "    <tr>\n",
       "      <th>19</th>\n",
       "      <td>0.9450</td>\n",
       "    </tr>\n",
       "    <tr>\n",
       "      <th>20</th>\n",
       "      <td>0.5425</td>\n",
       "    </tr>\n",
       "    <tr>\n",
       "      <th>21</th>\n",
       "      <td>-0.9755</td>\n",
       "    </tr>\n",
       "    <tr>\n",
       "      <th>22</th>\n",
       "      <td>0.7948</td>\n",
       "    </tr>\n",
       "    <tr>\n",
       "      <th>23</th>\n",
       "      <td>0.8990</td>\n",
       "    </tr>\n",
       "    <tr>\n",
       "      <th>24</th>\n",
       "      <td>-0.7602</td>\n",
       "    </tr>\n",
       "    <tr>\n",
       "      <th>25</th>\n",
       "      <td>0.9540</td>\n",
       "    </tr>\n",
       "    <tr>\n",
       "      <th>26</th>\n",
       "      <td>0.9962</td>\n",
       "    </tr>\n",
       "    <tr>\n",
       "      <th>27</th>\n",
       "      <td>-0.8481</td>\n",
       "    </tr>\n",
       "    <tr>\n",
       "      <th>28</th>\n",
       "      <td>-0.9208</td>\n",
       "    </tr>\n",
       "    <tr>\n",
       "      <th>29</th>\n",
       "      <td>-0.9870</td>\n",
       "    </tr>\n",
       "    <tr>\n",
       "      <th>30</th>\n",
       "      <td>-0.9907</td>\n",
       "    </tr>\n",
       "    <tr>\n",
       "      <th>31</th>\n",
       "      <td>-0.6485</td>\n",
       "    </tr>\n",
       "    <tr>\n",
       "      <th>32</th>\n",
       "      <td>-0.9604</td>\n",
       "    </tr>\n",
       "    <tr>\n",
       "      <th>33</th>\n",
       "      <td>0.9971</td>\n",
       "    </tr>\n",
       "    <tr>\n",
       "      <th>34</th>\n",
       "      <td>0.7133</td>\n",
       "    </tr>\n",
       "    <tr>\n",
       "      <th>35</th>\n",
       "      <td>-0.9399</td>\n",
       "    </tr>\n",
       "    <tr>\n",
       "      <th>36</th>\n",
       "      <td>-0.9620</td>\n",
       "    </tr>\n",
       "    <tr>\n",
       "      <th>37</th>\n",
       "      <td>-0.9847</td>\n",
       "    </tr>\n",
       "    <tr>\n",
       "      <th>38</th>\n",
       "      <td>0.9838</td>\n",
       "    </tr>\n",
       "    <tr>\n",
       "      <th>39</th>\n",
       "      <td>0.9797</td>\n",
       "    </tr>\n",
       "    <tr>\n",
       "      <th>40</th>\n",
       "      <td>0.0854</td>\n",
       "    </tr>\n",
       "    <tr>\n",
       "      <th>41</th>\n",
       "      <td>0.9858</td>\n",
       "    </tr>\n",
       "    <tr>\n",
       "      <th>42</th>\n",
       "      <td>-0.4678</td>\n",
       "    </tr>\n",
       "    <tr>\n",
       "      <th>43</th>\n",
       "      <td>0.9818</td>\n",
       "    </tr>\n",
       "    <tr>\n",
       "      <th>44</th>\n",
       "      <td>0.9182</td>\n",
       "    </tr>\n",
       "    <tr>\n",
       "      <th>45</th>\n",
       "      <td>0.9401</td>\n",
       "    </tr>\n",
       "    <tr>\n",
       "      <th>46</th>\n",
       "      <td>0.9165</td>\n",
       "    </tr>\n",
       "    <tr>\n",
       "      <th>47</th>\n",
       "      <td>-0.6800</td>\n",
       "    </tr>\n",
       "    <tr>\n",
       "      <th>48</th>\n",
       "      <td>-0.3820</td>\n",
       "    </tr>\n",
       "    <tr>\n",
       "      <th>49</th>\n",
       "      <td>0.2152</td>\n",
       "    </tr>\n",
       "  </tbody>\n",
       "</table>\n",
       "</div>"
      ],
      "text/plain": [
       "         0\n",
       "0  -0.9951\n",
       "1   0.9641\n",
       "2   0.9605\n",
       "3  -0.9213\n",
       "4   0.9744\n",
       "5   0.9828\n",
       "6   0.9022\n",
       "7   0.8596\n",
       "8   0.2362\n",
       "9   0.9149\n",
       "10  0.9482\n",
       "11  0.5223\n",
       "12 -0.9721\n",
       "13  0.3425\n",
       "14  0.6168\n",
       "15 -0.6993\n",
       "16  0.3506\n",
       "17 -0.9868\n",
       "18  0.6518\n",
       "19  0.9450\n",
       "20  0.5425\n",
       "21 -0.9755\n",
       "22  0.7948\n",
       "23  0.8990\n",
       "24 -0.7602\n",
       "25  0.9540\n",
       "26  0.9962\n",
       "27 -0.8481\n",
       "28 -0.9208\n",
       "29 -0.9870\n",
       "30 -0.9907\n",
       "31 -0.6485\n",
       "32 -0.9604\n",
       "33  0.9971\n",
       "34  0.7133\n",
       "35 -0.9399\n",
       "36 -0.9620\n",
       "37 -0.9847\n",
       "38  0.9838\n",
       "39  0.9797\n",
       "40  0.0854\n",
       "41  0.9858\n",
       "42 -0.4678\n",
       "43  0.9818\n",
       "44  0.9182\n",
       "45  0.9401\n",
       "46  0.9165\n",
       "47 -0.6800\n",
       "48 -0.3820\n",
       "49  0.2152"
      ]
     },
     "execution_count": 10,
     "metadata": {},
     "output_type": "execute_result"
    }
   ],
   "source": [
    "data_df = pd.DataFrame(data)\n",
    "data_df"
   ]
  },
  {
   "cell_type": "code",
   "execution_count": 11,
   "id": "10585960-ab08-44a3-bf1f-02e096aa0bd2",
   "metadata": {},
   "outputs": [
    {
     "data": {
      "text/plain": [
       "<AxesSubplot:>"
      ]
     },
     "execution_count": 11,
     "metadata": {},
     "output_type": "execute_result"
    },
    {
     "data": {
      "image/png": "[encoded data removed]",
      "text/plain": [
       "<Figure size 432x288 with 1 Axes>"
      ]
     },
     "metadata": {
      "needs_background": "light"
     },
     "output_type": "display_data"
    }
   ],
   "source": [
    "data_df.plot(kind='line')"
   ]
  },
  {
   "cell_type": "code",
   "execution_count": 12,
   "id": "8c01ff9e-9d4d-455f-a7c2-e64160b7ff71",
   "metadata": {},
   "outputs": [
    {
     "data": {
      "text/html": [
       "<div>\n",
       "<style scoped>\n",
       "    .dataframe tbody tr th:only-of-type {\n",
       "        vertical-align: middle;\n",
       "    }\n",
       "\n",
       "    .dataframe tbody tr th {\n",
       "        vertical-align: top;\n",
       "    }\n",
       "\n",
       "    .dataframe thead th {\n",
       "        text-align: right;\n",
       "    }\n",
       "</style>\n",
       "<table border=\"1\" class=\"dataframe\">\n",
       "  <thead>\n",
       "    <tr style=\"text-align: right;\">\n",
       "      <th></th>\n",
       "      <th>review</th>\n",
       "      <th>sentiment</th>\n",
       "    </tr>\n",
       "  </thead>\n",
       "  <tbody>\n",
       "    <tr>\n",
       "      <th>0</th>\n",
       "      <td>One of the other reviewers has mentioned that ...</td>\n",
       "      <td>positive</td>\n",
       "    </tr>\n",
       "    <tr>\n",
       "      <th>1</th>\n",
       "      <td>A wonderful little production. &lt;br /&gt;&lt;br /&gt;The...</td>\n",
       "      <td>positive</td>\n",
       "    </tr>\n",
       "    <tr>\n",
       "      <th>2</th>\n",
       "      <td>I thought this was a wonderful way to spend ti...</td>\n",
       "      <td>positive</td>\n",
       "    </tr>\n",
       "    <tr>\n",
       "      <th>4</th>\n",
       "      <td>Petter Mattei's \"Love in the Time of Money\" is...</td>\n",
       "      <td>positive</td>\n",
       "    </tr>\n",
       "    <tr>\n",
       "      <th>5</th>\n",
       "      <td>Probably my all-time favorite movie, a story o...</td>\n",
       "      <td>positive</td>\n",
       "    </tr>\n",
       "    <tr>\n",
       "      <th>...</th>\n",
       "      <td>...</td>\n",
       "      <td>...</td>\n",
       "    </tr>\n",
       "    <tr>\n",
       "      <th>49983</th>\n",
       "      <td>I loved it, having been a fan of the original ...</td>\n",
       "      <td>positive</td>\n",
       "    </tr>\n",
       "    <tr>\n",
       "      <th>49985</th>\n",
       "      <td>Imaginary Heroes is clearly the best film of t...</td>\n",
       "      <td>positive</td>\n",
       "    </tr>\n",
       "    <tr>\n",
       "      <th>49989</th>\n",
       "      <td>I got this one a few weeks ago and love it! It...</td>\n",
       "      <td>positive</td>\n",
       "    </tr>\n",
       "    <tr>\n",
       "      <th>49992</th>\n",
       "      <td>John Garfield plays a Marine who is blinded by...</td>\n",
       "      <td>positive</td>\n",
       "    </tr>\n",
       "    <tr>\n",
       "      <th>49995</th>\n",
       "      <td>I thought this movie did a down right good job...</td>\n",
       "      <td>positive</td>\n",
       "    </tr>\n",
       "  </tbody>\n",
       "</table>\n",
       "<p>25000 rows × 2 columns</p>\n",
       "</div>"
      ],
      "text/plain": [
       "                                                  review sentiment\n",
       "0      One of the other reviewers has mentioned that ...  positive\n",
       "1      A wonderful little production. <br /><br />The...  positive\n",
       "2      I thought this was a wonderful way to spend ti...  positive\n",
       "4      Petter Mattei's \"Love in the Time of Money\" is...  positive\n",
       "5      Probably my all-time favorite movie, a story o...  positive\n",
       "...                                                  ...       ...\n",
       "49983  I loved it, having been a fan of the original ...  positive\n",
       "49985  Imaginary Heroes is clearly the best film of t...  positive\n",
       "49989  I got this one a few weeks ago and love it! It...  positive\n",
       "49992  John Garfield plays a Marine who is blinded by...  positive\n",
       "49995  I thought this movie did a down right good job...  positive\n",
       "\n",
       "[25000 rows x 2 columns]"
      ]
     },
     "execution_count": 12,
     "metadata": {},
     "output_type": "execute_result"
    }
   ],
   "source": [
    "grouped = imdb_df.groupby(imdb_df.sentiment)\n",
    "\n",
    "positive = grouped.get_group(\"positive\")\n",
    "positive"
   ]
  },
  {
   "cell_type": "code",
   "execution_count": 13,
   "id": "d809bd4b-3f71-49e3-b749-75147a0a215b",
   "metadata": {},
   "outputs": [
    {
     "name": "stdout",
     "output_type": "stream",
     "text": [
      "Review 0's compound polarity score is -0.9951\n",
      "Review 1's compound polarity score is 0.9641\n",
      "Review 2's compound polarity score is 0.9605\n",
      "Review 3's compound polarity score is 0.9744\n",
      "Review 4's compound polarity score is 0.9828\n",
      "Review 5's compound polarity score is 0.9022\n",
      "Review 6's compound polarity score is 0.9149\n",
      "Review 7's compound polarity score is 0.6168\n",
      "Review 8's compound polarity score is 0.3506\n",
      "Review 9's compound polarity score is 0.6518\n",
      "Review 10's compound polarity score is 0.5425\n",
      "Review 11's compound polarity score is 0.7948\n",
      "Review 12's compound polarity score is 0.954\n",
      "Review 13's compound polarity score is 0.9962\n",
      "Review 14's compound polarity score is -0.987\n",
      "Review 15's compound polarity score is -0.9907\n",
      "Review 16's compound polarity score is -0.6485\n",
      "Review 17's compound polarity score is 0.9971\n",
      "Review 18's compound polarity score is 0.9838\n",
      "Review 19's compound polarity score is 0.9858\n",
      "Review 20's compound polarity score is 0.9182\n",
      "Review 21's compound polarity score is 0.9401\n",
      "Review 22's compound polarity score is -0.382\n",
      "Review 23's compound polarity score is 0.9396\n",
      "Review 24's compound polarity score is 0.9893\n",
      "Review 25's compound polarity score is -0.9274\n",
      "Review 26's compound polarity score is 0.7416\n",
      "Review 27's compound polarity score is -0.8235\n",
      "Review 28's compound polarity score is 0.992\n",
      "Review 29's compound polarity score is 0.7747\n",
      "Review 30's compound polarity score is 0.6803\n",
      "Review 31's compound polarity score is 0.6441\n",
      "Review 32's compound polarity score is 0.9813\n",
      "Review 33's compound polarity score is 0.9847\n",
      "Review 34's compound polarity score is -0.8963\n",
      "Review 35's compound polarity score is 0.8498\n",
      "Review 36's compound polarity score is 0.9714\n",
      "Review 37's compound polarity score is 0.9311\n",
      "Review 38's compound polarity score is 0.9943\n",
      "Review 39's compound polarity score is 0.9818\n",
      "Review 40's compound polarity score is 0.9826\n",
      "Review 41's compound polarity score is 0.9831\n",
      "Review 42's compound polarity score is 0.8956\n",
      "Review 43's compound polarity score is 0.9437\n",
      "Review 44's compound polarity score is -0.4877\n",
      "Review 45's compound polarity score is 0.9865\n",
      "Review 46's compound polarity score is 0.9726\n",
      "Review 47's compound polarity score is 0.9761\n",
      "Review 48's compound polarity score is 0.9566\n",
      "Review 49's compound polarity score is 0.8133\n"
     ]
    }
   ],
   "source": [
    "k = 0\n",
    "posdata = []\n",
    "for index, row in positive.iterrows():\n",
    "    while k < 50:\n",
    "        review = positive[\"review\"].iloc[k]\n",
    "        print('Review ' + str(k) + \"'s compound polarity score is \" + str(sia.polarity_scores(review)[\"compound\"]))\n",
    "        posdata.append(sia.polarity_scores(review)[\"compound\"])\n",
    "        k+=1"
   ]
  },
  {
   "cell_type": "code",
   "execution_count": 14,
   "id": "5b4f0c2c-7fe3-426b-819f-c6426431f1d3",
   "metadata": {},
   "outputs": [
    {
     "data": {
      "text/plain": [
       "<AxesSubplot:>"
      ]
     },
     "execution_count": 14,
     "metadata": {},
     "output_type": "execute_result"
    },
    {
     "data": {
      "image/png": "[encoded data removed]",
      "text/plain": [
       "<Figure size 432x288 with 1 Axes>"
      ]
     },
     "metadata": {
      "needs_background": "light"
     },
     "output_type": "display_data"
    }
   ],
   "source": [
    "posdata_df = pd.DataFrame(posdata)\n",
    "posdata_df.plot(kind='line')"
   ]
  },
  {
   "cell_type": "code",
   "execution_count": 15,
   "id": "b94c1a7c-b535-4b97-a491-17669c13dc8c",
   "metadata": {},
   "outputs": [
    {
     "data": {
      "text/html": [
       "<div>\n",
       "<style scoped>\n",
       "    .dataframe tbody tr th:only-of-type {\n",
       "        vertical-align: middle;\n",
       "    }\n",
       "\n",
       "    .dataframe tbody tr th {\n",
       "        vertical-align: top;\n",
       "    }\n",
       "\n",
       "    .dataframe thead th {\n",
       "        text-align: right;\n",
       "    }\n",
       "</style>\n",
       "<table border=\"1\" class=\"dataframe\">\n",
       "  <thead>\n",
       "    <tr style=\"text-align: right;\">\n",
       "      <th></th>\n",
       "      <th>review</th>\n",
       "      <th>sentiment</th>\n",
       "    </tr>\n",
       "  </thead>\n",
       "  <tbody>\n",
       "    <tr>\n",
       "      <th>3</th>\n",
       "      <td>Basically there's a family where a little boy ...</td>\n",
       "      <td>negative</td>\n",
       "    </tr>\n",
       "    <tr>\n",
       "      <th>7</th>\n",
       "      <td>This show was an amazing, fresh &amp; innovative i...</td>\n",
       "      <td>negative</td>\n",
       "    </tr>\n",
       "    <tr>\n",
       "      <th>8</th>\n",
       "      <td>Encouraged by the positive comments about this...</td>\n",
       "      <td>negative</td>\n",
       "    </tr>\n",
       "    <tr>\n",
       "      <th>10</th>\n",
       "      <td>Phil the Alien is one of those quirky films wh...</td>\n",
       "      <td>negative</td>\n",
       "    </tr>\n",
       "    <tr>\n",
       "      <th>11</th>\n",
       "      <td>I saw this movie when I was about 12 when it c...</td>\n",
       "      <td>negative</td>\n",
       "    </tr>\n",
       "    <tr>\n",
       "      <th>...</th>\n",
       "      <td>...</td>\n",
       "      <td>...</td>\n",
       "    </tr>\n",
       "    <tr>\n",
       "      <th>49994</th>\n",
       "      <td>This is your typical junk comedy.&lt;br /&gt;&lt;br /&gt;T...</td>\n",
       "      <td>negative</td>\n",
       "    </tr>\n",
       "    <tr>\n",
       "      <th>49996</th>\n",
       "      <td>Bad plot, bad dialogue, bad acting, idiotic di...</td>\n",
       "      <td>negative</td>\n",
       "    </tr>\n",
       "    <tr>\n",
       "      <th>49997</th>\n",
       "      <td>I am a Catholic taught in parochial elementary...</td>\n",
       "      <td>negative</td>\n",
       "    </tr>\n",
       "    <tr>\n",
       "      <th>49998</th>\n",
       "      <td>I'm going to have to disagree with the previou...</td>\n",
       "      <td>negative</td>\n",
       "    </tr>\n",
       "    <tr>\n",
       "      <th>49999</th>\n",
       "      <td>No one expects the Star Trek movies to be high...</td>\n",
       "      <td>negative</td>\n",
       "    </tr>\n",
       "  </tbody>\n",
       "</table>\n",
       "<p>25000 rows × 2 columns</p>\n",
       "</div>"
      ],
      "text/plain": [
       "                                                  review sentiment\n",
       "3      Basically there's a family where a little boy ...  negative\n",
       "7      This show was an amazing, fresh & innovative i...  negative\n",
       "8      Encouraged by the positive comments about this...  negative\n",
       "10     Phil the Alien is one of those quirky films wh...  negative\n",
       "11     I saw this movie when I was about 12 when it c...  negative\n",
       "...                                                  ...       ...\n",
       "49994  This is your typical junk comedy.<br /><br />T...  negative\n",
       "49996  Bad plot, bad dialogue, bad acting, idiotic di...  negative\n",
       "49997  I am a Catholic taught in parochial elementary...  negative\n",
       "49998  I'm going to have to disagree with the previou...  negative\n",
       "49999  No one expects the Star Trek movies to be high...  negative\n",
       "\n",
       "[25000 rows x 2 columns]"
      ]
     },
     "execution_count": 15,
     "metadata": {},
     "output_type": "execute_result"
    }
   ],
   "source": [
    "grouped = imdb_df.groupby(imdb_df.sentiment)\n",
    "\n",
    "negative = grouped.get_group(\"negative\")\n",
    "negative"
   ]
  },
  {
   "cell_type": "code",
   "execution_count": 16,
   "id": "643a67b8-19ed-4a96-b1f8-68cfba874ea6",
   "metadata": {},
   "outputs": [
    {
     "name": "stdout",
     "output_type": "stream",
     "text": [
      "Review 0's compound polarity score is -0.9213\n",
      "Review 1's compound polarity score is 0.8596\n",
      "Review 2's compound polarity score is 0.2362\n",
      "Review 3's compound polarity score is 0.9482\n",
      "Review 4's compound polarity score is 0.5223\n",
      "Review 5's compound polarity score is -0.9721\n",
      "Review 6's compound polarity score is 0.3425\n",
      "Review 7's compound polarity score is -0.6993\n",
      "Review 8's compound polarity score is -0.9868\n",
      "Review 9's compound polarity score is 0.945\n",
      "Review 10's compound polarity score is -0.9755\n",
      "Review 11's compound polarity score is 0.899\n",
      "Review 12's compound polarity score is -0.7602\n",
      "Review 13's compound polarity score is -0.8481\n",
      "Review 14's compound polarity score is -0.9208\n",
      "Review 15's compound polarity score is -0.9604\n",
      "Review 16's compound polarity score is 0.7133\n",
      "Review 17's compound polarity score is -0.9399\n",
      "Review 18's compound polarity score is -0.962\n",
      "Review 19's compound polarity score is -0.9847\n",
      "Review 20's compound polarity score is 0.9797\n",
      "Review 21's compound polarity score is 0.0854\n",
      "Review 22's compound polarity score is -0.4678\n",
      "Review 23's compound polarity score is 0.9818\n",
      "Review 24's compound polarity score is 0.9165\n",
      "Review 25's compound polarity score is -0.68\n",
      "Review 26's compound polarity score is 0.2152\n",
      "Review 27's compound polarity score is -0.968\n",
      "Review 28's compound polarity score is -0.3696\n",
      "Review 29's compound polarity score is -0.9477\n",
      "Review 30's compound polarity score is 0.7648\n",
      "Review 31's compound polarity score is 0.9139\n",
      "Review 32's compound polarity score is -0.3699\n",
      "Review 33's compound polarity score is -0.168\n",
      "Review 34's compound polarity score is -0.4442\n",
      "Review 35's compound polarity score is -0.6416\n",
      "Review 36's compound polarity score is 0.9902\n",
      "Review 37's compound polarity score is 0.7073\n",
      "Review 38's compound polarity score is 0.9422\n",
      "Review 39's compound polarity score is 0.9837\n",
      "Review 40's compound polarity score is 0.9852\n",
      "Review 41's compound polarity score is 0.9382\n",
      "Review 42's compound polarity score is -0.9973\n",
      "Review 43's compound polarity score is 0.4082\n",
      "Review 44's compound polarity score is -0.9504\n",
      "Review 45's compound polarity score is -0.8837\n",
      "Review 46's compound polarity score is 0.5907\n",
      "Review 47's compound polarity score is -0.8489\n",
      "Review 48's compound polarity score is -0.9123\n",
      "Review 49's compound polarity score is -0.1012\n"
     ]
    }
   ],
   "source": [
    "k = 0\n",
    "negdata = []\n",
    "for index, row in negative.iterrows():\n",
    "    while k < 50:\n",
    "        review = negative[\"review\"].iloc[k]\n",
    "        print('Review ' + str(k) + \"'s compound polarity score is \" + str(sia.polarity_scores(review)[\"compound\"]))\n",
    "        negdata.append(sia.polarity_scores(review)[\"compound\"])\n",
    "        k+=1"
   ]
  },
  {
   "cell_type": "code",
   "execution_count": 17,
   "id": "e38408aa-ccca-4b36-aaf0-10f18849748f",
   "metadata": {},
   "outputs": [
    {
     "data": {
      "text/plain": [
       "<AxesSubplot:>"
      ]
     },
     "execution_count": 17,
     "metadata": {},
     "output_type": "execute_result"
    },
    {
     "data": {
      "image/png": "[encoded data removed]",
      "text/plain": [
       "<Figure size 432x288 with 1 Axes>"
      ]
     },
     "metadata": {
      "needs_background": "light"
     },
     "output_type": "display_data"
    }
   ],
   "source": [
    "negdata_df = pd.DataFrame(negdata)\n",
    "negdata_df.plot(kind='line')"
   ]
  },
  {
   "cell_type": "code",
   "execution_count": 19,
   "id": "3a32f662-1303-4195-a183-c8910f8bbfeb",
   "metadata": {},
   "outputs": [
    {
     "data": {
      "text/plain": [
       "0    0.58517\n",
       "dtype: float64"
      ]
     },
     "execution_count": 19,
     "metadata": {},
     "output_type": "execute_result"
    }
   ],
   "source": [
    "posdata_df.mean()"
   ]
  },
  {
   "cell_type": "code",
   "execution_count": 20,
   "id": "a0071f9e-0067-452f-88f7-113dfdf6ba4b",
   "metadata": {},
   "outputs": [
    {
     "data": {
      "text/plain": [
       "0   -0.076252\n",
       "dtype: float64"
      ]
     },
     "execution_count": 20,
     "metadata": {},
     "output_type": "execute_result"
    }
   ],
   "source": [
    "negdata_df.mean()"
   ]
  },
  {
   "cell_type": "code",
   "execution_count": 39,
   "id": "a1f86f59-454f-450e-9e32-13553101a59c",
   "metadata": {},
   "outputs": [
    {
     "ename": "TypeError",
     "evalue": "text() missing 1 required positional argument: 's'",
     "output_type": "error",
     "traceback": [
      "\u001b[0;31m---------------------------------------------------------------------------\u001b[0m",
      "\u001b[0;31mTypeError\u001b[0m                                 Traceback (most recent call last)",
      "\u001b[0;32m/tmp/ipykernel_158/3545552077.py\u001b[0m in \u001b[0;36m<module>\u001b[0;34m\u001b[0m\n\u001b[1;32m     18\u001b[0m \u001b[0mplt\u001b[0m\u001b[0;34m.\u001b[0m\u001b[0mlegend\u001b[0m\u001b[0;34m(\u001b[0m\u001b[0;34m)\u001b[0m\u001b[0;34m\u001b[0m\u001b[0;34m\u001b[0m\u001b[0m\n\u001b[1;32m     19\u001b[0m \u001b[0;32mfor\u001b[0m \u001b[0mi\u001b[0m\u001b[0;34m,\u001b[0m \u001b[0mv\u001b[0m \u001b[0;32min\u001b[0m \u001b[0menumerate\u001b[0m\u001b[0;34m(\u001b[0m\u001b[0mx\u001b[0m\u001b[0;34m)\u001b[0m\u001b[0;34m:\u001b[0m\u001b[0;34m\u001b[0m\u001b[0;34m\u001b[0m\u001b[0m\n\u001b[0;32m---> 20\u001b[0;31m     \u001b[0mplt\u001b[0m\u001b[0;34m.\u001b[0m\u001b[0mtext\u001b[0m\u001b[0;34m(\u001b[0m\u001b[0;34m'average positive sentiment'\u001b[0m\u001b[0;34m,\u001b[0m \u001b[0;34m'average negative sentiment'\u001b[0m\u001b[0;34m)\u001b[0m\u001b[0;34m\u001b[0m\u001b[0;34m\u001b[0m\u001b[0m\n\u001b[0m\u001b[1;32m     21\u001b[0m \u001b[0;34m\u001b[0m\u001b[0m\n\u001b[1;32m     22\u001b[0m \u001b[0mplt\u001b[0m\u001b[0;34m.\u001b[0m\u001b[0mshow\u001b[0m\u001b[0;34m(\u001b[0m\u001b[0;34m)\u001b[0m\u001b[0;34m\u001b[0m\u001b[0;34m\u001b[0m\u001b[0m\n",
      "\u001b[0;31mTypeError\u001b[0m: text() missing 1 required positional argument: 's'"
     ]
    },
    {
     "data": {
      "image/png": "[encoded data removed]",
      "text/plain": [
       "<Figure size 432x288 with 1 Axes>"
      ]
     },
     "metadata": {
      "needs_background": "light"
     },
     "output_type": "display_data"
    }
   ],
   "source": [
    "import numpy as np\n",
    "import matplotlib.pyplot as plt\n",
    "   \n",
    "n=1\n",
    "r = np.arange(n)\n",
    "width = 0.25\n",
    "\n",
    "x = [posdata_df.mean(), negdata_df.mean()]\n",
    "  \n",
    "plt.bar(r, posdata_df.mean(), color = 'b',\n",
    "        width = width, edgecolor = 'black',\n",
    "        label='average positive sentiment')\n",
    "plt.bar(r + width, negdata_df.mean(), color = 'r',\n",
    "        width = width, edgecolor = 'black',\n",
    "        label='average negative sentiment')\n",
    "  \n",
    "plt.title(\"Average Sentiment Values\")  \n",
    "plt.legend()\n",
    "for i, v in enumerate(x):\n",
    "    plt.text('average positive sentiment', 'average negative sentiment')\n",
    "  \n",
    "plt.show()"
   ]
  }
 ],
 "metadata": {
  "kernelspec": {
   "display_name": "Python 3 (ipykernel)",
   "language": "python",
   "name": "python3"
  },
  "language_info": {
   "codemirror_mode": {
    "name": "ipython",
    "version": 3
   },
   "file_extension": ".py",
   "mimetype": "text/x-python",
   "name": "python",
   "nbconvert_exporter": "python",
   "pygments_lexer": "ipython3",
   "version": "3.9.6"
  }
 },
 "nbformat": 4,
 "nbformat_minor": 5
}
